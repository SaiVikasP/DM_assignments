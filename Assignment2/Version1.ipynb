{
 "cells": [
  {
   "cell_type": "code",
   "execution_count": 1,
   "id": "7acc808d",
   "metadata": {
    "_cell_guid": "b1076dfc-b9ad-4769-8c92-a6c4dae69d19",
    "_uuid": "8f2839f25d086af736a60e9eeb907d3b93b6e0e5",
    "execution": {
     "iopub.execute_input": "2023-11-30T23:43:47.440482Z",
     "iopub.status.busy": "2023-11-30T23:43:47.439921Z",
     "iopub.status.idle": "2023-11-30T23:43:50.135057Z",
     "shell.execute_reply": "2023-11-30T23:43:50.133822Z"
    },
    "papermill": {
     "duration": 2.705419,
     "end_time": "2023-11-30T23:43:50.137436",
     "exception": false,
     "start_time": "2023-11-30T23:43:47.432017",
     "status": "completed"
    },
    "tags": []
   },
   "outputs": [
    {
     "data": {
      "text/plain": [
       "\"\\nfor dirname, _, filenames in os.walk('/kaggle/input'):\\n    for filename in filenames:\\n        print(os.path.join(dirname, filename))\\n\""
      ]
     },
     "execution_count": 1,
     "metadata": {},
     "output_type": "execute_result"
    }
   ],
   "source": [
    "# This Python 3 environment comes with many helpful analytics libraries installed\n",
    "# It is defined by the kaggle/python Docker image: https://github.com/kaggle/docker-python\n",
    "# For example, here's several helpful packages to load\n",
    "\n",
    "import numpy as np # linear algebra\n",
    "import pandas as pd # data processing, CSV file I/O (e.g. pd.read_csv)\n",
    "import nltk\n",
    "# Input data files are available in the read-only \"../input/\" directory\n",
    "# For example, running this (by clicking run or pressing Shift+Enter) will list all files under the input directory\n",
    "\n",
    "import os\n",
    "'''\n",
    "for dirname, _, filenames in os.walk('/kaggle/input'):\n",
    "    for filename in filenames:\n",
    "        print(os.path.join(dirname, filename))\n",
    "'''\n",
    "# You can write up to 20GB to the current directory (/kaggle/working/) that gets preserved as output when you create a version using \"Save & Run All\" \n",
    "# You can also write temporary files to /kaggle/temp/, but they won't be saved outside of the current session"
   ]
  },
  {
   "cell_type": "code",
   "execution_count": 2,
   "id": "b4cf3ec5",
   "metadata": {
    "execution": {
     "iopub.execute_input": "2023-11-30T23:43:50.152472Z",
     "iopub.status.busy": "2023-11-30T23:43:50.151951Z",
     "iopub.status.idle": "2023-11-30T23:43:50.272447Z",
     "shell.execute_reply": "2023-11-30T23:43:50.271198Z"
    },
    "papermill": {
     "duration": 0.130315,
     "end_time": "2023-11-30T23:43:50.275240",
     "exception": false,
     "start_time": "2023-11-30T23:43:50.144925",
     "status": "completed"
    },
    "tags": []
   },
   "outputs": [],
   "source": [
    "train_essays = pd.read_csv('/kaggle/input/llm-detect-ai-generated-text/train_essays.csv')\n",
    "train_prompts = pd.read_csv('/kaggle/input/llm-detect-ai-generated-text/train_prompts.csv')\n",
    "test_essays = pd.read_csv('/kaggle/input/llm-detect-ai-generated-text/test_essays.csv')"
   ]
  },
  {
   "cell_type": "code",
   "execution_count": 3,
   "id": "4767a895",
   "metadata": {
    "execution": {
     "iopub.execute_input": "2023-11-30T23:43:50.288884Z",
     "iopub.status.busy": "2023-11-30T23:43:50.287723Z",
     "iopub.status.idle": "2023-11-30T23:43:50.292718Z",
     "shell.execute_reply": "2023-11-30T23:43:50.291761Z"
    },
    "papermill": {
     "duration": 0.014224,
     "end_time": "2023-11-30T23:43:50.295117",
     "exception": false,
     "start_time": "2023-11-30T23:43:50.280893",
     "status": "completed"
    },
    "tags": []
   },
   "outputs": [],
   "source": [
    "computer_words = ['the']"
   ]
  },
  {
   "cell_type": "code",
   "execution_count": 4,
   "id": "427e4990",
   "metadata": {
    "execution": {
     "iopub.execute_input": "2023-11-30T23:43:50.308401Z",
     "iopub.status.busy": "2023-11-30T23:43:50.307937Z",
     "iopub.status.idle": "2023-11-30T23:43:50.328969Z",
     "shell.execute_reply": "2023-11-30T23:43:50.327792Z"
    },
    "papermill": {
     "duration": 0.030649,
     "end_time": "2023-11-30T23:43:50.331517",
     "exception": false,
     "start_time": "2023-11-30T23:43:50.300868",
     "status": "completed"
    },
    "tags": []
   },
   "outputs": [
    {
     "data": {
      "text/html": [
       "<div>\n",
       "<style scoped>\n",
       "    .dataframe tbody tr th:only-of-type {\n",
       "        vertical-align: middle;\n",
       "    }\n",
       "\n",
       "    .dataframe tbody tr th {\n",
       "        vertical-align: top;\n",
       "    }\n",
       "\n",
       "    .dataframe thead th {\n",
       "        text-align: right;\n",
       "    }\n",
       "</style>\n",
       "<table border=\"1\" class=\"dataframe\">\n",
       "  <thead>\n",
       "    <tr style=\"text-align: right;\">\n",
       "      <th></th>\n",
       "      <th>id</th>\n",
       "      <th>prompt_id</th>\n",
       "      <th>text</th>\n",
       "      <th>generated</th>\n",
       "    </tr>\n",
       "  </thead>\n",
       "  <tbody>\n",
       "    <tr>\n",
       "      <th>0</th>\n",
       "      <td>0059830c</td>\n",
       "      <td>0</td>\n",
       "      <td>Cars. Cars have been around since they became ...</td>\n",
       "      <td>0</td>\n",
       "    </tr>\n",
       "    <tr>\n",
       "      <th>1</th>\n",
       "      <td>005db917</td>\n",
       "      <td>0</td>\n",
       "      <td>Transportation is a large necessity in most co...</td>\n",
       "      <td>0</td>\n",
       "    </tr>\n",
       "    <tr>\n",
       "      <th>2</th>\n",
       "      <td>008f63e3</td>\n",
       "      <td>0</td>\n",
       "      <td>\"America's love affair with it's vehicles seem...</td>\n",
       "      <td>0</td>\n",
       "    </tr>\n",
       "    <tr>\n",
       "      <th>3</th>\n",
       "      <td>00940276</td>\n",
       "      <td>0</td>\n",
       "      <td>How often do you ride in a car? Do you drive a...</td>\n",
       "      <td>0</td>\n",
       "    </tr>\n",
       "    <tr>\n",
       "      <th>4</th>\n",
       "      <td>00c39458</td>\n",
       "      <td>0</td>\n",
       "      <td>Cars are a wonderful thing. They are perhaps o...</td>\n",
       "      <td>0</td>\n",
       "    </tr>\n",
       "  </tbody>\n",
       "</table>\n",
       "</div>"
      ],
      "text/plain": [
       "         id  prompt_id                                               text  \\\n",
       "0  0059830c          0  Cars. Cars have been around since they became ...   \n",
       "1  005db917          0  Transportation is a large necessity in most co...   \n",
       "2  008f63e3          0  \"America's love affair with it's vehicles seem...   \n",
       "3  00940276          0  How often do you ride in a car? Do you drive a...   \n",
       "4  00c39458          0  Cars are a wonderful thing. They are perhaps o...   \n",
       "\n",
       "   generated  \n",
       "0          0  \n",
       "1          0  \n",
       "2          0  \n",
       "3          0  \n",
       "4          0  "
      ]
     },
     "execution_count": 4,
     "metadata": {},
     "output_type": "execute_result"
    }
   ],
   "source": [
    "train_essays.head()"
   ]
  },
  {
   "cell_type": "code",
   "execution_count": 5,
   "id": "7a3a874a",
   "metadata": {
    "execution": {
     "iopub.execute_input": "2023-11-30T23:43:50.346092Z",
     "iopub.status.busy": "2023-11-30T23:43:50.345135Z",
     "iopub.status.idle": "2023-11-30T23:43:50.357550Z",
     "shell.execute_reply": "2023-11-30T23:43:50.356723Z"
    },
    "papermill": {
     "duration": 0.022191,
     "end_time": "2023-11-30T23:43:50.359874",
     "exception": false,
     "start_time": "2023-11-30T23:43:50.337683",
     "status": "completed"
    },
    "tags": []
   },
   "outputs": [
    {
     "data": {
      "text/html": [
       "<div>\n",
       "<style scoped>\n",
       "    .dataframe tbody tr th:only-of-type {\n",
       "        vertical-align: middle;\n",
       "    }\n",
       "\n",
       "    .dataframe tbody tr th {\n",
       "        vertical-align: top;\n",
       "    }\n",
       "\n",
       "    .dataframe thead th {\n",
       "        text-align: right;\n",
       "    }\n",
       "</style>\n",
       "<table border=\"1\" class=\"dataframe\">\n",
       "  <thead>\n",
       "    <tr style=\"text-align: right;\">\n",
       "      <th></th>\n",
       "      <th>prompt_id</th>\n",
       "      <th>prompt_name</th>\n",
       "      <th>instructions</th>\n",
       "      <th>source_text</th>\n",
       "    </tr>\n",
       "  </thead>\n",
       "  <tbody>\n",
       "    <tr>\n",
       "      <th>0</th>\n",
       "      <td>0</td>\n",
       "      <td>Car-free cities</td>\n",
       "      <td>Write an explanatory essay to inform fellow ci...</td>\n",
       "      <td># In German Suburb, Life Goes On Without Cars ...</td>\n",
       "    </tr>\n",
       "    <tr>\n",
       "      <th>1</th>\n",
       "      <td>1</td>\n",
       "      <td>Does the electoral college work?</td>\n",
       "      <td>Write a letter to your state senator in which ...</td>\n",
       "      <td># What Is the Electoral College? by the Office...</td>\n",
       "    </tr>\n",
       "  </tbody>\n",
       "</table>\n",
       "</div>"
      ],
      "text/plain": [
       "   prompt_id                       prompt_name  \\\n",
       "0          0                   Car-free cities   \n",
       "1          1  Does the electoral college work?   \n",
       "\n",
       "                                        instructions  \\\n",
       "0  Write an explanatory essay to inform fellow ci...   \n",
       "1  Write a letter to your state senator in which ...   \n",
       "\n",
       "                                         source_text  \n",
       "0  # In German Suburb, Life Goes On Without Cars ...  \n",
       "1  # What Is the Electoral College? by the Office...  "
      ]
     },
     "execution_count": 5,
     "metadata": {},
     "output_type": "execute_result"
    }
   ],
   "source": [
    "train_prompts.head()"
   ]
  },
  {
   "cell_type": "code",
   "execution_count": 6,
   "id": "7aa8fe8e",
   "metadata": {
    "execution": {
     "iopub.execute_input": "2023-11-30T23:43:50.374857Z",
     "iopub.status.busy": "2023-11-30T23:43:50.373617Z",
     "iopub.status.idle": "2023-11-30T23:43:50.385147Z",
     "shell.execute_reply": "2023-11-30T23:43:50.384013Z"
    },
    "papermill": {
     "duration": 0.021539,
     "end_time": "2023-11-30T23:43:50.387703",
     "exception": false,
     "start_time": "2023-11-30T23:43:50.366164",
     "status": "completed"
    },
    "tags": []
   },
   "outputs": [
    {
     "data": {
      "text/html": [
       "<div>\n",
       "<style scoped>\n",
       "    .dataframe tbody tr th:only-of-type {\n",
       "        vertical-align: middle;\n",
       "    }\n",
       "\n",
       "    .dataframe tbody tr th {\n",
       "        vertical-align: top;\n",
       "    }\n",
       "\n",
       "    .dataframe thead th {\n",
       "        text-align: right;\n",
       "    }\n",
       "</style>\n",
       "<table border=\"1\" class=\"dataframe\">\n",
       "  <thead>\n",
       "    <tr style=\"text-align: right;\">\n",
       "      <th></th>\n",
       "      <th>id</th>\n",
       "      <th>prompt_id</th>\n",
       "      <th>text</th>\n",
       "    </tr>\n",
       "  </thead>\n",
       "  <tbody>\n",
       "    <tr>\n",
       "      <th>0</th>\n",
       "      <td>0000aaaa</td>\n",
       "      <td>2</td>\n",
       "      <td>Aaa bbb ccc.</td>\n",
       "    </tr>\n",
       "    <tr>\n",
       "      <th>1</th>\n",
       "      <td>1111bbbb</td>\n",
       "      <td>3</td>\n",
       "      <td>Bbb ccc ddd.</td>\n",
       "    </tr>\n",
       "    <tr>\n",
       "      <th>2</th>\n",
       "      <td>2222cccc</td>\n",
       "      <td>4</td>\n",
       "      <td>CCC ddd eee.</td>\n",
       "    </tr>\n",
       "  </tbody>\n",
       "</table>\n",
       "</div>"
      ],
      "text/plain": [
       "         id  prompt_id          text\n",
       "0  0000aaaa          2  Aaa bbb ccc.\n",
       "1  1111bbbb          3  Bbb ccc ddd.\n",
       "2  2222cccc          4  CCC ddd eee."
      ]
     },
     "execution_count": 6,
     "metadata": {},
     "output_type": "execute_result"
    }
   ],
   "source": [
    "test_essays.head()"
   ]
  },
  {
   "cell_type": "code",
   "execution_count": 7,
   "id": "8f26fb0a",
   "metadata": {
    "execution": {
     "iopub.execute_input": "2023-11-30T23:43:50.402297Z",
     "iopub.status.busy": "2023-11-30T23:43:50.401874Z",
     "iopub.status.idle": "2023-11-30T23:44:05.323843Z",
     "shell.execute_reply": "2023-11-30T23:44:05.322527Z"
    },
    "papermill": {
     "duration": 14.932316,
     "end_time": "2023-11-30T23:44:05.326514",
     "exception": false,
     "start_time": "2023-11-30T23:43:50.394198",
     "status": "completed"
    },
    "tags": []
   },
   "outputs": [
    {
     "data": {
      "text/html": [
       "<div>\n",
       "<style scoped>\n",
       "    .dataframe tbody tr th:only-of-type {\n",
       "        vertical-align: middle;\n",
       "    }\n",
       "\n",
       "    .dataframe tbody tr th {\n",
       "        vertical-align: top;\n",
       "    }\n",
       "\n",
       "    .dataframe thead th {\n",
       "        text-align: right;\n",
       "    }\n",
       "</style>\n",
       "<table border=\"1\" class=\"dataframe\">\n",
       "  <thead>\n",
       "    <tr style=\"text-align: right;\">\n",
       "      <th></th>\n",
       "      <th>the</th>\n",
       "      <th>generated</th>\n",
       "      <th>id</th>\n",
       "    </tr>\n",
       "  </thead>\n",
       "  <tbody>\n",
       "    <tr>\n",
       "      <th>0</th>\n",
       "      <td>32</td>\n",
       "      <td>0</td>\n",
       "      <td>0059830c</td>\n",
       "    </tr>\n",
       "    <tr>\n",
       "      <th>1</th>\n",
       "      <td>13</td>\n",
       "      <td>0</td>\n",
       "      <td>005db917</td>\n",
       "    </tr>\n",
       "    <tr>\n",
       "      <th>2</th>\n",
       "      <td>22</td>\n",
       "      <td>0</td>\n",
       "      <td>008f63e3</td>\n",
       "    </tr>\n",
       "    <tr>\n",
       "      <th>3</th>\n",
       "      <td>24</td>\n",
       "      <td>0</td>\n",
       "      <td>00940276</td>\n",
       "    </tr>\n",
       "    <tr>\n",
       "      <th>4</th>\n",
       "      <td>25</td>\n",
       "      <td>0</td>\n",
       "      <td>00c39458</td>\n",
       "    </tr>\n",
       "  </tbody>\n",
       "</table>\n",
       "</div>"
      ],
      "text/plain": [
       "   the  generated        id\n",
       "0   32          0  0059830c\n",
       "1   13          0  005db917\n",
       "2   22          0  008f63e3\n",
       "3   24          0  00940276\n",
       "4   25          0  00c39458"
      ]
     },
     "execution_count": 7,
     "metadata": {},
     "output_type": "execute_result"
    }
   ],
   "source": [
    "fcolumns = computer_words.copy()\n",
    "fcolumns.append('generated')\n",
    "fcolumns.append('id')\n",
    "frequency_dt = pd.DataFrame([],columns=fcolumns)\n",
    "for index,row in train_essays.iterrows():\n",
    "    words = nltk.word_tokenize(row['text'])\n",
    "    fd= nltk.FreqDist(words)\n",
    "    tmp = {}\n",
    "    for i in computer_words:tmp[i] = fd[i]\n",
    "    tmp['generated'] = row['generated']\n",
    "    tmp['id'] = row['id']\n",
    "    frequency_dt.loc[len(frequency_dt)] = tmp\n",
    "frequency_dt.head()"
   ]
  },
  {
   "cell_type": "code",
   "execution_count": 8,
   "id": "6ca6e86d",
   "metadata": {
    "execution": {
     "iopub.execute_input": "2023-11-30T23:44:05.341900Z",
     "iopub.status.busy": "2023-11-30T23:44:05.341477Z",
     "iopub.status.idle": "2023-11-30T23:44:05.461747Z",
     "shell.execute_reply": "2023-11-30T23:44:05.460704Z"
    },
    "papermill": {
     "duration": 0.131209,
     "end_time": "2023-11-30T23:44:05.464619",
     "exception": false,
     "start_time": "2023-11-30T23:44:05.333410",
     "status": "completed"
    },
    "tags": []
   },
   "outputs": [],
   "source": [
    "number = 5\n",
    "counter_w = {}\n",
    "counter_wC = {}\n",
    "counter_C = 0\n",
    "for index,row in frequency_dt.iterrows():\n",
    "    if row['generated']:counter_C+=1\n",
    "    for i in computer_words:\n",
    "        if row[i]>=number:\n",
    "            if i in counter_w.keys():counter_w[i]+=1\n",
    "            else:counter_w[i] = 1\n",
    "            if row['generated']:\n",
    "                if i in counter_wC.keys():counter_wC[i]+=1\n",
    "                else:counter_wC[i] = 1"
   ]
  },
  {
   "cell_type": "code",
   "execution_count": 9,
   "id": "1a9de4e7",
   "metadata": {
    "execution": {
     "iopub.execute_input": "2023-11-30T23:44:05.479860Z",
     "iopub.status.busy": "2023-11-30T23:44:05.479401Z",
     "iopub.status.idle": "2023-11-30T23:44:05.487448Z",
     "shell.execute_reply": "2023-11-30T23:44:05.486118Z"
    },
    "papermill": {
     "duration": 0.018386,
     "end_time": "2023-11-30T23:44:05.489712",
     "exception": false,
     "start_time": "2023-11-30T23:44:05.471326",
     "status": "completed"
    },
    "tags": []
   },
   "outputs": [
    {
     "name": "stdout",
     "output_type": "stream",
     "text": [
      "0.0021770682148040637\n",
      "{'the': 0.9804063860667634}\n",
      "{'the': 1.0}\n"
     ]
    }
   ],
   "source": [
    "total_docs = len(frequency_dt)\n",
    "prob_C = counter_C / total_docs\n",
    "prob_w= {}\n",
    "prob_wC = {}\n",
    "for key,val in counter_w.items():\n",
    "    prob_w[key] = val/total_docs\n",
    "    prob_wC[key] = counter_wC[key] / counter_C\n",
    "print(prob_C)\n",
    "print(prob_w)\n",
    "print(prob_wC)"
   ]
  },
  {
   "cell_type": "code",
   "execution_count": 10,
   "id": "d11ab87f",
   "metadata": {
    "execution": {
     "iopub.execute_input": "2023-11-30T23:44:05.505358Z",
     "iopub.status.busy": "2023-11-30T23:44:05.504916Z",
     "iopub.status.idle": "2023-11-30T23:44:05.511745Z",
     "shell.execute_reply": "2023-11-30T23:44:05.510585Z"
    },
    "papermill": {
     "duration": 0.017556,
     "end_time": "2023-11-30T23:44:05.514173",
     "exception": false,
     "start_time": "2023-11-30T23:44:05.496617",
     "status": "completed"
    },
    "tags": []
   },
   "outputs": [],
   "source": [
    "def model(pa,db,dba):\n",
    "    pb = 1\n",
    "    for key,val in db.items():\n",
    "        pb= pb * val\n",
    "    pba = 1\n",
    "    for key,val in dba.items():\n",
    "        pba = pba*val\n",
    "    \n",
    "    pab = (pba*pa)/pb\n",
    "    return pab"
   ]
  },
  {
   "cell_type": "code",
   "execution_count": 11,
   "id": "a4aec922",
   "metadata": {
    "execution": {
     "iopub.execute_input": "2023-11-30T23:44:05.529629Z",
     "iopub.status.busy": "2023-11-30T23:44:05.529220Z",
     "iopub.status.idle": "2023-11-30T23:44:05.536606Z",
     "shell.execute_reply": "2023-11-30T23:44:05.535559Z"
    },
    "papermill": {
     "duration": 0.017858,
     "end_time": "2023-11-30T23:44:05.538995",
     "exception": false,
     "start_time": "2023-11-30T23:44:05.521137",
     "status": "completed"
    },
    "tags": []
   },
   "outputs": [
    {
     "data": {
      "text/plain": [
       "0.0022205773501110288"
      ]
     },
     "execution_count": 11,
     "metadata": {},
     "output_type": "execute_result"
    }
   ],
   "source": [
    "accuracy = model(prob_C,prob_w,prob_wC)\n",
    "accuracy"
   ]
  },
  {
   "cell_type": "code",
   "execution_count": 12,
   "id": "20aa0ef8",
   "metadata": {
    "execution": {
     "iopub.execute_input": "2023-11-30T23:44:05.555929Z",
     "iopub.status.busy": "2023-11-30T23:44:05.555463Z",
     "iopub.status.idle": "2023-11-30T23:44:05.570042Z",
     "shell.execute_reply": "2023-11-30T23:44:05.568855Z"
    },
    "papermill": {
     "duration": 0.026584,
     "end_time": "2023-11-30T23:44:05.572682",
     "exception": false,
     "start_time": "2023-11-30T23:44:05.546098",
     "status": "completed"
    },
    "tags": []
   },
   "outputs": [
    {
     "data": {
      "text/html": [
       "<div>\n",
       "<style scoped>\n",
       "    .dataframe tbody tr th:only-of-type {\n",
       "        vertical-align: middle;\n",
       "    }\n",
       "\n",
       "    .dataframe tbody tr th {\n",
       "        vertical-align: top;\n",
       "    }\n",
       "\n",
       "    .dataframe thead th {\n",
       "        text-align: right;\n",
       "    }\n",
       "</style>\n",
       "<table border=\"1\" class=\"dataframe\">\n",
       "  <thead>\n",
       "    <tr style=\"text-align: right;\">\n",
       "      <th></th>\n",
       "      <th>the</th>\n",
       "      <th>generated</th>\n",
       "      <th>id</th>\n",
       "    </tr>\n",
       "  </thead>\n",
       "  <tbody>\n",
       "    <tr>\n",
       "      <th>0</th>\n",
       "      <td>32</td>\n",
       "      <td>0.002221</td>\n",
       "      <td>0059830c</td>\n",
       "    </tr>\n",
       "    <tr>\n",
       "      <th>1</th>\n",
       "      <td>13</td>\n",
       "      <td>0.002221</td>\n",
       "      <td>005db917</td>\n",
       "    </tr>\n",
       "    <tr>\n",
       "      <th>2</th>\n",
       "      <td>22</td>\n",
       "      <td>0.002221</td>\n",
       "      <td>008f63e3</td>\n",
       "    </tr>\n",
       "    <tr>\n",
       "      <th>3</th>\n",
       "      <td>24</td>\n",
       "      <td>0.002221</td>\n",
       "      <td>00940276</td>\n",
       "    </tr>\n",
       "    <tr>\n",
       "      <th>4</th>\n",
       "      <td>25</td>\n",
       "      <td>0.002221</td>\n",
       "      <td>00c39458</td>\n",
       "    </tr>\n",
       "  </tbody>\n",
       "</table>\n",
       "</div>"
      ],
      "text/plain": [
       "   the  generated        id\n",
       "0   32   0.002221  0059830c\n",
       "1   13   0.002221  005db917\n",
       "2   22   0.002221  008f63e3\n",
       "3   24   0.002221  00940276\n",
       "4   25   0.002221  00c39458"
      ]
     },
     "execution_count": 12,
     "metadata": {},
     "output_type": "execute_result"
    }
   ],
   "source": [
    "frequency_dt['generated'] = accuracy\n",
    "frequency_dt.head()"
   ]
  },
  {
   "cell_type": "code",
   "execution_count": 13,
   "id": "e38b7e4a",
   "metadata": {
    "execution": {
     "iopub.execute_input": "2023-11-30T23:44:05.588976Z",
     "iopub.status.busy": "2023-11-30T23:44:05.588130Z",
     "iopub.status.idle": "2023-11-30T23:44:05.609902Z",
     "shell.execute_reply": "2023-11-30T23:44:05.608550Z"
    },
    "papermill": {
     "duration": 0.032975,
     "end_time": "2023-11-30T23:44:05.612739",
     "exception": false,
     "start_time": "2023-11-30T23:44:05.579764",
     "status": "completed"
    },
    "tags": []
   },
   "outputs": [],
   "source": [
    "frequency_dt[['id','generated']].to_csv('submission.csv')"
   ]
  },
  {
   "cell_type": "code",
   "execution_count": null,
   "id": "68d8b02e",
   "metadata": {
    "papermill": {
     "duration": 0.006751,
     "end_time": "2023-11-30T23:44:05.626840",
     "exception": false,
     "start_time": "2023-11-30T23:44:05.620089",
     "status": "completed"
    },
    "tags": []
   },
   "outputs": [],
   "source": []
  }
 ],
 "metadata": {
  "kaggle": {
   "accelerator": "none",
   "dataSources": [
    {
     "databundleVersionId": 6888007,
     "sourceId": 61542,
     "sourceType": "competition"
    }
   ],
   "dockerImageVersionId": 30587,
   "isGpuEnabled": false,
   "isInternetEnabled": false,
   "language": "python",
   "sourceType": "notebook"
  },
  "kernelspec": {
   "display_name": "Python 3",
   "language": "python",
   "name": "python3"
  },
  "language_info": {
   "codemirror_mode": {
    "name": "ipython",
    "version": 3
   },
   "file_extension": ".py",
   "mimetype": "text/x-python",
   "name": "python",
   "nbconvert_exporter": "python",
   "pygments_lexer": "ipython3",
   "version": "3.10.12"
  },
  "papermill": {
   "default_parameters": {},
   "duration": 22.42324,
   "end_time": "2023-11-30T23:44:06.356543",
   "environment_variables": {},
   "exception": null,
   "input_path": "__notebook__.ipynb",
   "output_path": "__notebook__.ipynb",
   "parameters": {},
   "start_time": "2023-11-30T23:43:43.933303",
   "version": "2.4.0"
  }
 },
 "nbformat": 4,
 "nbformat_minor": 5
}
