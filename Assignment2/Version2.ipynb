{
 "cells": [
  {
   "cell_type": "code",
   "execution_count": 1,
   "id": "d72a4c15",
   "metadata": {
    "_cell_guid": "b1076dfc-b9ad-4769-8c92-a6c4dae69d19",
    "_uuid": "8f2839f25d086af736a60e9eeb907d3b93b6e0e5",
    "execution": {
     "iopub.execute_input": "2023-12-01T00:01:11.353616Z",
     "iopub.status.busy": "2023-12-01T00:01:11.352954Z",
     "iopub.status.idle": "2023-12-01T00:01:13.798637Z",
     "shell.execute_reply": "2023-12-01T00:01:13.797194Z"
    },
    "papermill": {
     "duration": 2.456656,
     "end_time": "2023-12-01T00:01:13.801416",
     "exception": false,
     "start_time": "2023-12-01T00:01:11.344760",
     "status": "completed"
    },
    "tags": []
   },
   "outputs": [
    {
     "data": {
      "text/plain": [
       "\"\\nfor dirname, _, filenames in os.walk('/kaggle/input'):\\n    for filename in filenames:\\n        print(os.path.join(dirname, filename))\\n\""
      ]
     },
     "execution_count": 1,
     "metadata": {},
     "output_type": "execute_result"
    }
   ],
   "source": [
    "# This Python 3 environment comes with many helpful analytics libraries installed\n",
    "# It is defined by the kaggle/python Docker image: https://github.com/kaggle/docker-python\n",
    "# For example, here's several helpful packages to load\n",
    "\n",
    "import numpy as np # linear algebra\n",
    "import pandas as pd # data processing, CSV file I/O (e.g. pd.read_csv)\n",
    "import nltk\n",
    "# Input data files are available in the read-only \"../input/\" directory\n",
    "# For example, running this (by clicking run or pressing Shift+Enter) will list all files under the input directory\n",
    "\n",
    "import os\n",
    "'''\n",
    "for dirname, _, filenames in os.walk('/kaggle/input'):\n",
    "    for filename in filenames:\n",
    "        print(os.path.join(dirname, filename))\n",
    "'''\n",
    "# You can write up to 20GB to the current directory (/kaggle/working/) that gets preserved as output when you create a version using \"Save & Run All\" \n",
    "# You can also write temporary files to /kaggle/temp/, but they won't be saved outside of the current session"
   ]
  },
  {
   "cell_type": "code",
   "execution_count": 2,
   "id": "83e21620",
   "metadata": {
    "execution": {
     "iopub.execute_input": "2023-12-01T00:01:13.816616Z",
     "iopub.status.busy": "2023-12-01T00:01:13.816075Z",
     "iopub.status.idle": "2023-12-01T00:01:13.940732Z",
     "shell.execute_reply": "2023-12-01T00:01:13.939549Z"
    },
    "papermill": {
     "duration": 0.134448,
     "end_time": "2023-12-01T00:01:13.943518",
     "exception": false,
     "start_time": "2023-12-01T00:01:13.809070",
     "status": "completed"
    },
    "tags": []
   },
   "outputs": [],
   "source": [
    "train_essays = pd.read_csv('/kaggle/input/llm-detect-ai-generated-text/train_essays.csv')\n",
    "train_prompts = pd.read_csv('/kaggle/input/llm-detect-ai-generated-text/train_prompts.csv')\n",
    "test_essays = pd.read_csv('/kaggle/input/llm-detect-ai-generated-text/test_essays.csv')"
   ]
  },
  {
   "cell_type": "code",
   "execution_count": 3,
   "id": "fd5ae81d",
   "metadata": {
    "execution": {
     "iopub.execute_input": "2023-12-01T00:01:13.956884Z",
     "iopub.status.busy": "2023-12-01T00:01:13.956325Z",
     "iopub.status.idle": "2023-12-01T00:01:13.961513Z",
     "shell.execute_reply": "2023-12-01T00:01:13.960460Z"
    },
    "papermill": {
     "duration": 0.014532,
     "end_time": "2023-12-01T00:01:13.963758",
     "exception": false,
     "start_time": "2023-12-01T00:01:13.949226",
     "status": "completed"
    },
    "tags": []
   },
   "outputs": [],
   "source": [
    "computer_words = ['the']"
   ]
  },
  {
   "cell_type": "code",
   "execution_count": 4,
   "id": "909e7f51",
   "metadata": {
    "execution": {
     "iopub.execute_input": "2023-12-01T00:01:13.977257Z",
     "iopub.status.busy": "2023-12-01T00:01:13.976854Z",
     "iopub.status.idle": "2023-12-01T00:01:13.996860Z",
     "shell.execute_reply": "2023-12-01T00:01:13.995851Z"
    },
    "papermill": {
     "duration": 0.029623,
     "end_time": "2023-12-01T00:01:13.999505",
     "exception": false,
     "start_time": "2023-12-01T00:01:13.969882",
     "status": "completed"
    },
    "tags": []
   },
   "outputs": [
    {
     "data": {
      "text/html": [
       "<div>\n",
       "<style scoped>\n",
       "    .dataframe tbody tr th:only-of-type {\n",
       "        vertical-align: middle;\n",
       "    }\n",
       "\n",
       "    .dataframe tbody tr th {\n",
       "        vertical-align: top;\n",
       "    }\n",
       "\n",
       "    .dataframe thead th {\n",
       "        text-align: right;\n",
       "    }\n",
       "</style>\n",
       "<table border=\"1\" class=\"dataframe\">\n",
       "  <thead>\n",
       "    <tr style=\"text-align: right;\">\n",
       "      <th></th>\n",
       "      <th>id</th>\n",
       "      <th>prompt_id</th>\n",
       "      <th>text</th>\n",
       "      <th>generated</th>\n",
       "    </tr>\n",
       "  </thead>\n",
       "  <tbody>\n",
       "    <tr>\n",
       "      <th>0</th>\n",
       "      <td>0059830c</td>\n",
       "      <td>0</td>\n",
       "      <td>Cars. Cars have been around since they became ...</td>\n",
       "      <td>0</td>\n",
       "    </tr>\n",
       "    <tr>\n",
       "      <th>1</th>\n",
       "      <td>005db917</td>\n",
       "      <td>0</td>\n",
       "      <td>Transportation is a large necessity in most co...</td>\n",
       "      <td>0</td>\n",
       "    </tr>\n",
       "    <tr>\n",
       "      <th>2</th>\n",
       "      <td>008f63e3</td>\n",
       "      <td>0</td>\n",
       "      <td>\"America's love affair with it's vehicles seem...</td>\n",
       "      <td>0</td>\n",
       "    </tr>\n",
       "    <tr>\n",
       "      <th>3</th>\n",
       "      <td>00940276</td>\n",
       "      <td>0</td>\n",
       "      <td>How often do you ride in a car? Do you drive a...</td>\n",
       "      <td>0</td>\n",
       "    </tr>\n",
       "    <tr>\n",
       "      <th>4</th>\n",
       "      <td>00c39458</td>\n",
       "      <td>0</td>\n",
       "      <td>Cars are a wonderful thing. They are perhaps o...</td>\n",
       "      <td>0</td>\n",
       "    </tr>\n",
       "  </tbody>\n",
       "</table>\n",
       "</div>"
      ],
      "text/plain": [
       "         id  prompt_id                                               text  \\\n",
       "0  0059830c          0  Cars. Cars have been around since they became ...   \n",
       "1  005db917          0  Transportation is a large necessity in most co...   \n",
       "2  008f63e3          0  \"America's love affair with it's vehicles seem...   \n",
       "3  00940276          0  How often do you ride in a car? Do you drive a...   \n",
       "4  00c39458          0  Cars are a wonderful thing. They are perhaps o...   \n",
       "\n",
       "   generated  \n",
       "0          0  \n",
       "1          0  \n",
       "2          0  \n",
       "3          0  \n",
       "4          0  "
      ]
     },
     "execution_count": 4,
     "metadata": {},
     "output_type": "execute_result"
    }
   ],
   "source": [
    "train_essays.head()"
   ]
  },
  {
   "cell_type": "code",
   "execution_count": 5,
   "id": "d336eb31",
   "metadata": {
    "execution": {
     "iopub.execute_input": "2023-12-01T00:01:14.013377Z",
     "iopub.status.busy": "2023-12-01T00:01:14.012361Z",
     "iopub.status.idle": "2023-12-01T00:01:14.024581Z",
     "shell.execute_reply": "2023-12-01T00:01:14.023450Z"
    },
    "papermill": {
     "duration": 0.021775,
     "end_time": "2023-12-01T00:01:14.027041",
     "exception": false,
     "start_time": "2023-12-01T00:01:14.005266",
     "status": "completed"
    },
    "tags": []
   },
   "outputs": [
    {
     "data": {
      "text/html": [
       "<div>\n",
       "<style scoped>\n",
       "    .dataframe tbody tr th:only-of-type {\n",
       "        vertical-align: middle;\n",
       "    }\n",
       "\n",
       "    .dataframe tbody tr th {\n",
       "        vertical-align: top;\n",
       "    }\n",
       "\n",
       "    .dataframe thead th {\n",
       "        text-align: right;\n",
       "    }\n",
       "</style>\n",
       "<table border=\"1\" class=\"dataframe\">\n",
       "  <thead>\n",
       "    <tr style=\"text-align: right;\">\n",
       "      <th></th>\n",
       "      <th>prompt_id</th>\n",
       "      <th>prompt_name</th>\n",
       "      <th>instructions</th>\n",
       "      <th>source_text</th>\n",
       "    </tr>\n",
       "  </thead>\n",
       "  <tbody>\n",
       "    <tr>\n",
       "      <th>0</th>\n",
       "      <td>0</td>\n",
       "      <td>Car-free cities</td>\n",
       "      <td>Write an explanatory essay to inform fellow ci...</td>\n",
       "      <td># In German Suburb, Life Goes On Without Cars ...</td>\n",
       "    </tr>\n",
       "    <tr>\n",
       "      <th>1</th>\n",
       "      <td>1</td>\n",
       "      <td>Does the electoral college work?</td>\n",
       "      <td>Write a letter to your state senator in which ...</td>\n",
       "      <td># What Is the Electoral College? by the Office...</td>\n",
       "    </tr>\n",
       "  </tbody>\n",
       "</table>\n",
       "</div>"
      ],
      "text/plain": [
       "   prompt_id                       prompt_name  \\\n",
       "0          0                   Car-free cities   \n",
       "1          1  Does the electoral college work?   \n",
       "\n",
       "                                        instructions  \\\n",
       "0  Write an explanatory essay to inform fellow ci...   \n",
       "1  Write a letter to your state senator in which ...   \n",
       "\n",
       "                                         source_text  \n",
       "0  # In German Suburb, Life Goes On Without Cars ...  \n",
       "1  # What Is the Electoral College? by the Office...  "
      ]
     },
     "execution_count": 5,
     "metadata": {},
     "output_type": "execute_result"
    }
   ],
   "source": [
    "train_prompts.head()"
   ]
  },
  {
   "cell_type": "code",
   "execution_count": 6,
   "id": "a3003c3c",
   "metadata": {
    "execution": {
     "iopub.execute_input": "2023-12-01T00:01:14.040917Z",
     "iopub.status.busy": "2023-12-01T00:01:14.040480Z",
     "iopub.status.idle": "2023-12-01T00:01:14.051915Z",
     "shell.execute_reply": "2023-12-01T00:01:14.050615Z"
    },
    "papermill": {
     "duration": 0.020874,
     "end_time": "2023-12-01T00:01:14.054098",
     "exception": false,
     "start_time": "2023-12-01T00:01:14.033224",
     "status": "completed"
    },
    "tags": []
   },
   "outputs": [
    {
     "data": {
      "text/html": [
       "<div>\n",
       "<style scoped>\n",
       "    .dataframe tbody tr th:only-of-type {\n",
       "        vertical-align: middle;\n",
       "    }\n",
       "\n",
       "    .dataframe tbody tr th {\n",
       "        vertical-align: top;\n",
       "    }\n",
       "\n",
       "    .dataframe thead th {\n",
       "        text-align: right;\n",
       "    }\n",
       "</style>\n",
       "<table border=\"1\" class=\"dataframe\">\n",
       "  <thead>\n",
       "    <tr style=\"text-align: right;\">\n",
       "      <th></th>\n",
       "      <th>id</th>\n",
       "      <th>prompt_id</th>\n",
       "      <th>text</th>\n",
       "    </tr>\n",
       "  </thead>\n",
       "  <tbody>\n",
       "    <tr>\n",
       "      <th>0</th>\n",
       "      <td>0000aaaa</td>\n",
       "      <td>2</td>\n",
       "      <td>Aaa bbb ccc.</td>\n",
       "    </tr>\n",
       "    <tr>\n",
       "      <th>1</th>\n",
       "      <td>1111bbbb</td>\n",
       "      <td>3</td>\n",
       "      <td>Bbb ccc ddd.</td>\n",
       "    </tr>\n",
       "    <tr>\n",
       "      <th>2</th>\n",
       "      <td>2222cccc</td>\n",
       "      <td>4</td>\n",
       "      <td>CCC ddd eee.</td>\n",
       "    </tr>\n",
       "  </tbody>\n",
       "</table>\n",
       "</div>"
      ],
      "text/plain": [
       "         id  prompt_id          text\n",
       "0  0000aaaa          2  Aaa bbb ccc.\n",
       "1  1111bbbb          3  Bbb ccc ddd.\n",
       "2  2222cccc          4  CCC ddd eee."
      ]
     },
     "execution_count": 6,
     "metadata": {},
     "output_type": "execute_result"
    }
   ],
   "source": [
    "test_essays.head()"
   ]
  },
  {
   "cell_type": "code",
   "execution_count": 7,
   "id": "8833ada9",
   "metadata": {
    "execution": {
     "iopub.execute_input": "2023-12-01T00:01:14.069150Z",
     "iopub.status.busy": "2023-12-01T00:01:14.068072Z",
     "iopub.status.idle": "2023-12-01T00:01:28.976301Z",
     "shell.execute_reply": "2023-12-01T00:01:28.975186Z"
    },
    "papermill": {
     "duration": 14.918559,
     "end_time": "2023-12-01T00:01:28.979005",
     "exception": false,
     "start_time": "2023-12-01T00:01:14.060446",
     "status": "completed"
    },
    "tags": []
   },
   "outputs": [
    {
     "data": {
      "text/html": [
       "<div>\n",
       "<style scoped>\n",
       "    .dataframe tbody tr th:only-of-type {\n",
       "        vertical-align: middle;\n",
       "    }\n",
       "\n",
       "    .dataframe tbody tr th {\n",
       "        vertical-align: top;\n",
       "    }\n",
       "\n",
       "    .dataframe thead th {\n",
       "        text-align: right;\n",
       "    }\n",
       "</style>\n",
       "<table border=\"1\" class=\"dataframe\">\n",
       "  <thead>\n",
       "    <tr style=\"text-align: right;\">\n",
       "      <th></th>\n",
       "      <th>the</th>\n",
       "      <th>generated</th>\n",
       "      <th>id</th>\n",
       "    </tr>\n",
       "  </thead>\n",
       "  <tbody>\n",
       "    <tr>\n",
       "      <th>0</th>\n",
       "      <td>32</td>\n",
       "      <td>0</td>\n",
       "      <td>0059830c</td>\n",
       "    </tr>\n",
       "    <tr>\n",
       "      <th>1</th>\n",
       "      <td>13</td>\n",
       "      <td>0</td>\n",
       "      <td>005db917</td>\n",
       "    </tr>\n",
       "    <tr>\n",
       "      <th>2</th>\n",
       "      <td>22</td>\n",
       "      <td>0</td>\n",
       "      <td>008f63e3</td>\n",
       "    </tr>\n",
       "    <tr>\n",
       "      <th>3</th>\n",
       "      <td>24</td>\n",
       "      <td>0</td>\n",
       "      <td>00940276</td>\n",
       "    </tr>\n",
       "    <tr>\n",
       "      <th>4</th>\n",
       "      <td>25</td>\n",
       "      <td>0</td>\n",
       "      <td>00c39458</td>\n",
       "    </tr>\n",
       "  </tbody>\n",
       "</table>\n",
       "</div>"
      ],
      "text/plain": [
       "   the  generated        id\n",
       "0   32          0  0059830c\n",
       "1   13          0  005db917\n",
       "2   22          0  008f63e3\n",
       "3   24          0  00940276\n",
       "4   25          0  00c39458"
      ]
     },
     "execution_count": 7,
     "metadata": {},
     "output_type": "execute_result"
    }
   ],
   "source": [
    "fcolumns = computer_words.copy()\n",
    "fcolumns.append('generated')\n",
    "fcolumns.append('id')\n",
    "frequency_dt = pd.DataFrame([],columns=fcolumns)\n",
    "for index,row in train_essays.iterrows():\n",
    "    words = nltk.word_tokenize(row['text'])\n",
    "    fd= nltk.FreqDist(words)\n",
    "    tmp = {}\n",
    "    for i in computer_words:tmp[i] = fd[i]\n",
    "    tmp['generated'] = row['generated']\n",
    "    tmp['id'] = row['id']\n",
    "    frequency_dt.loc[len(frequency_dt)] = tmp\n",
    "frequency_dt.head()"
   ]
  },
  {
   "cell_type": "code",
   "execution_count": 8,
   "id": "dac8d91e",
   "metadata": {
    "execution": {
     "iopub.execute_input": "2023-12-01T00:01:28.994474Z",
     "iopub.status.busy": "2023-12-01T00:01:28.993790Z",
     "iopub.status.idle": "2023-12-01T00:01:29.111234Z",
     "shell.execute_reply": "2023-12-01T00:01:29.109920Z"
    },
    "papermill": {
     "duration": 0.128515,
     "end_time": "2023-12-01T00:01:29.114195",
     "exception": false,
     "start_time": "2023-12-01T00:01:28.985680",
     "status": "completed"
    },
    "tags": []
   },
   "outputs": [],
   "source": [
    "number = 5\n",
    "counter_w = {}\n",
    "counter_wC = {}\n",
    "counter_C = 0\n",
    "for index,row in frequency_dt.iterrows():\n",
    "    if row['generated']:counter_C+=1\n",
    "    for i in computer_words:\n",
    "        if row[i]>=number:\n",
    "            if i in counter_w.keys():counter_w[i]+=1\n",
    "            else:counter_w[i] = 1\n",
    "            if row['generated']:\n",
    "                if i in counter_wC.keys():counter_wC[i]+=1\n",
    "                else:counter_wC[i] = 1"
   ]
  },
  {
   "cell_type": "code",
   "execution_count": 9,
   "id": "18f3777a",
   "metadata": {
    "execution": {
     "iopub.execute_input": "2023-12-01T00:01:29.128954Z",
     "iopub.status.busy": "2023-12-01T00:01:29.128539Z",
     "iopub.status.idle": "2023-12-01T00:01:29.136257Z",
     "shell.execute_reply": "2023-12-01T00:01:29.135051Z"
    },
    "papermill": {
     "duration": 0.018056,
     "end_time": "2023-12-01T00:01:29.138800",
     "exception": false,
     "start_time": "2023-12-01T00:01:29.120744",
     "status": "completed"
    },
    "tags": []
   },
   "outputs": [
    {
     "name": "stdout",
     "output_type": "stream",
     "text": [
      "0.0021770682148040637\n",
      "{'the': 0.9804063860667634}\n",
      "{'the': 1.0}\n"
     ]
    }
   ],
   "source": [
    "total_docs = len(frequency_dt)\n",
    "prob_C = counter_C / total_docs\n",
    "prob_w= {}\n",
    "prob_wC = {}\n",
    "for key,val in counter_w.items():\n",
    "    prob_w[key] = val/total_docs\n",
    "    prob_wC[key] = counter_wC[key] / counter_C\n",
    "print(prob_C)\n",
    "print(prob_w)\n",
    "print(prob_wC)"
   ]
  },
  {
   "cell_type": "code",
   "execution_count": 10,
   "id": "12071462",
   "metadata": {
    "execution": {
     "iopub.execute_input": "2023-12-01T00:01:29.154022Z",
     "iopub.status.busy": "2023-12-01T00:01:29.153621Z",
     "iopub.status.idle": "2023-12-01T00:01:29.159632Z",
     "shell.execute_reply": "2023-12-01T00:01:29.158540Z"
    },
    "papermill": {
     "duration": 0.01646,
     "end_time": "2023-12-01T00:01:29.162057",
     "exception": false,
     "start_time": "2023-12-01T00:01:29.145597",
     "status": "completed"
    },
    "tags": []
   },
   "outputs": [],
   "source": [
    "def model(pa,db,dba):\n",
    "    pb = 1\n",
    "    for key,val in db.items():\n",
    "        pb= pb * val\n",
    "    pba = 1\n",
    "    for key,val in dba.items():\n",
    "        pba = pba*val\n",
    "    \n",
    "    pab = (pba*pa)/pb\n",
    "    return pab"
   ]
  },
  {
   "cell_type": "code",
   "execution_count": 11,
   "id": "903daad8",
   "metadata": {
    "execution": {
     "iopub.execute_input": "2023-12-01T00:01:29.177227Z",
     "iopub.status.busy": "2023-12-01T00:01:29.176789Z",
     "iopub.status.idle": "2023-12-01T00:01:29.184584Z",
     "shell.execute_reply": "2023-12-01T00:01:29.183428Z"
    },
    "papermill": {
     "duration": 0.018144,
     "end_time": "2023-12-01T00:01:29.186940",
     "exception": false,
     "start_time": "2023-12-01T00:01:29.168796",
     "status": "completed"
    },
    "tags": []
   },
   "outputs": [
    {
     "data": {
      "text/plain": [
       "0.0022205773501110288"
      ]
     },
     "execution_count": 11,
     "metadata": {},
     "output_type": "execute_result"
    }
   ],
   "source": [
    "accuracy = model(prob_C,prob_w,prob_wC)\n",
    "accuracy"
   ]
  },
  {
   "cell_type": "code",
   "execution_count": 12,
   "id": "ec77c7fe",
   "metadata": {
    "execution": {
     "iopub.execute_input": "2023-12-01T00:01:29.203272Z",
     "iopub.status.busy": "2023-12-01T00:01:29.202837Z",
     "iopub.status.idle": "2023-12-01T00:01:29.223279Z",
     "shell.execute_reply": "2023-12-01T00:01:29.222478Z"
    },
    "papermill": {
     "duration": 0.03133,
     "end_time": "2023-12-01T00:01:29.225552",
     "exception": false,
     "start_time": "2023-12-01T00:01:29.194222",
     "status": "completed"
    },
    "tags": []
   },
   "outputs": [
    {
     "data": {
      "text/html": [
       "<div>\n",
       "<style scoped>\n",
       "    .dataframe tbody tr th:only-of-type {\n",
       "        vertical-align: middle;\n",
       "    }\n",
       "\n",
       "    .dataframe tbody tr th {\n",
       "        vertical-align: top;\n",
       "    }\n",
       "\n",
       "    .dataframe thead th {\n",
       "        text-align: right;\n",
       "    }\n",
       "</style>\n",
       "<table border=\"1\" class=\"dataframe\">\n",
       "  <thead>\n",
       "    <tr style=\"text-align: right;\">\n",
       "      <th></th>\n",
       "      <th>id</th>\n",
       "      <th>generated</th>\n",
       "    </tr>\n",
       "  </thead>\n",
       "  <tbody>\n",
       "    <tr>\n",
       "      <th>0</th>\n",
       "      <td>0000aaaa</td>\n",
       "      <td>0.002221</td>\n",
       "    </tr>\n",
       "    <tr>\n",
       "      <th>1</th>\n",
       "      <td>1111bbbb</td>\n",
       "      <td>0.002221</td>\n",
       "    </tr>\n",
       "    <tr>\n",
       "      <th>2</th>\n",
       "      <td>2222cccc</td>\n",
       "      <td>0.002221</td>\n",
       "    </tr>\n",
       "  </tbody>\n",
       "</table>\n",
       "</div>"
      ],
      "text/plain": [
       "         id  generated\n",
       "0  0000aaaa   0.002221\n",
       "1  1111bbbb   0.002221\n",
       "2  2222cccc   0.002221"
      ]
     },
     "execution_count": 12,
     "metadata": {},
     "output_type": "execute_result"
    }
   ],
   "source": [
    "test_dt = pd.DataFrame([],columns=['id','generated'])\n",
    "for index,row in test_essays.iterrows():\n",
    "    test_dt.loc[len(test_dt)] = [row['id'],accuracy]\n",
    "test_dt.head()"
   ]
  },
  {
   "cell_type": "code",
   "execution_count": 13,
   "id": "9eb8032c",
   "metadata": {
    "execution": {
     "iopub.execute_input": "2023-12-01T00:01:29.242167Z",
     "iopub.status.busy": "2023-12-01T00:01:29.241801Z",
     "iopub.status.idle": "2023-12-01T00:01:29.248820Z",
     "shell.execute_reply": "2023-12-01T00:01:29.247767Z"
    },
    "papermill": {
     "duration": 0.018481,
     "end_time": "2023-12-01T00:01:29.251249",
     "exception": false,
     "start_time": "2023-12-01T00:01:29.232768",
     "status": "completed"
    },
    "tags": []
   },
   "outputs": [],
   "source": [
    "test_dt.to_csv('submission.csv')"
   ]
  },
  {
   "cell_type": "code",
   "execution_count": null,
   "id": "555eee9e",
   "metadata": {
    "papermill": {
     "duration": 0.006672,
     "end_time": "2023-12-01T00:01:29.264999",
     "exception": false,
     "start_time": "2023-12-01T00:01:29.258327",
     "status": "completed"
    },
    "tags": []
   },
   "outputs": [],
   "source": []
  }
 ],
 "metadata": {
  "kaggle": {
   "accelerator": "none",
   "dataSources": [
    {
     "databundleVersionId": 6888007,
     "sourceId": 61542,
     "sourceType": "competition"
    }
   ],
   "dockerImageVersionId": 30587,
   "isGpuEnabled": false,
   "isInternetEnabled": false,
   "language": "python",
   "sourceType": "notebook"
  },
  "kernelspec": {
   "display_name": "Python 3",
   "language": "python",
   "name": "python3"
  },
  "language_info": {
   "codemirror_mode": {
    "name": "ipython",
    "version": 3
   },
   "file_extension": ".py",
   "mimetype": "text/x-python",
   "name": "python",
   "nbconvert_exporter": "python",
   "pygments_lexer": "ipython3",
   "version": "3.10.12"
  },
  "papermill": {
   "default_parameters": {},
   "duration": 22.021749,
   "end_time": "2023-12-01T00:01:29.895589",
   "environment_variables": {},
   "exception": null,
   "input_path": "__notebook__.ipynb",
   "output_path": "__notebook__.ipynb",
   "parameters": {},
   "start_time": "2023-12-01T00:01:07.873840",
   "version": "2.4.0"
  }
 },
 "nbformat": 4,
 "nbformat_minor": 5
}
