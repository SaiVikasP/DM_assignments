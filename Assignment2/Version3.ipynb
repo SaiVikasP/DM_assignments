{
 "cells": [
  {
   "cell_type": "code",
   "execution_count": 1,
   "id": "b5728f4b",
   "metadata": {
    "_cell_guid": "b1076dfc-b9ad-4769-8c92-a6c4dae69d19",
    "_uuid": "8f2839f25d086af736a60e9eeb907d3b93b6e0e5",
    "execution": {
     "iopub.execute_input": "2023-12-01T00:22:05.254573Z",
     "iopub.status.busy": "2023-12-01T00:22:05.254125Z",
     "iopub.status.idle": "2023-12-01T00:22:07.789872Z",
     "shell.execute_reply": "2023-12-01T00:22:07.788634Z"
    },
    "papermill": {
     "duration": 2.546903,
     "end_time": "2023-12-01T00:22:07.793297",
     "exception": false,
     "start_time": "2023-12-01T00:22:05.246394",
     "status": "completed"
    },
    "tags": []
   },
   "outputs": [
    {
     "data": {
      "text/plain": [
       "\"\\nfor dirname, _, filenames in os.walk('/kaggle/input'):\\n    for filename in filenames:\\n        print(os.path.join(dirname, filename))\\n\""
      ]
     },
     "execution_count": 1,
     "metadata": {},
     "output_type": "execute_result"
    }
   ],
   "source": [
    "# This Python 3 environment comes with many helpful analytics libraries installed\n",
    "# It is defined by the kaggle/python Docker image: https://github.com/kaggle/docker-python\n",
    "# For example, here's several helpful packages to load\n",
    "\n",
    "import numpy as np # linear algebra\n",
    "import pandas as pd # data processing, CSV file I/O (e.g. pd.read_csv)\n",
    "import nltk\n",
    "# Input data files are available in the read-only \"../input/\" directory\n",
    "# For example, running this (by clicking run or pressing Shift+Enter) will list all files under the input directory\n",
    "\n",
    "import os\n",
    "'''\n",
    "for dirname, _, filenames in os.walk('/kaggle/input'):\n",
    "    for filename in filenames:\n",
    "        print(os.path.join(dirname, filename))\n",
    "'''\n",
    "# You can write up to 20GB to the current directory (/kaggle/working/) that gets preserved as output when you create a version using \"Save & Run All\" \n",
    "# You can also write temporary files to /kaggle/temp/, but they won't be saved outside of the current session"
   ]
  },
  {
   "cell_type": "code",
   "execution_count": 2,
   "id": "c85633a1",
   "metadata": {
    "execution": {
     "iopub.execute_input": "2023-12-01T00:22:07.808741Z",
     "iopub.status.busy": "2023-12-01T00:22:07.808096Z",
     "iopub.status.idle": "2023-12-01T00:22:07.947104Z",
     "shell.execute_reply": "2023-12-01T00:22:07.945847Z"
    },
    "papermill": {
     "duration": 0.148953,
     "end_time": "2023-12-01T00:22:07.950029",
     "exception": false,
     "start_time": "2023-12-01T00:22:07.801076",
     "status": "completed"
    },
    "tags": []
   },
   "outputs": [],
   "source": [
    "train_essays = pd.read_csv('/kaggle/input/llm-detect-ai-generated-text/train_essays.csv')\n",
    "train_prompts = pd.read_csv('/kaggle/input/llm-detect-ai-generated-text/train_prompts.csv')\n",
    "test_essays = pd.read_csv('/kaggle/input/llm-detect-ai-generated-text/test_essays.csv')"
   ]
  },
  {
   "cell_type": "code",
   "execution_count": 3,
   "id": "8cb47763",
   "metadata": {
    "execution": {
     "iopub.execute_input": "2023-12-01T00:22:07.963373Z",
     "iopub.status.busy": "2023-12-01T00:22:07.962917Z",
     "iopub.status.idle": "2023-12-01T00:22:07.968607Z",
     "shell.execute_reply": "2023-12-01T00:22:07.967080Z"
    },
    "papermill": {
     "duration": 0.015127,
     "end_time": "2023-12-01T00:22:07.971091",
     "exception": false,
     "start_time": "2023-12-01T00:22:07.955964",
     "status": "completed"
    },
    "tags": []
   },
   "outputs": [],
   "source": [
    "computer_words = ['the']"
   ]
  },
  {
   "cell_type": "code",
   "execution_count": 4,
   "id": "37f78e2e",
   "metadata": {
    "execution": {
     "iopub.execute_input": "2023-12-01T00:22:07.983910Z",
     "iopub.status.busy": "2023-12-01T00:22:07.983350Z",
     "iopub.status.idle": "2023-12-01T00:22:08.005919Z",
     "shell.execute_reply": "2023-12-01T00:22:08.004654Z"
    },
    "papermill": {
     "duration": 0.031791,
     "end_time": "2023-12-01T00:22:08.008498",
     "exception": false,
     "start_time": "2023-12-01T00:22:07.976707",
     "status": "completed"
    },
    "tags": []
   },
   "outputs": [
    {
     "data": {
      "text/html": [
       "<div>\n",
       "<style scoped>\n",
       "    .dataframe tbody tr th:only-of-type {\n",
       "        vertical-align: middle;\n",
       "    }\n",
       "\n",
       "    .dataframe tbody tr th {\n",
       "        vertical-align: top;\n",
       "    }\n",
       "\n",
       "    .dataframe thead th {\n",
       "        text-align: right;\n",
       "    }\n",
       "</style>\n",
       "<table border=\"1\" class=\"dataframe\">\n",
       "  <thead>\n",
       "    <tr style=\"text-align: right;\">\n",
       "      <th></th>\n",
       "      <th>id</th>\n",
       "      <th>prompt_id</th>\n",
       "      <th>text</th>\n",
       "      <th>generated</th>\n",
       "    </tr>\n",
       "  </thead>\n",
       "  <tbody>\n",
       "    <tr>\n",
       "      <th>0</th>\n",
       "      <td>0059830c</td>\n",
       "      <td>0</td>\n",
       "      <td>Cars. Cars have been around since they became ...</td>\n",
       "      <td>0</td>\n",
       "    </tr>\n",
       "    <tr>\n",
       "      <th>1</th>\n",
       "      <td>005db917</td>\n",
       "      <td>0</td>\n",
       "      <td>Transportation is a large necessity in most co...</td>\n",
       "      <td>0</td>\n",
       "    </tr>\n",
       "    <tr>\n",
       "      <th>2</th>\n",
       "      <td>008f63e3</td>\n",
       "      <td>0</td>\n",
       "      <td>\"America's love affair with it's vehicles seem...</td>\n",
       "      <td>0</td>\n",
       "    </tr>\n",
       "    <tr>\n",
       "      <th>3</th>\n",
       "      <td>00940276</td>\n",
       "      <td>0</td>\n",
       "      <td>How often do you ride in a car? Do you drive a...</td>\n",
       "      <td>0</td>\n",
       "    </tr>\n",
       "    <tr>\n",
       "      <th>4</th>\n",
       "      <td>00c39458</td>\n",
       "      <td>0</td>\n",
       "      <td>Cars are a wonderful thing. They are perhaps o...</td>\n",
       "      <td>0</td>\n",
       "    </tr>\n",
       "  </tbody>\n",
       "</table>\n",
       "</div>"
      ],
      "text/plain": [
       "         id  prompt_id                                               text  \\\n",
       "0  0059830c          0  Cars. Cars have been around since they became ...   \n",
       "1  005db917          0  Transportation is a large necessity in most co...   \n",
       "2  008f63e3          0  \"America's love affair with it's vehicles seem...   \n",
       "3  00940276          0  How often do you ride in a car? Do you drive a...   \n",
       "4  00c39458          0  Cars are a wonderful thing. They are perhaps o...   \n",
       "\n",
       "   generated  \n",
       "0          0  \n",
       "1          0  \n",
       "2          0  \n",
       "3          0  \n",
       "4          0  "
      ]
     },
     "execution_count": 4,
     "metadata": {},
     "output_type": "execute_result"
    }
   ],
   "source": [
    "train_essays.head()"
   ]
  },
  {
   "cell_type": "code",
   "execution_count": 5,
   "id": "c1828ca6",
   "metadata": {
    "execution": {
     "iopub.execute_input": "2023-12-01T00:22:08.022245Z",
     "iopub.status.busy": "2023-12-01T00:22:08.021819Z",
     "iopub.status.idle": "2023-12-01T00:22:08.034460Z",
     "shell.execute_reply": "2023-12-01T00:22:08.033193Z"
    },
    "papermill": {
     "duration": 0.022249,
     "end_time": "2023-12-01T00:22:08.036571",
     "exception": false,
     "start_time": "2023-12-01T00:22:08.014322",
     "status": "completed"
    },
    "tags": []
   },
   "outputs": [
    {
     "data": {
      "text/html": [
       "<div>\n",
       "<style scoped>\n",
       "    .dataframe tbody tr th:only-of-type {\n",
       "        vertical-align: middle;\n",
       "    }\n",
       "\n",
       "    .dataframe tbody tr th {\n",
       "        vertical-align: top;\n",
       "    }\n",
       "\n",
       "    .dataframe thead th {\n",
       "        text-align: right;\n",
       "    }\n",
       "</style>\n",
       "<table border=\"1\" class=\"dataframe\">\n",
       "  <thead>\n",
       "    <tr style=\"text-align: right;\">\n",
       "      <th></th>\n",
       "      <th>prompt_id</th>\n",
       "      <th>prompt_name</th>\n",
       "      <th>instructions</th>\n",
       "      <th>source_text</th>\n",
       "    </tr>\n",
       "  </thead>\n",
       "  <tbody>\n",
       "    <tr>\n",
       "      <th>0</th>\n",
       "      <td>0</td>\n",
       "      <td>Car-free cities</td>\n",
       "      <td>Write an explanatory essay to inform fellow ci...</td>\n",
       "      <td># In German Suburb, Life Goes On Without Cars ...</td>\n",
       "    </tr>\n",
       "    <tr>\n",
       "      <th>1</th>\n",
       "      <td>1</td>\n",
       "      <td>Does the electoral college work?</td>\n",
       "      <td>Write a letter to your state senator in which ...</td>\n",
       "      <td># What Is the Electoral College? by the Office...</td>\n",
       "    </tr>\n",
       "  </tbody>\n",
       "</table>\n",
       "</div>"
      ],
      "text/plain": [
       "   prompt_id                       prompt_name  \\\n",
       "0          0                   Car-free cities   \n",
       "1          1  Does the electoral college work?   \n",
       "\n",
       "                                        instructions  \\\n",
       "0  Write an explanatory essay to inform fellow ci...   \n",
       "1  Write a letter to your state senator in which ...   \n",
       "\n",
       "                                         source_text  \n",
       "0  # In German Suburb, Life Goes On Without Cars ...  \n",
       "1  # What Is the Electoral College? by the Office...  "
      ]
     },
     "execution_count": 5,
     "metadata": {},
     "output_type": "execute_result"
    }
   ],
   "source": [
    "train_prompts.head()"
   ]
  },
  {
   "cell_type": "code",
   "execution_count": 6,
   "id": "98029c66",
   "metadata": {
    "execution": {
     "iopub.execute_input": "2023-12-01T00:22:08.051112Z",
     "iopub.status.busy": "2023-12-01T00:22:08.050220Z",
     "iopub.status.idle": "2023-12-01T00:22:08.060867Z",
     "shell.execute_reply": "2023-12-01T00:22:08.059643Z"
    },
    "papermill": {
     "duration": 0.02026,
     "end_time": "2023-12-01T00:22:08.063218",
     "exception": false,
     "start_time": "2023-12-01T00:22:08.042958",
     "status": "completed"
    },
    "tags": []
   },
   "outputs": [
    {
     "data": {
      "text/html": [
       "<div>\n",
       "<style scoped>\n",
       "    .dataframe tbody tr th:only-of-type {\n",
       "        vertical-align: middle;\n",
       "    }\n",
       "\n",
       "    .dataframe tbody tr th {\n",
       "        vertical-align: top;\n",
       "    }\n",
       "\n",
       "    .dataframe thead th {\n",
       "        text-align: right;\n",
       "    }\n",
       "</style>\n",
       "<table border=\"1\" class=\"dataframe\">\n",
       "  <thead>\n",
       "    <tr style=\"text-align: right;\">\n",
       "      <th></th>\n",
       "      <th>id</th>\n",
       "      <th>prompt_id</th>\n",
       "      <th>text</th>\n",
       "    </tr>\n",
       "  </thead>\n",
       "  <tbody>\n",
       "    <tr>\n",
       "      <th>0</th>\n",
       "      <td>0000aaaa</td>\n",
       "      <td>2</td>\n",
       "      <td>Aaa bbb ccc.</td>\n",
       "    </tr>\n",
       "    <tr>\n",
       "      <th>1</th>\n",
       "      <td>1111bbbb</td>\n",
       "      <td>3</td>\n",
       "      <td>Bbb ccc ddd.</td>\n",
       "    </tr>\n",
       "    <tr>\n",
       "      <th>2</th>\n",
       "      <td>2222cccc</td>\n",
       "      <td>4</td>\n",
       "      <td>CCC ddd eee.</td>\n",
       "    </tr>\n",
       "  </tbody>\n",
       "</table>\n",
       "</div>"
      ],
      "text/plain": [
       "         id  prompt_id          text\n",
       "0  0000aaaa          2  Aaa bbb ccc.\n",
       "1  1111bbbb          3  Bbb ccc ddd.\n",
       "2  2222cccc          4  CCC ddd eee."
      ]
     },
     "execution_count": 6,
     "metadata": {},
     "output_type": "execute_result"
    }
   ],
   "source": [
    "test_essays.head()"
   ]
  },
  {
   "cell_type": "code",
   "execution_count": 7,
   "id": "1ab07802",
   "metadata": {
    "execution": {
     "iopub.execute_input": "2023-12-01T00:22:08.077950Z",
     "iopub.status.busy": "2023-12-01T00:22:08.077549Z",
     "iopub.status.idle": "2023-12-01T00:22:22.643826Z",
     "shell.execute_reply": "2023-12-01T00:22:22.642405Z"
    },
    "papermill": {
     "duration": 14.576648,
     "end_time": "2023-12-01T00:22:22.646396",
     "exception": false,
     "start_time": "2023-12-01T00:22:08.069748",
     "status": "completed"
    },
    "tags": []
   },
   "outputs": [
    {
     "data": {
      "text/html": [
       "<div>\n",
       "<style scoped>\n",
       "    .dataframe tbody tr th:only-of-type {\n",
       "        vertical-align: middle;\n",
       "    }\n",
       "\n",
       "    .dataframe tbody tr th {\n",
       "        vertical-align: top;\n",
       "    }\n",
       "\n",
       "    .dataframe thead th {\n",
       "        text-align: right;\n",
       "    }\n",
       "</style>\n",
       "<table border=\"1\" class=\"dataframe\">\n",
       "  <thead>\n",
       "    <tr style=\"text-align: right;\">\n",
       "      <th></th>\n",
       "      <th>the</th>\n",
       "      <th>generated</th>\n",
       "      <th>id</th>\n",
       "    </tr>\n",
       "  </thead>\n",
       "  <tbody>\n",
       "    <tr>\n",
       "      <th>0</th>\n",
       "      <td>32</td>\n",
       "      <td>0</td>\n",
       "      <td>0059830c</td>\n",
       "    </tr>\n",
       "    <tr>\n",
       "      <th>1</th>\n",
       "      <td>13</td>\n",
       "      <td>0</td>\n",
       "      <td>005db917</td>\n",
       "    </tr>\n",
       "    <tr>\n",
       "      <th>2</th>\n",
       "      <td>22</td>\n",
       "      <td>0</td>\n",
       "      <td>008f63e3</td>\n",
       "    </tr>\n",
       "    <tr>\n",
       "      <th>3</th>\n",
       "      <td>24</td>\n",
       "      <td>0</td>\n",
       "      <td>00940276</td>\n",
       "    </tr>\n",
       "    <tr>\n",
       "      <th>4</th>\n",
       "      <td>25</td>\n",
       "      <td>0</td>\n",
       "      <td>00c39458</td>\n",
       "    </tr>\n",
       "  </tbody>\n",
       "</table>\n",
       "</div>"
      ],
      "text/plain": [
       "   the  generated        id\n",
       "0   32          0  0059830c\n",
       "1   13          0  005db917\n",
       "2   22          0  008f63e3\n",
       "3   24          0  00940276\n",
       "4   25          0  00c39458"
      ]
     },
     "execution_count": 7,
     "metadata": {},
     "output_type": "execute_result"
    }
   ],
   "source": [
    "fcolumns = computer_words.copy()\n",
    "fcolumns.append('generated')\n",
    "fcolumns.append('id')\n",
    "frequency_dt = pd.DataFrame([],columns=fcolumns)\n",
    "for index,row in train_essays.iterrows():\n",
    "    words = nltk.word_tokenize(row['text'])\n",
    "    fd= nltk.FreqDist(words)\n",
    "    tmp = {}\n",
    "    for i in computer_words:tmp[i] = fd[i]\n",
    "    tmp['generated'] = row['generated']\n",
    "    tmp['id'] = row['id']\n",
    "    frequency_dt.loc[len(frequency_dt)] = tmp\n",
    "frequency_dt.head()"
   ]
  },
  {
   "cell_type": "code",
   "execution_count": 8,
   "id": "d70b46dc",
   "metadata": {
    "execution": {
     "iopub.execute_input": "2023-12-01T00:22:22.661363Z",
     "iopub.status.busy": "2023-12-01T00:22:22.660975Z",
     "iopub.status.idle": "2023-12-01T00:22:22.778941Z",
     "shell.execute_reply": "2023-12-01T00:22:22.777676Z"
    },
    "papermill": {
     "duration": 0.128937,
     "end_time": "2023-12-01T00:22:22.782075",
     "exception": false,
     "start_time": "2023-12-01T00:22:22.653138",
     "status": "completed"
    },
    "tags": []
   },
   "outputs": [],
   "source": [
    "number = 5\n",
    "counter_w = {}\n",
    "counter_wC = {}\n",
    "counter_C = 0\n",
    "for index,row in frequency_dt.iterrows():\n",
    "    if row['generated']:counter_C+=1\n",
    "    for i in computer_words:\n",
    "        if row[i]>=number:\n",
    "            if i in counter_w.keys():counter_w[i]+=1\n",
    "            else:counter_w[i] = 1\n",
    "            if row['generated']:\n",
    "                if i in counter_wC.keys():counter_wC[i]+=1\n",
    "                else:counter_wC[i] = 1"
   ]
  },
  {
   "cell_type": "code",
   "execution_count": 9,
   "id": "9bca4e32",
   "metadata": {
    "execution": {
     "iopub.execute_input": "2023-12-01T00:22:22.798724Z",
     "iopub.status.busy": "2023-12-01T00:22:22.797852Z",
     "iopub.status.idle": "2023-12-01T00:22:22.805977Z",
     "shell.execute_reply": "2023-12-01T00:22:22.804933Z"
    },
    "papermill": {
     "duration": 0.018641,
     "end_time": "2023-12-01T00:22:22.808103",
     "exception": false,
     "start_time": "2023-12-01T00:22:22.789462",
     "status": "completed"
    },
    "tags": []
   },
   "outputs": [
    {
     "name": "stdout",
     "output_type": "stream",
     "text": [
      "0.0021770682148040637\n",
      "{'the': 0.9804063860667634}\n",
      "{'the': 1.0}\n"
     ]
    }
   ],
   "source": [
    "total_docs = len(frequency_dt)\n",
    "prob_C = counter_C / total_docs\n",
    "prob_w= {}\n",
    "prob_wC = {}\n",
    "for key,val in counter_w.items():\n",
    "    prob_w[key] = val/total_docs\n",
    "    prob_wC[key] = counter_wC[key] / counter_C\n",
    "print(prob_C)\n",
    "print(prob_w)\n",
    "print(prob_wC)"
   ]
  },
  {
   "cell_type": "code",
   "execution_count": 10,
   "id": "acf033a3",
   "metadata": {
    "execution": {
     "iopub.execute_input": "2023-12-01T00:22:22.824690Z",
     "iopub.status.busy": "2023-12-01T00:22:22.824016Z",
     "iopub.status.idle": "2023-12-01T00:22:22.830331Z",
     "shell.execute_reply": "2023-12-01T00:22:22.829528Z"
    },
    "papermill": {
     "duration": 0.017171,
     "end_time": "2023-12-01T00:22:22.832507",
     "exception": false,
     "start_time": "2023-12-01T00:22:22.815336",
     "status": "completed"
    },
    "tags": []
   },
   "outputs": [],
   "source": [
    "def model(pa,db,dba):\n",
    "    pb = 1\n",
    "    for key,val in db.items():\n",
    "        pb= pb * val\n",
    "    pba = 1\n",
    "    for key,val in dba.items():\n",
    "        pba = pba*val\n",
    "    \n",
    "    pab = (pba*pa)/pb\n",
    "    return pab"
   ]
  },
  {
   "cell_type": "code",
   "execution_count": 11,
   "id": "f9991cd5",
   "metadata": {
    "execution": {
     "iopub.execute_input": "2023-12-01T00:22:22.847524Z",
     "iopub.status.busy": "2023-12-01T00:22:22.846949Z",
     "iopub.status.idle": "2023-12-01T00:22:22.853506Z",
     "shell.execute_reply": "2023-12-01T00:22:22.852529Z"
    },
    "papermill": {
     "duration": 0.016593,
     "end_time": "2023-12-01T00:22:22.855658",
     "exception": false,
     "start_time": "2023-12-01T00:22:22.839065",
     "status": "completed"
    },
    "tags": []
   },
   "outputs": [
    {
     "data": {
      "text/plain": [
       "0.0022205773501110288"
      ]
     },
     "execution_count": 11,
     "metadata": {},
     "output_type": "execute_result"
    }
   ],
   "source": [
    "accuracy = model(prob_C,prob_w,prob_wC)\n",
    "accuracy"
   ]
  },
  {
   "cell_type": "code",
   "execution_count": 12,
   "id": "aac7f71f",
   "metadata": {
    "execution": {
     "iopub.execute_input": "2023-12-01T00:22:22.871055Z",
     "iopub.status.busy": "2023-12-01T00:22:22.870403Z",
     "iopub.status.idle": "2023-12-01T00:22:22.891653Z",
     "shell.execute_reply": "2023-12-01T00:22:22.890415Z"
    },
    "papermill": {
     "duration": 0.031929,
     "end_time": "2023-12-01T00:22:22.894253",
     "exception": false,
     "start_time": "2023-12-01T00:22:22.862324",
     "status": "completed"
    },
    "tags": []
   },
   "outputs": [
    {
     "data": {
      "text/html": [
       "<div>\n",
       "<style scoped>\n",
       "    .dataframe tbody tr th:only-of-type {\n",
       "        vertical-align: middle;\n",
       "    }\n",
       "\n",
       "    .dataframe tbody tr th {\n",
       "        vertical-align: top;\n",
       "    }\n",
       "\n",
       "    .dataframe thead th {\n",
       "        text-align: right;\n",
       "    }\n",
       "</style>\n",
       "<table border=\"1\" class=\"dataframe\">\n",
       "  <thead>\n",
       "    <tr style=\"text-align: right;\">\n",
       "      <th></th>\n",
       "      <th>id</th>\n",
       "      <th>generated</th>\n",
       "    </tr>\n",
       "  </thead>\n",
       "  <tbody>\n",
       "    <tr>\n",
       "      <th>0</th>\n",
       "      <td>0000aaaa</td>\n",
       "      <td>0.002221</td>\n",
       "    </tr>\n",
       "    <tr>\n",
       "      <th>1</th>\n",
       "      <td>1111bbbb</td>\n",
       "      <td>0.002221</td>\n",
       "    </tr>\n",
       "    <tr>\n",
       "      <th>2</th>\n",
       "      <td>2222cccc</td>\n",
       "      <td>0.002221</td>\n",
       "    </tr>\n",
       "  </tbody>\n",
       "</table>\n",
       "</div>"
      ],
      "text/plain": [
       "         id  generated\n",
       "0  0000aaaa   0.002221\n",
       "1  1111bbbb   0.002221\n",
       "2  2222cccc   0.002221"
      ]
     },
     "execution_count": 12,
     "metadata": {},
     "output_type": "execute_result"
    }
   ],
   "source": [
    "test_dt = pd.DataFrame([],columns=['id','generated'])\n",
    "for index,row in test_essays.iterrows():\n",
    "    test_dt.loc[len(test_dt)] = [row['id'],accuracy]\n",
    "test_dt.head()"
   ]
  },
  {
   "cell_type": "code",
   "execution_count": 13,
   "id": "85dc702a",
   "metadata": {
    "execution": {
     "iopub.execute_input": "2023-12-01T00:22:22.910607Z",
     "iopub.status.busy": "2023-12-01T00:22:22.909848Z",
     "iopub.status.idle": "2023-12-01T00:22:22.918102Z",
     "shell.execute_reply": "2023-12-01T00:22:22.917300Z"
    },
    "papermill": {
     "duration": 0.019099,
     "end_time": "2023-12-01T00:22:22.920475",
     "exception": false,
     "start_time": "2023-12-01T00:22:22.901376",
     "status": "completed"
    },
    "tags": []
   },
   "outputs": [],
   "source": [
    "test_dt.to_csv('submission.csv',index=False)"
   ]
  },
  {
   "cell_type": "code",
   "execution_count": null,
   "id": "fc65cb1b",
   "metadata": {
    "papermill": {
     "duration": 0.007079,
     "end_time": "2023-12-01T00:22:22.935338",
     "exception": false,
     "start_time": "2023-12-01T00:22:22.928259",
     "status": "completed"
    },
    "tags": []
   },
   "outputs": [],
   "source": []
  }
 ],
 "metadata": {
  "kaggle": {
   "accelerator": "none",
   "dataSources": [
    {
     "databundleVersionId": 6888007,
     "sourceId": 61542,
     "sourceType": "competition"
    }
   ],
   "dockerImageVersionId": 30587,
   "isGpuEnabled": false,
   "isInternetEnabled": false,
   "language": "python",
   "sourceType": "notebook"
  },
  "kernelspec": {
   "display_name": "Python 3",
   "language": "python",
   "name": "python3"
  },
  "language_info": {
   "codemirror_mode": {
    "name": "ipython",
    "version": 3
   },
   "file_extension": ".py",
   "mimetype": "text/x-python",
   "name": "python",
   "nbconvert_exporter": "python",
   "pygments_lexer": "ipython3",
   "version": "3.10.12"
  },
  "papermill": {
   "default_parameters": {},
   "duration": 22.084101,
   "end_time": "2023-12-01T00:22:23.866885",
   "environment_variables": {},
   "exception": null,
   "input_path": "__notebook__.ipynb",
   "output_path": "__notebook__.ipynb",
   "parameters": {},
   "start_time": "2023-12-01T00:22:01.782784",
   "version": "2.4.0"
  }
 },
 "nbformat": 4,
 "nbformat_minor": 5
}
