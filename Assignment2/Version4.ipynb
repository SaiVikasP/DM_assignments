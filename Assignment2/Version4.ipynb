{
 "cells": [
  {
   "cell_type": "code",
   "execution_count": 1,
   "id": "e3c3f952",
   "metadata": {
    "_cell_guid": "b1076dfc-b9ad-4769-8c92-a6c4dae69d19",
    "_uuid": "8f2839f25d086af736a60e9eeb907d3b93b6e0e5",
    "execution": {
     "iopub.execute_input": "2023-12-03T01:29:50.143180Z",
     "iopub.status.busy": "2023-12-03T01:29:50.142675Z",
     "iopub.status.idle": "2023-12-03T01:29:52.332711Z",
     "shell.execute_reply": "2023-12-03T01:29:52.331886Z"
    },
    "papermill": {
     "duration": 2.198241,
     "end_time": "2023-12-03T01:29:52.334748",
     "exception": false,
     "start_time": "2023-12-03T01:29:50.136507",
     "status": "completed"
    },
    "tags": []
   },
   "outputs": [
    {
     "data": {
      "text/plain": [
       "\"\\nfor dirname, _, filenames in os.walk('/kaggle/input'):\\n    for filename in filenames:\\n        print(os.path.join(dirname, filename))\\n\""
      ]
     },
     "execution_count": 1,
     "metadata": {},
     "output_type": "execute_result"
    }
   ],
   "source": [
    "# This Python 3 environment comes with many helpful analytics libraries installed\n",
    "# It is defined by the kaggle/python Docker image: https://github.com/kaggle/docker-python\n",
    "# For example, here's several helpful packages to load\n",
    "\n",
    "import numpy as np # linear algebra\n",
    "import pandas as pd # data processing, CSV file I/O (e.g. pd.read_csv)\n",
    "import nltk\n",
    "# Input data files are available in the read-only \"../input/\" directory\n",
    "# For example, running this (by clicking run or pressing Shift+Enter) will list all files under the input directory\n",
    "\n",
    "import os\n",
    "'''\n",
    "for dirname, _, filenames in os.walk('/kaggle/input'):\n",
    "    for filename in filenames:\n",
    "        print(os.path.join(dirname, filename))\n",
    "'''\n",
    "# You can write up to 20GB to the current directory (/kaggle/working/) that gets preserved as output when you create a version using \"Save & Run All\" \n",
    "# You can also write temporary files to /kaggle/temp/, but they won't be saved outside of the current session"
   ]
  },
  {
   "cell_type": "code",
   "execution_count": 2,
   "id": "dff28a16",
   "metadata": {
    "execution": {
     "iopub.execute_input": "2023-12-03T01:29:52.347356Z",
     "iopub.status.busy": "2023-12-03T01:29:52.346514Z",
     "iopub.status.idle": "2023-12-03T01:29:52.481122Z",
     "shell.execute_reply": "2023-12-03T01:29:52.480303Z"
    },
    "papermill": {
     "duration": 0.14253,
     "end_time": "2023-12-03T01:29:52.483469",
     "exception": false,
     "start_time": "2023-12-03T01:29:52.340939",
     "status": "completed"
    },
    "tags": []
   },
   "outputs": [],
   "source": [
    "train_essays = pd.read_csv('/kaggle/input/llm-detect-ai-generated-text/train_essays.csv')\n",
    "train_prompts = pd.read_csv('/kaggle/input/llm-detect-ai-generated-text/train_prompts.csv')\n",
    "test_essays = pd.read_csv('/kaggle/input/llm-detect-ai-generated-text/test_essays.csv')"
   ]
  },
  {
   "cell_type": "code",
   "execution_count": 3,
   "id": "8d4b7a74",
   "metadata": {
    "execution": {
     "iopub.execute_input": "2023-12-03T01:29:52.493660Z",
     "iopub.status.busy": "2023-12-03T01:29:52.493063Z",
     "iopub.status.idle": "2023-12-03T01:29:52.497507Z",
     "shell.execute_reply": "2023-12-03T01:29:52.496600Z"
    },
    "papermill": {
     "duration": 0.012182,
     "end_time": "2023-12-03T01:29:52.499862",
     "exception": false,
     "start_time": "2023-12-03T01:29:52.487680",
     "status": "completed"
    },
    "tags": []
   },
   "outputs": [],
   "source": [
    "computer_words = ['the','for','would','not','will','is','I','because','of','in','to','can','should','him','her','could','like','a','an','over','under']"
   ]
  },
  {
   "cell_type": "code",
   "execution_count": 4,
   "id": "6348ff53",
   "metadata": {
    "execution": {
     "iopub.execute_input": "2023-12-03T01:29:52.509810Z",
     "iopub.status.busy": "2023-12-03T01:29:52.509444Z",
     "iopub.status.idle": "2023-12-03T01:29:52.528675Z",
     "shell.execute_reply": "2023-12-03T01:29:52.527863Z"
    },
    "papermill": {
     "duration": 0.026555,
     "end_time": "2023-12-03T01:29:52.530600",
     "exception": false,
     "start_time": "2023-12-03T01:29:52.504045",
     "status": "completed"
    },
    "tags": []
   },
   "outputs": [
    {
     "data": {
      "text/html": [
       "<div>\n",
       "<style scoped>\n",
       "    .dataframe tbody tr th:only-of-type {\n",
       "        vertical-align: middle;\n",
       "    }\n",
       "\n",
       "    .dataframe tbody tr th {\n",
       "        vertical-align: top;\n",
       "    }\n",
       "\n",
       "    .dataframe thead th {\n",
       "        text-align: right;\n",
       "    }\n",
       "</style>\n",
       "<table border=\"1\" class=\"dataframe\">\n",
       "  <thead>\n",
       "    <tr style=\"text-align: right;\">\n",
       "      <th></th>\n",
       "      <th>id</th>\n",
       "      <th>prompt_id</th>\n",
       "      <th>text</th>\n",
       "      <th>generated</th>\n",
       "    </tr>\n",
       "  </thead>\n",
       "  <tbody>\n",
       "    <tr>\n",
       "      <th>0</th>\n",
       "      <td>0059830c</td>\n",
       "      <td>0</td>\n",
       "      <td>Cars. Cars have been around since they became ...</td>\n",
       "      <td>0</td>\n",
       "    </tr>\n",
       "    <tr>\n",
       "      <th>1</th>\n",
       "      <td>005db917</td>\n",
       "      <td>0</td>\n",
       "      <td>Transportation is a large necessity in most co...</td>\n",
       "      <td>0</td>\n",
       "    </tr>\n",
       "    <tr>\n",
       "      <th>2</th>\n",
       "      <td>008f63e3</td>\n",
       "      <td>0</td>\n",
       "      <td>\"America's love affair with it's vehicles seem...</td>\n",
       "      <td>0</td>\n",
       "    </tr>\n",
       "    <tr>\n",
       "      <th>3</th>\n",
       "      <td>00940276</td>\n",
       "      <td>0</td>\n",
       "      <td>How often do you ride in a car? Do you drive a...</td>\n",
       "      <td>0</td>\n",
       "    </tr>\n",
       "    <tr>\n",
       "      <th>4</th>\n",
       "      <td>00c39458</td>\n",
       "      <td>0</td>\n",
       "      <td>Cars are a wonderful thing. They are perhaps o...</td>\n",
       "      <td>0</td>\n",
       "    </tr>\n",
       "  </tbody>\n",
       "</table>\n",
       "</div>"
      ],
      "text/plain": [
       "         id  prompt_id                                               text  \\\n",
       "0  0059830c          0  Cars. Cars have been around since they became ...   \n",
       "1  005db917          0  Transportation is a large necessity in most co...   \n",
       "2  008f63e3          0  \"America's love affair with it's vehicles seem...   \n",
       "3  00940276          0  How often do you ride in a car? Do you drive a...   \n",
       "4  00c39458          0  Cars are a wonderful thing. They are perhaps o...   \n",
       "\n",
       "   generated  \n",
       "0          0  \n",
       "1          0  \n",
       "2          0  \n",
       "3          0  \n",
       "4          0  "
      ]
     },
     "execution_count": 4,
     "metadata": {},
     "output_type": "execute_result"
    }
   ],
   "source": [
    "train_essays.head()"
   ]
  },
  {
   "cell_type": "code",
   "execution_count": 5,
   "id": "c8cde053",
   "metadata": {
    "execution": {
     "iopub.execute_input": "2023-12-03T01:29:52.541595Z",
     "iopub.status.busy": "2023-12-03T01:29:52.540520Z",
     "iopub.status.idle": "2023-12-03T01:29:52.553822Z",
     "shell.execute_reply": "2023-12-03T01:29:52.552726Z"
    },
    "papermill": {
     "duration": 0.021344,
     "end_time": "2023-12-03T01:29:52.556326",
     "exception": false,
     "start_time": "2023-12-03T01:29:52.534982",
     "status": "completed"
    },
    "tags": []
   },
   "outputs": [
    {
     "data": {
      "text/html": [
       "<div>\n",
       "<style scoped>\n",
       "    .dataframe tbody tr th:only-of-type {\n",
       "        vertical-align: middle;\n",
       "    }\n",
       "\n",
       "    .dataframe tbody tr th {\n",
       "        vertical-align: top;\n",
       "    }\n",
       "\n",
       "    .dataframe thead th {\n",
       "        text-align: right;\n",
       "    }\n",
       "</style>\n",
       "<table border=\"1\" class=\"dataframe\">\n",
       "  <thead>\n",
       "    <tr style=\"text-align: right;\">\n",
       "      <th></th>\n",
       "      <th>prompt_id</th>\n",
       "      <th>prompt_name</th>\n",
       "      <th>instructions</th>\n",
       "      <th>source_text</th>\n",
       "    </tr>\n",
       "  </thead>\n",
       "  <tbody>\n",
       "    <tr>\n",
       "      <th>0</th>\n",
       "      <td>0</td>\n",
       "      <td>Car-free cities</td>\n",
       "      <td>Write an explanatory essay to inform fellow ci...</td>\n",
       "      <td># In German Suburb, Life Goes On Without Cars ...</td>\n",
       "    </tr>\n",
       "    <tr>\n",
       "      <th>1</th>\n",
       "      <td>1</td>\n",
       "      <td>Does the electoral college work?</td>\n",
       "      <td>Write a letter to your state senator in which ...</td>\n",
       "      <td># What Is the Electoral College? by the Office...</td>\n",
       "    </tr>\n",
       "  </tbody>\n",
       "</table>\n",
       "</div>"
      ],
      "text/plain": [
       "   prompt_id                       prompt_name  \\\n",
       "0          0                   Car-free cities   \n",
       "1          1  Does the electoral college work?   \n",
       "\n",
       "                                        instructions  \\\n",
       "0  Write an explanatory essay to inform fellow ci...   \n",
       "1  Write a letter to your state senator in which ...   \n",
       "\n",
       "                                         source_text  \n",
       "0  # In German Suburb, Life Goes On Without Cars ...  \n",
       "1  # What Is the Electoral College? by the Office...  "
      ]
     },
     "execution_count": 5,
     "metadata": {},
     "output_type": "execute_result"
    }
   ],
   "source": [
    "train_prompts.head()"
   ]
  },
  {
   "cell_type": "code",
   "execution_count": 6,
   "id": "f6120622",
   "metadata": {
    "execution": {
     "iopub.execute_input": "2023-12-03T01:29:52.567607Z",
     "iopub.status.busy": "2023-12-03T01:29:52.566435Z",
     "iopub.status.idle": "2023-12-03T01:29:52.577299Z",
     "shell.execute_reply": "2023-12-03T01:29:52.576292Z"
    },
    "papermill": {
     "duration": 0.018852,
     "end_time": "2023-12-03T01:29:52.579687",
     "exception": false,
     "start_time": "2023-12-03T01:29:52.560835",
     "status": "completed"
    },
    "tags": []
   },
   "outputs": [
    {
     "data": {
      "text/html": [
       "<div>\n",
       "<style scoped>\n",
       "    .dataframe tbody tr th:only-of-type {\n",
       "        vertical-align: middle;\n",
       "    }\n",
       "\n",
       "    .dataframe tbody tr th {\n",
       "        vertical-align: top;\n",
       "    }\n",
       "\n",
       "    .dataframe thead th {\n",
       "        text-align: right;\n",
       "    }\n",
       "</style>\n",
       "<table border=\"1\" class=\"dataframe\">\n",
       "  <thead>\n",
       "    <tr style=\"text-align: right;\">\n",
       "      <th></th>\n",
       "      <th>id</th>\n",
       "      <th>prompt_id</th>\n",
       "      <th>text</th>\n",
       "    </tr>\n",
       "  </thead>\n",
       "  <tbody>\n",
       "    <tr>\n",
       "      <th>0</th>\n",
       "      <td>0000aaaa</td>\n",
       "      <td>2</td>\n",
       "      <td>Aaa bbb ccc.</td>\n",
       "    </tr>\n",
       "    <tr>\n",
       "      <th>1</th>\n",
       "      <td>1111bbbb</td>\n",
       "      <td>3</td>\n",
       "      <td>Bbb ccc ddd.</td>\n",
       "    </tr>\n",
       "    <tr>\n",
       "      <th>2</th>\n",
       "      <td>2222cccc</td>\n",
       "      <td>4</td>\n",
       "      <td>CCC ddd eee.</td>\n",
       "    </tr>\n",
       "  </tbody>\n",
       "</table>\n",
       "</div>"
      ],
      "text/plain": [
       "         id  prompt_id          text\n",
       "0  0000aaaa          2  Aaa bbb ccc.\n",
       "1  1111bbbb          3  Bbb ccc ddd.\n",
       "2  2222cccc          4  CCC ddd eee."
      ]
     },
     "execution_count": 6,
     "metadata": {},
     "output_type": "execute_result"
    }
   ],
   "source": [
    "test_essays.head()"
   ]
  },
  {
   "cell_type": "code",
   "execution_count": 7,
   "id": "160b8489",
   "metadata": {
    "execution": {
     "iopub.execute_input": "2023-12-03T01:29:52.590760Z",
     "iopub.status.busy": "2023-12-03T01:29:52.590397Z",
     "iopub.status.idle": "2023-12-03T01:30:03.785976Z",
     "shell.execute_reply": "2023-12-03T01:30:03.784878Z"
    },
    "papermill": {
     "duration": 11.203877,
     "end_time": "2023-12-03T01:30:03.788305",
     "exception": false,
     "start_time": "2023-12-03T01:29:52.584428",
     "status": "completed"
    },
    "tags": []
   },
   "outputs": [
    {
     "data": {
      "text/html": [
       "<div>\n",
       "<style scoped>\n",
       "    .dataframe tbody tr th:only-of-type {\n",
       "        vertical-align: middle;\n",
       "    }\n",
       "\n",
       "    .dataframe tbody tr th {\n",
       "        vertical-align: top;\n",
       "    }\n",
       "\n",
       "    .dataframe thead th {\n",
       "        text-align: right;\n",
       "    }\n",
       "</style>\n",
       "<table border=\"1\" class=\"dataframe\">\n",
       "  <thead>\n",
       "    <tr style=\"text-align: right;\">\n",
       "      <th></th>\n",
       "      <th>the</th>\n",
       "      <th>for</th>\n",
       "      <th>would</th>\n",
       "      <th>not</th>\n",
       "      <th>will</th>\n",
       "      <th>is</th>\n",
       "      <th>I</th>\n",
       "      <th>because</th>\n",
       "      <th>of</th>\n",
       "      <th>in</th>\n",
       "      <th>...</th>\n",
       "      <th>him</th>\n",
       "      <th>her</th>\n",
       "      <th>could</th>\n",
       "      <th>like</th>\n",
       "      <th>a</th>\n",
       "      <th>an</th>\n",
       "      <th>over</th>\n",
       "      <th>under</th>\n",
       "      <th>generated</th>\n",
       "      <th>id</th>\n",
       "    </tr>\n",
       "  </thead>\n",
       "  <tbody>\n",
       "    <tr>\n",
       "      <th>0</th>\n",
       "      <td>32</td>\n",
       "      <td>7</td>\n",
       "      <td>3</td>\n",
       "      <td>0</td>\n",
       "      <td>0</td>\n",
       "      <td>4</td>\n",
       "      <td>0</td>\n",
       "      <td>5</td>\n",
       "      <td>23</td>\n",
       "      <td>8</td>\n",
       "      <td>...</td>\n",
       "      <td>0</td>\n",
       "      <td>0</td>\n",
       "      <td>0</td>\n",
       "      <td>4</td>\n",
       "      <td>15</td>\n",
       "      <td>1</td>\n",
       "      <td>0</td>\n",
       "      <td>0</td>\n",
       "      <td>0</td>\n",
       "      <td>0059830c</td>\n",
       "    </tr>\n",
       "    <tr>\n",
       "      <th>1</th>\n",
       "      <td>13</td>\n",
       "      <td>2</td>\n",
       "      <td>6</td>\n",
       "      <td>3</td>\n",
       "      <td>0</td>\n",
       "      <td>5</td>\n",
       "      <td>0</td>\n",
       "      <td>0</td>\n",
       "      <td>18</td>\n",
       "      <td>16</td>\n",
       "      <td>...</td>\n",
       "      <td>0</td>\n",
       "      <td>0</td>\n",
       "      <td>1</td>\n",
       "      <td>1</td>\n",
       "      <td>18</td>\n",
       "      <td>2</td>\n",
       "      <td>1</td>\n",
       "      <td>0</td>\n",
       "      <td>0</td>\n",
       "      <td>005db917</td>\n",
       "    </tr>\n",
       "    <tr>\n",
       "      <th>2</th>\n",
       "      <td>22</td>\n",
       "      <td>6</td>\n",
       "      <td>3</td>\n",
       "      <td>7</td>\n",
       "      <td>2</td>\n",
       "      <td>19</td>\n",
       "      <td>1</td>\n",
       "      <td>0</td>\n",
       "      <td>19</td>\n",
       "      <td>14</td>\n",
       "      <td>...</td>\n",
       "      <td>0</td>\n",
       "      <td>0</td>\n",
       "      <td>4</td>\n",
       "      <td>0</td>\n",
       "      <td>19</td>\n",
       "      <td>5</td>\n",
       "      <td>1</td>\n",
       "      <td>0</td>\n",
       "      <td>0</td>\n",
       "      <td>008f63e3</td>\n",
       "    </tr>\n",
       "    <tr>\n",
       "      <th>3</th>\n",
       "      <td>24</td>\n",
       "      <td>2</td>\n",
       "      <td>3</td>\n",
       "      <td>4</td>\n",
       "      <td>0</td>\n",
       "      <td>8</td>\n",
       "      <td>1</td>\n",
       "      <td>0</td>\n",
       "      <td>12</td>\n",
       "      <td>14</td>\n",
       "      <td>...</td>\n",
       "      <td>0</td>\n",
       "      <td>0</td>\n",
       "      <td>2</td>\n",
       "      <td>3</td>\n",
       "      <td>18</td>\n",
       "      <td>5</td>\n",
       "      <td>1</td>\n",
       "      <td>0</td>\n",
       "      <td>0</td>\n",
       "      <td>00940276</td>\n",
       "    </tr>\n",
       "    <tr>\n",
       "      <th>4</th>\n",
       "      <td>25</td>\n",
       "      <td>1</td>\n",
       "      <td>6</td>\n",
       "      <td>8</td>\n",
       "      <td>1</td>\n",
       "      <td>20</td>\n",
       "      <td>1</td>\n",
       "      <td>0</td>\n",
       "      <td>14</td>\n",
       "      <td>21</td>\n",
       "      <td>...</td>\n",
       "      <td>0</td>\n",
       "      <td>0</td>\n",
       "      <td>0</td>\n",
       "      <td>1</td>\n",
       "      <td>25</td>\n",
       "      <td>3</td>\n",
       "      <td>1</td>\n",
       "      <td>0</td>\n",
       "      <td>0</td>\n",
       "      <td>00c39458</td>\n",
       "    </tr>\n",
       "  </tbody>\n",
       "</table>\n",
       "<p>5 rows × 23 columns</p>\n",
       "</div>"
      ],
      "text/plain": [
       "   the  for  would  not  will  is  I  because  of  in  ...  him  her  could  \\\n",
       "0   32    7      3    0     0   4  0        5  23   8  ...    0    0      0   \n",
       "1   13    2      6    3     0   5  0        0  18  16  ...    0    0      1   \n",
       "2   22    6      3    7     2  19  1        0  19  14  ...    0    0      4   \n",
       "3   24    2      3    4     0   8  1        0  12  14  ...    0    0      2   \n",
       "4   25    1      6    8     1  20  1        0  14  21  ...    0    0      0   \n",
       "\n",
       "   like   a  an  over  under  generated        id  \n",
       "0     4  15   1     0      0          0  0059830c  \n",
       "1     1  18   2     1      0          0  005db917  \n",
       "2     0  19   5     1      0          0  008f63e3  \n",
       "3     3  18   5     1      0          0  00940276  \n",
       "4     1  25   3     1      0          0  00c39458  \n",
       "\n",
       "[5 rows x 23 columns]"
      ]
     },
     "execution_count": 7,
     "metadata": {},
     "output_type": "execute_result"
    }
   ],
   "source": [
    "fcolumns = computer_words.copy()\n",
    "fcolumns.append('generated')\n",
    "fcolumns.append('id')\n",
    "frequency_dt = pd.DataFrame([],columns=fcolumns)\n",
    "for index,row in train_essays.iterrows():\n",
    "    words = nltk.word_tokenize(row['text'])\n",
    "    fd= nltk.FreqDist(words)\n",
    "    tmp = {}\n",
    "    for i in computer_words:tmp[i] = fd[i]\n",
    "    tmp['generated'] = row['generated']\n",
    "    tmp['id'] = row['id']\n",
    "    frequency_dt.loc[len(frequency_dt)] = tmp\n",
    "frequency_dt.head()"
   ]
  },
  {
   "cell_type": "code",
   "execution_count": 8,
   "id": "03e14fce",
   "metadata": {
    "execution": {
     "iopub.execute_input": "2023-12-03T01:30:03.800438Z",
     "iopub.status.busy": "2023-12-03T01:30:03.799420Z",
     "iopub.status.idle": "2023-12-03T01:30:04.026721Z",
     "shell.execute_reply": "2023-12-03T01:30:04.025594Z"
    },
    "papermill": {
     "duration": 0.236119,
     "end_time": "2023-12-03T01:30:04.029381",
     "exception": false,
     "start_time": "2023-12-03T01:30:03.793262",
     "status": "completed"
    },
    "tags": []
   },
   "outputs": [],
   "source": [
    "number = 5\n",
    "counter_w = {}\n",
    "counter_wC = {}\n",
    "counter_C = 0\n",
    "for index,row in frequency_dt.iterrows():\n",
    "    if row['generated']:counter_C+=1\n",
    "    for i in computer_words:\n",
    "        if row[i]>=number:\n",
    "            if i in counter_w.keys():counter_w[i]+=1\n",
    "            else:counter_w[i] = 1\n",
    "            if row['generated']:\n",
    "                if i in counter_wC.keys():counter_wC[i]+=1\n",
    "                else:counter_wC[i] = 1\n",
    "            else:counter_wC[i] = 0"
   ]
  },
  {
   "cell_type": "code",
   "execution_count": 9,
   "id": "69785a07",
   "metadata": {
    "execution": {
     "iopub.execute_input": "2023-12-03T01:30:04.041268Z",
     "iopub.status.busy": "2023-12-03T01:30:04.040416Z",
     "iopub.status.idle": "2023-12-03T01:30:04.048690Z",
     "shell.execute_reply": "2023-12-03T01:30:04.047372Z"
    },
    "papermill": {
     "duration": 0.016607,
     "end_time": "2023-12-03T01:30:04.050910",
     "exception": false,
     "start_time": "2023-12-03T01:30:04.034303",
     "status": "completed"
    },
    "tags": []
   },
   "outputs": [
    {
     "name": "stdout",
     "output_type": "stream",
     "text": [
      "0.0021770682148040637\n",
      "{'the': 0.9804063860667634, 'for': 0.6103047895500726, 'because': 0.14005805515239478, 'of': 0.9811320754716981, 'in': 0.895500725689405, 'to': 0.9811320754716981, 'a': 0.9564586357039188, 'would': 0.21480406386066764, 'is': 0.841799709724238, 'not': 0.3548621190130624, 'an': 0.05297532656023222, 'can': 0.16037735849056603, 'will': 0.1509433962264151, 'could': 0.04934687953555878, 'I': 0.10377358490566038, 'like': 0.026850507982583455, 'should': 0.10740203193033382, 'over': 0.0043541364296081275}\n",
      "{'the': 0.047619047619047616, 'for': 0.047619047619047616, 'because': 0.047619047619047616, 'of': 0.047619047619047616, 'in': 0.047619047619047616, 'to': 0.047619047619047616, 'a': 0.047619047619047616, 'would': 0.047619047619047616, 'is': 0.047619047619047616, 'not': 0.047619047619047616, 'an': 0.047619047619047616, 'can': 0.047619047619047616, 'will': 0.047619047619047616, 'could': 0.047619047619047616, 'I': 0.047619047619047616, 'like': 0.047619047619047616, 'should': 0.047619047619047616, 'over': 0.047619047619047616}\n"
     ]
    }
   ],
   "source": [
    "total_docs = len(frequency_dt)\n",
    "prob_C = counter_C / total_docs\n",
    "prob_w= {}\n",
    "prob_wC = {}\n",
    "\n",
    "for key,val in counter_w.items():\n",
    "    if val <=0:\n",
    "        total_docs+=1\n",
    "        counter_w[key]=val+1\n",
    "    if counter_wC[key] <=0:\n",
    "        counter_C+=1\n",
    "        counter_wC[key]+=1\n",
    "for key,val in counter_w.items():\n",
    "    prob_w[key] = val/total_docs\n",
    "    prob_wC[key] = counter_wC[key] / counter_C\n",
    "print(prob_C)\n",
    "print(prob_w)\n",
    "print(prob_wC)"
   ]
  },
  {
   "cell_type": "code",
   "execution_count": 10,
   "id": "a1ffd5dd",
   "metadata": {
    "execution": {
     "iopub.execute_input": "2023-12-03T01:30:04.062715Z",
     "iopub.status.busy": "2023-12-03T01:30:04.062330Z",
     "iopub.status.idle": "2023-12-03T01:30:04.068083Z",
     "shell.execute_reply": "2023-12-03T01:30:04.066940Z"
    },
    "papermill": {
     "duration": 0.01407,
     "end_time": "2023-12-03T01:30:04.070132",
     "exception": false,
     "start_time": "2023-12-03T01:30:04.056062",
     "status": "completed"
    },
    "tags": []
   },
   "outputs": [],
   "source": [
    "def model(pa,db,dba):\n",
    "    pb = 1\n",
    "    for key,val in db.items():\n",
    "        pb= pb * val\n",
    "    pba = 1\n",
    "    for key,val in dba.items():\n",
    "        pba = pba*val\n",
    "    \n",
    "    pab = (pba*pa)/pb\n",
    "    return pab"
   ]
  },
  {
   "cell_type": "code",
   "execution_count": 11,
   "id": "b712c69b",
   "metadata": {
    "execution": {
     "iopub.execute_input": "2023-12-03T01:30:04.082142Z",
     "iopub.status.busy": "2023-12-03T01:30:04.081533Z",
     "iopub.status.idle": "2023-12-03T01:30:04.088032Z",
     "shell.execute_reply": "2023-12-03T01:30:04.086894Z"
    },
    "papermill": {
     "duration": 0.014989,
     "end_time": "2023-12-03T01:30:04.090163",
     "exception": false,
     "start_time": "2023-12-03T01:30:04.075174",
     "status": "completed"
    },
    "tags": []
   },
   "outputs": [
    {
     "data": {
      "text/plain": [
       "9.438899739991627e-15"
      ]
     },
     "execution_count": 11,
     "metadata": {},
     "output_type": "execute_result"
    }
   ],
   "source": [
    "accuracy = model(prob_C,prob_w,prob_wC)\n",
    "accuracy"
   ]
  },
  {
   "cell_type": "code",
   "execution_count": 12,
   "id": "fba6fec8",
   "metadata": {
    "execution": {
     "iopub.execute_input": "2023-12-03T01:30:04.102196Z",
     "iopub.status.busy": "2023-12-03T01:30:04.101582Z",
     "iopub.status.idle": "2023-12-03T01:30:04.119668Z",
     "shell.execute_reply": "2023-12-03T01:30:04.118511Z"
    },
    "papermill": {
     "duration": 0.026781,
     "end_time": "2023-12-03T01:30:04.122070",
     "exception": false,
     "start_time": "2023-12-03T01:30:04.095289",
     "status": "completed"
    },
    "tags": []
   },
   "outputs": [
    {
     "data": {
      "text/html": [
       "<div>\n",
       "<style scoped>\n",
       "    .dataframe tbody tr th:only-of-type {\n",
       "        vertical-align: middle;\n",
       "    }\n",
       "\n",
       "    .dataframe tbody tr th {\n",
       "        vertical-align: top;\n",
       "    }\n",
       "\n",
       "    .dataframe thead th {\n",
       "        text-align: right;\n",
       "    }\n",
       "</style>\n",
       "<table border=\"1\" class=\"dataframe\">\n",
       "  <thead>\n",
       "    <tr style=\"text-align: right;\">\n",
       "      <th></th>\n",
       "      <th>id</th>\n",
       "      <th>generated</th>\n",
       "    </tr>\n",
       "  </thead>\n",
       "  <tbody>\n",
       "    <tr>\n",
       "      <th>0</th>\n",
       "      <td>0000aaaa</td>\n",
       "      <td>9.438900e-15</td>\n",
       "    </tr>\n",
       "    <tr>\n",
       "      <th>1</th>\n",
       "      <td>1111bbbb</td>\n",
       "      <td>9.438900e-15</td>\n",
       "    </tr>\n",
       "    <tr>\n",
       "      <th>2</th>\n",
       "      <td>2222cccc</td>\n",
       "      <td>9.438900e-15</td>\n",
       "    </tr>\n",
       "  </tbody>\n",
       "</table>\n",
       "</div>"
      ],
      "text/plain": [
       "         id     generated\n",
       "0  0000aaaa  9.438900e-15\n",
       "1  1111bbbb  9.438900e-15\n",
       "2  2222cccc  9.438900e-15"
      ]
     },
     "execution_count": 12,
     "metadata": {},
     "output_type": "execute_result"
    }
   ],
   "source": [
    "test_dt = pd.DataFrame([],columns=['id','generated'])\n",
    "for index,row in test_essays.iterrows():\n",
    "    test_dt.loc[len(test_dt)] = [row['id'],accuracy]\n",
    "test_dt.head()"
   ]
  },
  {
   "cell_type": "code",
   "execution_count": 13,
   "id": "c62c0f4b",
   "metadata": {
    "execution": {
     "iopub.execute_input": "2023-12-03T01:30:04.134923Z",
     "iopub.status.busy": "2023-12-03T01:30:04.134286Z",
     "iopub.status.idle": "2023-12-03T01:30:04.141939Z",
     "shell.execute_reply": "2023-12-03T01:30:04.141135Z"
    },
    "papermill": {
     "duration": 0.01658,
     "end_time": "2023-12-03T01:30:04.144076",
     "exception": false,
     "start_time": "2023-12-03T01:30:04.127496",
     "status": "completed"
    },
    "tags": []
   },
   "outputs": [],
   "source": [
    "test_dt.to_csv('submission.csv',index=False)"
   ]
  },
  {
   "cell_type": "code",
   "execution_count": null,
   "id": "98b0b3e1",
   "metadata": {
    "papermill": {
     "duration": 0.004967,
     "end_time": "2023-12-03T01:30:04.154441",
     "exception": false,
     "start_time": "2023-12-03T01:30:04.149474",
     "status": "completed"
    },
    "tags": []
   },
   "outputs": [],
   "source": []
  }
 ],
 "metadata": {
  "kaggle": {
   "accelerator": "none",
   "dataSources": [
    {
     "databundleVersionId": 6888007,
     "sourceId": 61542,
     "sourceType": "competition"
    }
   ],
   "dockerImageVersionId": 30587,
   "isGpuEnabled": false,
   "isInternetEnabled": false,
   "language": "python",
   "sourceType": "notebook"
  },
  "kernelspec": {
   "display_name": "Python 3",
   "language": "python",
   "name": "python3"
  },
  "language_info": {
   "codemirror_mode": {
    "name": "ipython",
    "version": 3
   },
   "file_extension": ".py",
   "mimetype": "text/x-python",
   "name": "python",
   "nbconvert_exporter": "python",
   "pygments_lexer": "ipython3",
   "version": "3.10.12"
  },
  "papermill": {
   "default_parameters": {},
   "duration": 17.671342,
   "end_time": "2023-12-03T01:30:04.780292",
   "environment_variables": {},
   "exception": null,
   "input_path": "__notebook__.ipynb",
   "output_path": "__notebook__.ipynb",
   "parameters": {},
   "start_time": "2023-12-03T01:29:47.108950",
   "version": "2.4.0"
  }
 },
 "nbformat": 4,
 "nbformat_minor": 5
}
