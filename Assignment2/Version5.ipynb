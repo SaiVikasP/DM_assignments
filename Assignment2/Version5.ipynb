{
 "cells": [
  {
   "cell_type": "code",
   "execution_count": 1,
   "id": "43a67600",
   "metadata": {
    "_cell_guid": "b1076dfc-b9ad-4769-8c92-a6c4dae69d19",
    "_uuid": "8f2839f25d086af736a60e9eeb907d3b93b6e0e5",
    "execution": {
     "iopub.execute_input": "2023-12-04T03:43:13.542896Z",
     "iopub.status.busy": "2023-12-04T03:43:13.542498Z",
     "iopub.status.idle": "2023-12-04T03:43:15.623836Z",
     "shell.execute_reply": "2023-12-04T03:43:15.622760Z"
    },
    "papermill": {
     "duration": 2.091828,
     "end_time": "2023-12-04T03:43:15.627910",
     "exception": false,
     "start_time": "2023-12-04T03:43:13.536082",
     "status": "completed"
    },
    "tags": []
   },
   "outputs": [
    {
     "data": {
      "text/plain": [
       "\"\\nfor dirname, _, filenames in os.walk('/kaggle/input'):\\n    for filename in filenames:\\n        print(os.path.join(dirname, filename))\\n\""
      ]
     },
     "execution_count": 1,
     "metadata": {},
     "output_type": "execute_result"
    }
   ],
   "source": [
    "# This Python 3 environment comes with many helpful analytics libraries installed\n",
    "# It is defined by the kaggle/python Docker image: https://github.com/kaggle/docker-python\n",
    "# For example, here's several helpful packages to load\n",
    "\n",
    "import numpy as np # linear algebra\n",
    "import pandas as pd # data processing, CSV file I/O (e.g. pd.read_csv)\n",
    "import nltk\n",
    "from sklearn.model_selection import train_test_split\n",
    "import matplotlib.pyplot as plt\n",
    "# Input data files are available in the read-only \"../input/\" directory\n",
    "# For example, running this (by clicking run or pressing Shift+Enter) will list all files under the input directory\n",
    "\n",
    "import os\n",
    "'''\n",
    "for dirname, _, filenames in os.walk('/kaggle/input'):\n",
    "    for filename in filenames:\n",
    "        print(os.path.join(dirname, filename))\n",
    "'''\n",
    "# You can write up to 20GB to the current directory (/kaggle/working/) that gets preserved as output when you create a version using \"Save & Run All\" \n",
    "# You can also write temporary files to /kaggle/temp/, but they won't be saved outside of the current session"
   ]
  },
  {
   "cell_type": "code",
   "execution_count": 2,
   "id": "ce1f284b",
   "metadata": {
    "execution": {
     "iopub.execute_input": "2023-12-04T03:43:15.638473Z",
     "iopub.status.busy": "2023-12-04T03:43:15.637967Z",
     "iopub.status.idle": "2023-12-04T03:43:15.753686Z",
     "shell.execute_reply": "2023-12-04T03:43:15.752809Z"
    },
    "papermill": {
     "duration": 0.123765,
     "end_time": "2023-12-04T03:43:15.756203",
     "exception": false,
     "start_time": "2023-12-04T03:43:15.632438",
     "status": "completed"
    },
    "tags": []
   },
   "outputs": [],
   "source": [
    "# Read dataset #\n",
    "train_essays = pd.read_csv('/kaggle/input/llm-detect-ai-generated-text/train_essays.csv')\n",
    "train_prompts = pd.read_csv('/kaggle/input/llm-detect-ai-generated-text/train_prompts.csv')\n",
    "test_essays = pd.read_csv('/kaggle/input/llm-detect-ai-generated-text/test_essays.csv')"
   ]
  },
  {
   "cell_type": "code",
   "execution_count": 3,
   "id": "5eb1b229",
   "metadata": {
    "execution": {
     "iopub.execute_input": "2023-12-04T03:43:15.767195Z",
     "iopub.status.busy": "2023-12-04T03:43:15.766222Z",
     "iopub.status.idle": "2023-12-04T03:43:15.770997Z",
     "shell.execute_reply": "2023-12-04T03:43:15.770242Z"
    },
    "papermill": {
     "duration": 0.012202,
     "end_time": "2023-12-04T03:43:15.772952",
     "exception": false,
     "start_time": "2023-12-04T03:43:15.760750",
     "status": "completed"
    },
    "tags": []
   },
   "outputs": [],
   "source": [
    "# HYPER PARAMETERS #\n",
    "number = 5\n",
    "computer_words = ['the','for','would','not','will','is','I','because','of','in','to','can','should','him','her','could','like','a','an','over','under']"
   ]
  },
  {
   "cell_type": "code",
   "execution_count": 4,
   "id": "1a1125a6",
   "metadata": {
    "execution": {
     "iopub.execute_input": "2023-12-04T03:43:15.783657Z",
     "iopub.status.busy": "2023-12-04T03:43:15.782836Z",
     "iopub.status.idle": "2023-12-04T03:43:15.801532Z",
     "shell.execute_reply": "2023-12-04T03:43:15.800613Z"
    },
    "papermill": {
     "duration": 0.026954,
     "end_time": "2023-12-04T03:43:15.804315",
     "exception": false,
     "start_time": "2023-12-04T03:43:15.777361",
     "status": "completed"
    },
    "tags": []
   },
   "outputs": [
    {
     "data": {
      "text/html": [
       "<div>\n",
       "<style scoped>\n",
       "    .dataframe tbody tr th:only-of-type {\n",
       "        vertical-align: middle;\n",
       "    }\n",
       "\n",
       "    .dataframe tbody tr th {\n",
       "        vertical-align: top;\n",
       "    }\n",
       "\n",
       "    .dataframe thead th {\n",
       "        text-align: right;\n",
       "    }\n",
       "</style>\n",
       "<table border=\"1\" class=\"dataframe\">\n",
       "  <thead>\n",
       "    <tr style=\"text-align: right;\">\n",
       "      <th></th>\n",
       "      <th>id</th>\n",
       "      <th>prompt_id</th>\n",
       "      <th>text</th>\n",
       "      <th>generated</th>\n",
       "    </tr>\n",
       "  </thead>\n",
       "  <tbody>\n",
       "    <tr>\n",
       "      <th>0</th>\n",
       "      <td>0059830c</td>\n",
       "      <td>0</td>\n",
       "      <td>Cars. Cars have been around since they became ...</td>\n",
       "      <td>0</td>\n",
       "    </tr>\n",
       "    <tr>\n",
       "      <th>1</th>\n",
       "      <td>005db917</td>\n",
       "      <td>0</td>\n",
       "      <td>Transportation is a large necessity in most co...</td>\n",
       "      <td>0</td>\n",
       "    </tr>\n",
       "    <tr>\n",
       "      <th>2</th>\n",
       "      <td>008f63e3</td>\n",
       "      <td>0</td>\n",
       "      <td>\"America's love affair with it's vehicles seem...</td>\n",
       "      <td>0</td>\n",
       "    </tr>\n",
       "    <tr>\n",
       "      <th>3</th>\n",
       "      <td>00940276</td>\n",
       "      <td>0</td>\n",
       "      <td>How often do you ride in a car? Do you drive a...</td>\n",
       "      <td>0</td>\n",
       "    </tr>\n",
       "    <tr>\n",
       "      <th>4</th>\n",
       "      <td>00c39458</td>\n",
       "      <td>0</td>\n",
       "      <td>Cars are a wonderful thing. They are perhaps o...</td>\n",
       "      <td>0</td>\n",
       "    </tr>\n",
       "  </tbody>\n",
       "</table>\n",
       "</div>"
      ],
      "text/plain": [
       "         id  prompt_id                                               text  \\\n",
       "0  0059830c          0  Cars. Cars have been around since they became ...   \n",
       "1  005db917          0  Transportation is a large necessity in most co...   \n",
       "2  008f63e3          0  \"America's love affair with it's vehicles seem...   \n",
       "3  00940276          0  How often do you ride in a car? Do you drive a...   \n",
       "4  00c39458          0  Cars are a wonderful thing. They are perhaps o...   \n",
       "\n",
       "   generated  \n",
       "0          0  \n",
       "1          0  \n",
       "2          0  \n",
       "3          0  \n",
       "4          0  "
      ]
     },
     "execution_count": 4,
     "metadata": {},
     "output_type": "execute_result"
    }
   ],
   "source": [
    "train_essays.head()"
   ]
  },
  {
   "cell_type": "code",
   "execution_count": 5,
   "id": "e6f47525",
   "metadata": {
    "execution": {
     "iopub.execute_input": "2023-12-04T03:43:15.815481Z",
     "iopub.status.busy": "2023-12-04T03:43:15.814753Z",
     "iopub.status.idle": "2023-12-04T03:43:15.825055Z",
     "shell.execute_reply": "2023-12-04T03:43:15.823963Z"
    },
    "papermill": {
     "duration": 0.018277,
     "end_time": "2023-12-04T03:43:15.827222",
     "exception": false,
     "start_time": "2023-12-04T03:43:15.808945",
     "status": "completed"
    },
    "tags": []
   },
   "outputs": [
    {
     "data": {
      "text/html": [
       "<div>\n",
       "<style scoped>\n",
       "    .dataframe tbody tr th:only-of-type {\n",
       "        vertical-align: middle;\n",
       "    }\n",
       "\n",
       "    .dataframe tbody tr th {\n",
       "        vertical-align: top;\n",
       "    }\n",
       "\n",
       "    .dataframe thead th {\n",
       "        text-align: right;\n",
       "    }\n",
       "</style>\n",
       "<table border=\"1\" class=\"dataframe\">\n",
       "  <thead>\n",
       "    <tr style=\"text-align: right;\">\n",
       "      <th></th>\n",
       "      <th>prompt_id</th>\n",
       "      <th>prompt_name</th>\n",
       "      <th>instructions</th>\n",
       "      <th>source_text</th>\n",
       "    </tr>\n",
       "  </thead>\n",
       "  <tbody>\n",
       "    <tr>\n",
       "      <th>0</th>\n",
       "      <td>0</td>\n",
       "      <td>Car-free cities</td>\n",
       "      <td>Write an explanatory essay to inform fellow ci...</td>\n",
       "      <td># In German Suburb, Life Goes On Without Cars ...</td>\n",
       "    </tr>\n",
       "    <tr>\n",
       "      <th>1</th>\n",
       "      <td>1</td>\n",
       "      <td>Does the electoral college work?</td>\n",
       "      <td>Write a letter to your state senator in which ...</td>\n",
       "      <td># What Is the Electoral College? by the Office...</td>\n",
       "    </tr>\n",
       "  </tbody>\n",
       "</table>\n",
       "</div>"
      ],
      "text/plain": [
       "   prompt_id                       prompt_name  \\\n",
       "0          0                   Car-free cities   \n",
       "1          1  Does the electoral college work?   \n",
       "\n",
       "                                        instructions  \\\n",
       "0  Write an explanatory essay to inform fellow ci...   \n",
       "1  Write a letter to your state senator in which ...   \n",
       "\n",
       "                                         source_text  \n",
       "0  # In German Suburb, Life Goes On Without Cars ...  \n",
       "1  # What Is the Electoral College? by the Office...  "
      ]
     },
     "execution_count": 5,
     "metadata": {},
     "output_type": "execute_result"
    }
   ],
   "source": [
    "train_prompts.head()"
   ]
  },
  {
   "cell_type": "code",
   "execution_count": 6,
   "id": "d238344e",
   "metadata": {
    "execution": {
     "iopub.execute_input": "2023-12-04T03:43:15.838656Z",
     "iopub.status.busy": "2023-12-04T03:43:15.838312Z",
     "iopub.status.idle": "2023-12-04T03:43:15.848125Z",
     "shell.execute_reply": "2023-12-04T03:43:15.847056Z"
    },
    "papermill": {
     "duration": 0.018085,
     "end_time": "2023-12-04T03:43:15.850478",
     "exception": false,
     "start_time": "2023-12-04T03:43:15.832393",
     "status": "completed"
    },
    "tags": []
   },
   "outputs": [
    {
     "data": {
      "text/html": [
       "<div>\n",
       "<style scoped>\n",
       "    .dataframe tbody tr th:only-of-type {\n",
       "        vertical-align: middle;\n",
       "    }\n",
       "\n",
       "    .dataframe tbody tr th {\n",
       "        vertical-align: top;\n",
       "    }\n",
       "\n",
       "    .dataframe thead th {\n",
       "        text-align: right;\n",
       "    }\n",
       "</style>\n",
       "<table border=\"1\" class=\"dataframe\">\n",
       "  <thead>\n",
       "    <tr style=\"text-align: right;\">\n",
       "      <th></th>\n",
       "      <th>id</th>\n",
       "      <th>prompt_id</th>\n",
       "      <th>text</th>\n",
       "    </tr>\n",
       "  </thead>\n",
       "  <tbody>\n",
       "    <tr>\n",
       "      <th>0</th>\n",
       "      <td>0000aaaa</td>\n",
       "      <td>2</td>\n",
       "      <td>Aaa bbb ccc.</td>\n",
       "    </tr>\n",
       "    <tr>\n",
       "      <th>1</th>\n",
       "      <td>1111bbbb</td>\n",
       "      <td>3</td>\n",
       "      <td>Bbb ccc ddd.</td>\n",
       "    </tr>\n",
       "    <tr>\n",
       "      <th>2</th>\n",
       "      <td>2222cccc</td>\n",
       "      <td>4</td>\n",
       "      <td>CCC ddd eee.</td>\n",
       "    </tr>\n",
       "  </tbody>\n",
       "</table>\n",
       "</div>"
      ],
      "text/plain": [
       "         id  prompt_id          text\n",
       "0  0000aaaa          2  Aaa bbb ccc.\n",
       "1  1111bbbb          3  Bbb ccc ddd.\n",
       "2  2222cccc          4  CCC ddd eee."
      ]
     },
     "execution_count": 6,
     "metadata": {},
     "output_type": "execute_result"
    }
   ],
   "source": [
    "test_essays.head()"
   ]
  },
  {
   "cell_type": "code",
   "execution_count": 7,
   "id": "82e2a714",
   "metadata": {
    "execution": {
     "iopub.execute_input": "2023-12-04T03:43:15.862648Z",
     "iopub.status.busy": "2023-12-04T03:43:15.861556Z",
     "iopub.status.idle": "2023-12-04T03:43:26.687251Z",
     "shell.execute_reply": "2023-12-04T03:43:26.685976Z"
    },
    "papermill": {
     "duration": 10.83398,
     "end_time": "2023-12-04T03:43:26.689393",
     "exception": false,
     "start_time": "2023-12-04T03:43:15.855413",
     "status": "completed"
    },
    "tags": []
   },
   "outputs": [
    {
     "data": {
      "text/html": [
       "<div>\n",
       "<style scoped>\n",
       "    .dataframe tbody tr th:only-of-type {\n",
       "        vertical-align: middle;\n",
       "    }\n",
       "\n",
       "    .dataframe tbody tr th {\n",
       "        vertical-align: top;\n",
       "    }\n",
       "\n",
       "    .dataframe thead th {\n",
       "        text-align: right;\n",
       "    }\n",
       "</style>\n",
       "<table border=\"1\" class=\"dataframe\">\n",
       "  <thead>\n",
       "    <tr style=\"text-align: right;\">\n",
       "      <th></th>\n",
       "      <th>the</th>\n",
       "      <th>for</th>\n",
       "      <th>would</th>\n",
       "      <th>not</th>\n",
       "      <th>will</th>\n",
       "      <th>is</th>\n",
       "      <th>I</th>\n",
       "      <th>because</th>\n",
       "      <th>of</th>\n",
       "      <th>in</th>\n",
       "      <th>...</th>\n",
       "      <th>him</th>\n",
       "      <th>her</th>\n",
       "      <th>could</th>\n",
       "      <th>like</th>\n",
       "      <th>a</th>\n",
       "      <th>an</th>\n",
       "      <th>over</th>\n",
       "      <th>under</th>\n",
       "      <th>generated</th>\n",
       "      <th>id</th>\n",
       "    </tr>\n",
       "  </thead>\n",
       "  <tbody>\n",
       "    <tr>\n",
       "      <th>0</th>\n",
       "      <td>32</td>\n",
       "      <td>7</td>\n",
       "      <td>3</td>\n",
       "      <td>0</td>\n",
       "      <td>0</td>\n",
       "      <td>4</td>\n",
       "      <td>0</td>\n",
       "      <td>5</td>\n",
       "      <td>23</td>\n",
       "      <td>8</td>\n",
       "      <td>...</td>\n",
       "      <td>0</td>\n",
       "      <td>0</td>\n",
       "      <td>0</td>\n",
       "      <td>4</td>\n",
       "      <td>15</td>\n",
       "      <td>1</td>\n",
       "      <td>0</td>\n",
       "      <td>0</td>\n",
       "      <td>0</td>\n",
       "      <td>0059830c</td>\n",
       "    </tr>\n",
       "    <tr>\n",
       "      <th>1</th>\n",
       "      <td>13</td>\n",
       "      <td>2</td>\n",
       "      <td>6</td>\n",
       "      <td>3</td>\n",
       "      <td>0</td>\n",
       "      <td>5</td>\n",
       "      <td>0</td>\n",
       "      <td>0</td>\n",
       "      <td>18</td>\n",
       "      <td>16</td>\n",
       "      <td>...</td>\n",
       "      <td>0</td>\n",
       "      <td>0</td>\n",
       "      <td>1</td>\n",
       "      <td>1</td>\n",
       "      <td>18</td>\n",
       "      <td>2</td>\n",
       "      <td>1</td>\n",
       "      <td>0</td>\n",
       "      <td>0</td>\n",
       "      <td>005db917</td>\n",
       "    </tr>\n",
       "    <tr>\n",
       "      <th>2</th>\n",
       "      <td>22</td>\n",
       "      <td>6</td>\n",
       "      <td>3</td>\n",
       "      <td>7</td>\n",
       "      <td>2</td>\n",
       "      <td>19</td>\n",
       "      <td>1</td>\n",
       "      <td>0</td>\n",
       "      <td>19</td>\n",
       "      <td>14</td>\n",
       "      <td>...</td>\n",
       "      <td>0</td>\n",
       "      <td>0</td>\n",
       "      <td>4</td>\n",
       "      <td>0</td>\n",
       "      <td>19</td>\n",
       "      <td>5</td>\n",
       "      <td>1</td>\n",
       "      <td>0</td>\n",
       "      <td>0</td>\n",
       "      <td>008f63e3</td>\n",
       "    </tr>\n",
       "    <tr>\n",
       "      <th>3</th>\n",
       "      <td>24</td>\n",
       "      <td>2</td>\n",
       "      <td>3</td>\n",
       "      <td>4</td>\n",
       "      <td>0</td>\n",
       "      <td>8</td>\n",
       "      <td>1</td>\n",
       "      <td>0</td>\n",
       "      <td>12</td>\n",
       "      <td>14</td>\n",
       "      <td>...</td>\n",
       "      <td>0</td>\n",
       "      <td>0</td>\n",
       "      <td>2</td>\n",
       "      <td>3</td>\n",
       "      <td>18</td>\n",
       "      <td>5</td>\n",
       "      <td>1</td>\n",
       "      <td>0</td>\n",
       "      <td>0</td>\n",
       "      <td>00940276</td>\n",
       "    </tr>\n",
       "    <tr>\n",
       "      <th>4</th>\n",
       "      <td>25</td>\n",
       "      <td>1</td>\n",
       "      <td>6</td>\n",
       "      <td>8</td>\n",
       "      <td>1</td>\n",
       "      <td>20</td>\n",
       "      <td>1</td>\n",
       "      <td>0</td>\n",
       "      <td>14</td>\n",
       "      <td>21</td>\n",
       "      <td>...</td>\n",
       "      <td>0</td>\n",
       "      <td>0</td>\n",
       "      <td>0</td>\n",
       "      <td>1</td>\n",
       "      <td>25</td>\n",
       "      <td>3</td>\n",
       "      <td>1</td>\n",
       "      <td>0</td>\n",
       "      <td>0</td>\n",
       "      <td>00c39458</td>\n",
       "    </tr>\n",
       "  </tbody>\n",
       "</table>\n",
       "<p>5 rows × 23 columns</p>\n",
       "</div>"
      ],
      "text/plain": [
       "   the  for  would  not  will  is  I  because  of  in  ...  him  her  could  \\\n",
       "0   32    7      3    0     0   4  0        5  23   8  ...    0    0      0   \n",
       "1   13    2      6    3     0   5  0        0  18  16  ...    0    0      1   \n",
       "2   22    6      3    7     2  19  1        0  19  14  ...    0    0      4   \n",
       "3   24    2      3    4     0   8  1        0  12  14  ...    0    0      2   \n",
       "4   25    1      6    8     1  20  1        0  14  21  ...    0    0      0   \n",
       "\n",
       "   like   a  an  over  under  generated        id  \n",
       "0     4  15   1     0      0          0  0059830c  \n",
       "1     1  18   2     1      0          0  005db917  \n",
       "2     0  19   5     1      0          0  008f63e3  \n",
       "3     3  18   5     1      0          0  00940276  \n",
       "4     1  25   3     1      0          0  00c39458  \n",
       "\n",
       "[5 rows x 23 columns]"
      ]
     },
     "execution_count": 7,
     "metadata": {},
     "output_type": "execute_result"
    }
   ],
   "source": [
    "# Generate computer words frequency dataset # \n",
    "fcolumns = computer_words.copy()\n",
    "fcolumns.append('generated')\n",
    "fcolumns.append('id')\n",
    "frequency_dt = pd.DataFrame([],columns=fcolumns)\n",
    "for index,row in train_essays.iterrows():\n",
    "    words = nltk.word_tokenize(row['text'])\n",
    "    fd= nltk.FreqDist(words)\n",
    "    tmp = {}\n",
    "    for i in computer_words:tmp[i] = fd[i]\n",
    "    tmp['generated'] = row['generated']\n",
    "    tmp['id'] = row['id']\n",
    "    frequency_dt.loc[len(frequency_dt)] = tmp\n",
    "frequency_dt.head()"
   ]
  },
  {
   "cell_type": "code",
   "execution_count": 8,
   "id": "d645c2ac",
   "metadata": {
    "execution": {
     "iopub.execute_input": "2023-12-04T03:43:26.702335Z",
     "iopub.status.busy": "2023-12-04T03:43:26.701224Z",
     "iopub.status.idle": "2023-12-04T03:43:26.724419Z",
     "shell.execute_reply": "2023-12-04T03:43:26.723297Z"
    },
    "papermill": {
     "duration": 0.031908,
     "end_time": "2023-12-04T03:43:26.726642",
     "exception": false,
     "start_time": "2023-12-04T03:43:26.694734",
     "status": "completed"
    },
    "tags": []
   },
   "outputs": [
    {
     "data": {
      "text/html": [
       "<div>\n",
       "<style scoped>\n",
       "    .dataframe tbody tr th:only-of-type {\n",
       "        vertical-align: middle;\n",
       "    }\n",
       "\n",
       "    .dataframe tbody tr th {\n",
       "        vertical-align: top;\n",
       "    }\n",
       "\n",
       "    .dataframe thead th {\n",
       "        text-align: right;\n",
       "    }\n",
       "</style>\n",
       "<table border=\"1\" class=\"dataframe\">\n",
       "  <thead>\n",
       "    <tr style=\"text-align: right;\">\n",
       "      <th></th>\n",
       "      <th>the</th>\n",
       "      <th>for</th>\n",
       "      <th>would</th>\n",
       "      <th>not</th>\n",
       "      <th>will</th>\n",
       "      <th>is</th>\n",
       "      <th>I</th>\n",
       "      <th>because</th>\n",
       "      <th>of</th>\n",
       "      <th>in</th>\n",
       "      <th>...</th>\n",
       "      <th>him</th>\n",
       "      <th>her</th>\n",
       "      <th>could</th>\n",
       "      <th>like</th>\n",
       "      <th>a</th>\n",
       "      <th>an</th>\n",
       "      <th>over</th>\n",
       "      <th>under</th>\n",
       "      <th>generated</th>\n",
       "      <th>id</th>\n",
       "    </tr>\n",
       "  </thead>\n",
       "  <tbody>\n",
       "    <tr>\n",
       "      <th>1336</th>\n",
       "      <td>25</td>\n",
       "      <td>3</td>\n",
       "      <td>0</td>\n",
       "      <td>5</td>\n",
       "      <td>2</td>\n",
       "      <td>2</td>\n",
       "      <td>0</td>\n",
       "      <td>1</td>\n",
       "      <td>17</td>\n",
       "      <td>9</td>\n",
       "      <td>...</td>\n",
       "      <td>0</td>\n",
       "      <td>0</td>\n",
       "      <td>6</td>\n",
       "      <td>1</td>\n",
       "      <td>12</td>\n",
       "      <td>0</td>\n",
       "      <td>0</td>\n",
       "      <td>0</td>\n",
       "      <td>0</td>\n",
       "      <td>f7e59043</td>\n",
       "    </tr>\n",
       "    <tr>\n",
       "      <th>759</th>\n",
       "      <td>35</td>\n",
       "      <td>7</td>\n",
       "      <td>2</td>\n",
       "      <td>18</td>\n",
       "      <td>5</td>\n",
       "      <td>16</td>\n",
       "      <td>1</td>\n",
       "      <td>3</td>\n",
       "      <td>19</td>\n",
       "      <td>15</td>\n",
       "      <td>...</td>\n",
       "      <td>0</td>\n",
       "      <td>0</td>\n",
       "      <td>2</td>\n",
       "      <td>0</td>\n",
       "      <td>16</td>\n",
       "      <td>2</td>\n",
       "      <td>0</td>\n",
       "      <td>0</td>\n",
       "      <td>0</td>\n",
       "      <td>8a53964d</td>\n",
       "    </tr>\n",
       "    <tr>\n",
       "      <th>900</th>\n",
       "      <td>24</td>\n",
       "      <td>5</td>\n",
       "      <td>2</td>\n",
       "      <td>4</td>\n",
       "      <td>4</td>\n",
       "      <td>12</td>\n",
       "      <td>12</td>\n",
       "      <td>0</td>\n",
       "      <td>23</td>\n",
       "      <td>12</td>\n",
       "      <td>...</td>\n",
       "      <td>0</td>\n",
       "      <td>0</td>\n",
       "      <td>1</td>\n",
       "      <td>0</td>\n",
       "      <td>16</td>\n",
       "      <td>1</td>\n",
       "      <td>0</td>\n",
       "      <td>0</td>\n",
       "      <td>0</td>\n",
       "      <td>a1b43308</td>\n",
       "    </tr>\n",
       "    <tr>\n",
       "      <th>883</th>\n",
       "      <td>37</td>\n",
       "      <td>6</td>\n",
       "      <td>3</td>\n",
       "      <td>4</td>\n",
       "      <td>3</td>\n",
       "      <td>12</td>\n",
       "      <td>0</td>\n",
       "      <td>1</td>\n",
       "      <td>12</td>\n",
       "      <td>12</td>\n",
       "      <td>...</td>\n",
       "      <td>0</td>\n",
       "      <td>0</td>\n",
       "      <td>0</td>\n",
       "      <td>0</td>\n",
       "      <td>14</td>\n",
       "      <td>2</td>\n",
       "      <td>1</td>\n",
       "      <td>0</td>\n",
       "      <td>0</td>\n",
       "      <td>9f45f83a</td>\n",
       "    </tr>\n",
       "    <tr>\n",
       "      <th>275</th>\n",
       "      <td>37</td>\n",
       "      <td>3</td>\n",
       "      <td>3</td>\n",
       "      <td>4</td>\n",
       "      <td>1</td>\n",
       "      <td>4</td>\n",
       "      <td>1</td>\n",
       "      <td>3</td>\n",
       "      <td>14</td>\n",
       "      <td>3</td>\n",
       "      <td>...</td>\n",
       "      <td>0</td>\n",
       "      <td>0</td>\n",
       "      <td>1</td>\n",
       "      <td>0</td>\n",
       "      <td>3</td>\n",
       "      <td>0</td>\n",
       "      <td>0</td>\n",
       "      <td>0</td>\n",
       "      <td>0</td>\n",
       "      <td>382908e0</td>\n",
       "    </tr>\n",
       "  </tbody>\n",
       "</table>\n",
       "<p>5 rows × 23 columns</p>\n",
       "</div>"
      ],
      "text/plain": [
       "      the  for  would  not  will  is   I  because  of  in  ...  him  her  \\\n",
       "1336   25    3      0    5     2   2   0        1  17   9  ...    0    0   \n",
       "759    35    7      2   18     5  16   1        3  19  15  ...    0    0   \n",
       "900    24    5      2    4     4  12  12        0  23  12  ...    0    0   \n",
       "883    37    6      3    4     3  12   0        1  12  12  ...    0    0   \n",
       "275    37    3      3    4     1   4   1        3  14   3  ...    0    0   \n",
       "\n",
       "      could  like   a  an  over  under  generated        id  \n",
       "1336      6     1  12   0     0      0          0  f7e59043  \n",
       "759       2     0  16   2     0      0          0  8a53964d  \n",
       "900       1     0  16   1     0      0          0  a1b43308  \n",
       "883       0     0  14   2     1      0          0  9f45f83a  \n",
       "275       1     0   3   0     0      0          0  382908e0  \n",
       "\n",
       "[5 rows x 23 columns]"
      ]
     },
     "execution_count": 8,
     "metadata": {},
     "output_type": "execute_result"
    }
   ],
   "source": [
    "# Split data to train and test #\n",
    "freq_train, freq_test = train_test_split(frequency_dt, test_size=0.2)\n",
    "freq_train.head()"
   ]
  },
  {
   "cell_type": "code",
   "execution_count": 9,
   "id": "f57fafb5",
   "metadata": {
    "execution": {
     "iopub.execute_input": "2023-12-04T03:43:26.739341Z",
     "iopub.status.busy": "2023-12-04T03:43:26.738969Z",
     "iopub.status.idle": "2023-12-04T03:43:27.498116Z",
     "shell.execute_reply": "2023-12-04T03:43:27.497018Z"
    },
    "papermill": {
     "duration": 0.768103,
     "end_time": "2023-12-04T03:43:27.500417",
     "exception": false,
     "start_time": "2023-12-04T03:43:26.732314",
     "status": "completed"
    },
    "tags": []
   },
   "outputs": [
    {
     "data": {
      "image/png": "[encoded data removed]",
      "text/plain": [
       "<Figure size 640x480 with 1 Axes>"
      ]
     },
     "metadata": {},
     "output_type": "display_data"
    }
   ],
   "source": [
    "# plot to check words distribution #\n",
    "for i in computer_words:\n",
    "    freq_train[i].plot(kind='hist')"
   ]
  },
  {
   "cell_type": "code",
   "execution_count": 10,
   "id": "6c21e4c4",
   "metadata": {
    "execution": {
     "iopub.execute_input": "2023-12-04T03:43:27.514148Z",
     "iopub.status.busy": "2023-12-04T03:43:27.513769Z",
     "iopub.status.idle": "2023-12-04T03:43:27.700773Z",
     "shell.execute_reply": "2023-12-04T03:43:27.699547Z"
    },
    "papermill": {
     "duration": 0.197125,
     "end_time": "2023-12-04T03:43:27.703402",
     "exception": false,
     "start_time": "2023-12-04T03:43:27.506277",
     "status": "completed"
    },
    "tags": []
   },
   "outputs": [],
   "source": [
    "# calculate word occurrence in essays and apply softening/smoothing where required #\n",
    "counter_w = {}\n",
    "counter_wC = {}\n",
    "counter_C = 0\n",
    "for index,row in freq_train.iterrows():\n",
    "    if row['generated']:counter_C+=1\n",
    "    for i in computer_words:\n",
    "        if row[i]>=number:\n",
    "            if i in counter_w.keys():counter_w[i]+=1\n",
    "            else:counter_w[i] = 1\n",
    "            if row['generated']:\n",
    "                if i in counter_wC.keys():counter_wC[i]+=1\n",
    "                else:counter_wC[i] = 1\n",
    "            else:counter_wC[i] = 0"
   ]
  },
  {
   "cell_type": "code",
   "execution_count": 11,
   "id": "1daa96da",
   "metadata": {
    "execution": {
     "iopub.execute_input": "2023-12-04T03:43:27.716940Z",
     "iopub.status.busy": "2023-12-04T03:43:27.716553Z",
     "iopub.status.idle": "2023-12-04T03:43:27.723739Z",
     "shell.execute_reply": "2023-12-04T03:43:27.722750Z"
    },
    "papermill": {
     "duration": 0.017236,
     "end_time": "2023-12-04T03:43:27.726551",
     "exception": false,
     "start_time": "2023-12-04T03:43:27.709315",
     "status": "completed"
    },
    "tags": []
   },
   "outputs": [
    {
     "name": "stdout",
     "output_type": "stream",
     "text": [
      "0.000725689404934688\n",
      "{'the': 0.7830188679245284, 'not': 0.2880986937590711, 'of': 0.7844702467343977, 'in': 0.7155297532656023, 'to': 0.7830188679245284, 'could': 0.03991291727140784, 'a': 0.7648766328011611, 'for': 0.4869375907111756, 'will': 0.12409288824383163, 'is': 0.6712626995645864, 'can': 0.12772133526850507, 'I': 0.0841799709724238, 'would': 0.1734397677793904, 'because': 0.11175616835994194, 'should': 0.08563134978229318, 'an': 0.03991291727140784, 'like': 0.023947750362844702, 'over': 0.00362844702467344}\n",
      "{'the': 0.05263157894736842, 'not': 0.05263157894736842, 'of': 0.05263157894736842, 'in': 0.05263157894736842, 'to': 0.05263157894736842, 'could': 0.05263157894736842, 'a': 0.05263157894736842, 'for': 0.05263157894736842, 'will': 0.05263157894736842, 'is': 0.05263157894736842, 'can': 0.05263157894736842, 'I': 0.05263157894736842, 'would': 0.05263157894736842, 'because': 0.05263157894736842, 'should': 0.05263157894736842, 'an': 0.05263157894736842, 'like': 0.05263157894736842, 'over': 0.05263157894736842}\n"
     ]
    }
   ],
   "source": [
    "# calculate word probabilities and store in dictionary #\n",
    "total_docs = len(frequency_dt)\n",
    "prob_C = counter_C / total_docs\n",
    "prob_w= {}\n",
    "prob_wC = {}\n",
    "\n",
    "for key,val in counter_w.items():\n",
    "    if val <=0:\n",
    "        total_docs+=1\n",
    "        counter_w[key]=val+1\n",
    "    if counter_wC[key] <=0:\n",
    "        counter_C+=1\n",
    "        counter_wC[key]+=1\n",
    "for key,val in counter_w.items():\n",
    "    prob_w[key] = val/total_docs\n",
    "    prob_wC[key] = counter_wC[key] / counter_C\n",
    "print(prob_C)\n",
    "print(prob_w)\n",
    "print(prob_wC)"
   ]
  },
  {
   "cell_type": "code",
   "execution_count": 12,
   "id": "66afc910",
   "metadata": {
    "execution": {
     "iopub.execute_input": "2023-12-04T03:43:27.740234Z",
     "iopub.status.busy": "2023-12-04T03:43:27.739857Z",
     "iopub.status.idle": "2023-12-04T03:43:27.744977Z",
     "shell.execute_reply": "2023-12-04T03:43:27.744004Z"
    },
    "papermill": {
     "duration": 0.014551,
     "end_time": "2023-12-04T03:43:27.747073",
     "exception": false,
     "start_time": "2023-12-04T03:43:27.732522",
     "status": "completed"
    },
    "tags": []
   },
   "outputs": [],
   "source": [
    "# method to calculate probability using Naive Bayes Classifier #\n",
    "def classify():\n",
    "    pw = 1\n",
    "    pwC = 1\n",
    "    for key,val in prob_w.items():\n",
    "        pw*=prob_w[key]\n",
    "        pwC*=prob_wC[key]\n",
    "    \n",
    "    return (pwC*prob_C)/pwC"
   ]
  },
  {
   "cell_type": "code",
   "execution_count": 13,
   "id": "991f576e",
   "metadata": {
    "execution": {
     "iopub.execute_input": "2023-12-04T03:43:27.760529Z",
     "iopub.status.busy": "2023-12-04T03:43:27.760164Z",
     "iopub.status.idle": "2023-12-04T03:43:28.157785Z",
     "shell.execute_reply": "2023-12-04T03:43:28.156737Z"
    },
    "papermill": {
     "duration": 0.406952,
     "end_time": "2023-12-04T03:43:28.159930",
     "exception": false,
     "start_time": "2023-12-04T03:43:27.752978",
     "status": "completed"
    },
    "tags": []
   },
   "outputs": [
    {
     "data": {
      "text/html": [
       "<div>\n",
       "<style scoped>\n",
       "    .dataframe tbody tr th:only-of-type {\n",
       "        vertical-align: middle;\n",
       "    }\n",
       "\n",
       "    .dataframe tbody tr th {\n",
       "        vertical-align: top;\n",
       "    }\n",
       "\n",
       "    .dataframe thead th {\n",
       "        text-align: right;\n",
       "    }\n",
       "</style>\n",
       "<table border=\"1\" class=\"dataframe\">\n",
       "  <thead>\n",
       "    <tr style=\"text-align: right;\">\n",
       "      <th></th>\n",
       "      <th>id</th>\n",
       "      <th>predicted</th>\n",
       "      <th>generated</th>\n",
       "    </tr>\n",
       "  </thead>\n",
       "  <tbody>\n",
       "    <tr>\n",
       "      <th>0</th>\n",
       "      <td>8e65cea9</td>\n",
       "      <td>0.000726</td>\n",
       "      <td>0</td>\n",
       "    </tr>\n",
       "    <tr>\n",
       "      <th>1</th>\n",
       "      <td>7014633b</td>\n",
       "      <td>0.000726</td>\n",
       "      <td>0</td>\n",
       "    </tr>\n",
       "    <tr>\n",
       "      <th>2</th>\n",
       "      <td>5cd6a57e</td>\n",
       "      <td>0.000726</td>\n",
       "      <td>0</td>\n",
       "    </tr>\n",
       "    <tr>\n",
       "      <th>3</th>\n",
       "      <td>961d4ea9</td>\n",
       "      <td>0.000726</td>\n",
       "      <td>0</td>\n",
       "    </tr>\n",
       "    <tr>\n",
       "      <th>4</th>\n",
       "      <td>585624b3</td>\n",
       "      <td>0.000726</td>\n",
       "      <td>0</td>\n",
       "    </tr>\n",
       "  </tbody>\n",
       "</table>\n",
       "</div>"
      ],
      "text/plain": [
       "         id  predicted  generated\n",
       "0  8e65cea9   0.000726          0\n",
       "1  7014633b   0.000726          0\n",
       "2  5cd6a57e   0.000726          0\n",
       "3  961d4ea9   0.000726          0\n",
       "4  585624b3   0.000726          0"
      ]
     },
     "execution_count": 13,
     "metadata": {},
     "output_type": "execute_result"
    }
   ],
   "source": [
    "# check test data against prediction #\n",
    "predicted = pd.DataFrame([],columns=['id','predicted','generated'])\n",
    "for index,row in freq_test.iterrows():\n",
    "    predicted.loc[len(predicted)] = {'id':row['id'],'predicted':classify(),'generated':row['generated']}\n",
    "predicted.head()"
   ]
  },
  {
   "cell_type": "code",
   "execution_count": 14,
   "id": "abe7d6ae",
   "metadata": {
    "execution": {
     "iopub.execute_input": "2023-12-04T03:43:28.174427Z",
     "iopub.status.busy": "2023-12-04T03:43:28.174036Z",
     "iopub.status.idle": "2023-12-04T03:43:28.190502Z",
     "shell.execute_reply": "2023-12-04T03:43:28.189402Z"
    },
    "papermill": {
     "duration": 0.026215,
     "end_time": "2023-12-04T03:43:28.192604",
     "exception": false,
     "start_time": "2023-12-04T03:43:28.166389",
     "status": "completed"
    },
    "tags": []
   },
   "outputs": [
    {
     "data": {
      "text/html": [
       "<div>\n",
       "<style scoped>\n",
       "    .dataframe tbody tr th:only-of-type {\n",
       "        vertical-align: middle;\n",
       "    }\n",
       "\n",
       "    .dataframe tbody tr th {\n",
       "        vertical-align: top;\n",
       "    }\n",
       "\n",
       "    .dataframe thead th {\n",
       "        text-align: right;\n",
       "    }\n",
       "</style>\n",
       "<table border=\"1\" class=\"dataframe\">\n",
       "  <thead>\n",
       "    <tr style=\"text-align: right;\">\n",
       "      <th></th>\n",
       "      <th>id</th>\n",
       "      <th>generated</th>\n",
       "    </tr>\n",
       "  </thead>\n",
       "  <tbody>\n",
       "    <tr>\n",
       "      <th>0</th>\n",
       "      <td>0000aaaa</td>\n",
       "      <td>0.000726</td>\n",
       "    </tr>\n",
       "    <tr>\n",
       "      <th>1</th>\n",
       "      <td>1111bbbb</td>\n",
       "      <td>0.000726</td>\n",
       "    </tr>\n",
       "    <tr>\n",
       "      <th>2</th>\n",
       "      <td>2222cccc</td>\n",
       "      <td>0.000726</td>\n",
       "    </tr>\n",
       "  </tbody>\n",
       "</table>\n",
       "</div>"
      ],
      "text/plain": [
       "         id  generated\n",
       "0  0000aaaa   0.000726\n",
       "1  1111bbbb   0.000726\n",
       "2  2222cccc   0.000726"
      ]
     },
     "execution_count": 14,
     "metadata": {},
     "output_type": "execute_result"
    }
   ],
   "source": [
    "# generate submission dataframe as per requirement on actual test data #\n",
    "test_dt = pd.DataFrame([],columns=['id','generated'])\n",
    "for index,row in test_essays.iterrows():\n",
    "    test_dt.loc[len(test_dt)] = {'id':row['id'],'generated':classify()}\n",
    "test_dt.head()"
   ]
  },
  {
   "cell_type": "code",
   "execution_count": 15,
   "id": "93628198",
   "metadata": {
    "execution": {
     "iopub.execute_input": "2023-12-04T03:43:28.206771Z",
     "iopub.status.busy": "2023-12-04T03:43:28.206357Z",
     "iopub.status.idle": "2023-12-04T03:43:28.213445Z",
     "shell.execute_reply": "2023-12-04T03:43:28.212734Z"
    },
    "papermill": {
     "duration": 0.016521,
     "end_time": "2023-12-04T03:43:28.215462",
     "exception": false,
     "start_time": "2023-12-04T03:43:28.198941",
     "status": "completed"
    },
    "tags": []
   },
   "outputs": [],
   "source": [
    "# convert submission dataframe to csv file for submission #\n",
    "test_dt.to_csv('submission.csv',index=False)"
   ]
  },
  {
   "cell_type": "code",
   "execution_count": null,
   "id": "ee0d219d",
   "metadata": {
    "papermill": {
     "duration": 0.005943,
     "end_time": "2023-12-04T03:43:28.227806",
     "exception": false,
     "start_time": "2023-12-04T03:43:28.221863",
     "status": "completed"
    },
    "tags": []
   },
   "outputs": [],
   "source": []
  }
 ],
 "metadata": {
  "kaggle": {
   "accelerator": "none",
   "dataSources": [
    {
     "databundleVersionId": 6888007,
     "sourceId": 61542,
     "sourceType": "competition"
    }
   ],
   "dockerImageVersionId": 30587,
   "isGpuEnabled": false,
   "isInternetEnabled": false,
   "language": "python",
   "sourceType": "notebook"
  },
  "kernelspec": {
   "display_name": "Python 3",
   "language": "python",
   "name": "python3"
  },
  "language_info": {
   "codemirror_mode": {
    "name": "ipython",
    "version": 3
   },
   "file_extension": ".py",
   "mimetype": "text/x-python",
   "name": "python",
   "nbconvert_exporter": "python",
   "pygments_lexer": "ipython3",
   "version": "3.10.12"
  },
  "papermill": {
   "default_parameters": {},
   "duration": 18.355583,
   "end_time": "2023-12-04T03:43:28.853936",
   "environment_variables": {},
   "exception": null,
   "input_path": "__notebook__.ipynb",
   "output_path": "__notebook__.ipynb",
   "parameters": {},
   "start_time": "2023-12-04T03:43:10.498353",
   "version": "2.4.0"
  }
 },
 "nbformat": 4,
 "nbformat_minor": 5
}
