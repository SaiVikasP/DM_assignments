{
 "cells": [
  {
   "cell_type": "code",
   "execution_count": 1,
   "id": "a4f3e930",
   "metadata": {
    "_cell_guid": "b1076dfc-b9ad-4769-8c92-a6c4dae69d19",
    "_uuid": "8f2839f25d086af736a60e9eeb907d3b93b6e0e5",
    "execution": {
     "iopub.execute_input": "2023-12-04T04:03:30.157982Z",
     "iopub.status.busy": "2023-12-04T04:03:30.157615Z",
     "iopub.status.idle": "2023-12-04T04:03:32.666469Z",
     "shell.execute_reply": "2023-12-04T04:03:32.665338Z"
    },
    "papermill": {
     "duration": 2.520156,
     "end_time": "2023-12-04T04:03:32.670970",
     "exception": false,
     "start_time": "2023-12-04T04:03:30.150814",
     "status": "completed"
    },
    "tags": []
   },
   "outputs": [
    {
     "data": {
      "text/plain": [
       "\"\\nfor dirname, _, filenames in os.walk('/kaggle/input'):\\n    for filename in filenames:\\n        print(os.path.join(dirname, filename))\\n\""
      ]
     },
     "execution_count": 1,
     "metadata": {},
     "output_type": "execute_result"
    }
   ],
   "source": [
    "# This Python 3 environment comes with many helpful analytics libraries installed\n",
    "# It is defined by the kaggle/python Docker image: https://github.com/kaggle/docker-python\n",
    "# For example, here's several helpful packages to load\n",
    "\n",
    "import numpy as np # linear algebra\n",
    "import pandas as pd # data processing, CSV file I/O (e.g. pd.read_csv)\n",
    "import nltk\n",
    "from sklearn.model_selection import train_test_split\n",
    "import matplotlib.pyplot as plt\n",
    "# Input data files are available in the read-only \"../input/\" directory\n",
    "# For example, running this (by clicking run or pressing Shift+Enter) will list all files under the input directory\n",
    "\n",
    "import os\n",
    "'''\n",
    "for dirname, _, filenames in os.walk('/kaggle/input'):\n",
    "    for filename in filenames:\n",
    "        print(os.path.join(dirname, filename))\n",
    "'''\n",
    "# You can write up to 20GB to the current directory (/kaggle/working/) that gets preserved as output when you create a version using \"Save & Run All\" \n",
    "# You can also write temporary files to /kaggle/temp/, but they won't be saved outside of the current session"
   ]
  },
  {
   "cell_type": "code",
   "execution_count": 2,
   "id": "cd23754d",
   "metadata": {
    "execution": {
     "iopub.execute_input": "2023-12-04T04:03:32.683673Z",
     "iopub.status.busy": "2023-12-04T04:03:32.682355Z",
     "iopub.status.idle": "2023-12-04T04:03:32.797485Z",
     "shell.execute_reply": "2023-12-04T04:03:32.796399Z"
    },
    "papermill": {
     "duration": 0.124579,
     "end_time": "2023-12-04T04:03:32.800497",
     "exception": false,
     "start_time": "2023-12-04T04:03:32.675918",
     "status": "completed"
    },
    "tags": []
   },
   "outputs": [],
   "source": [
    "# Read dataset #\n",
    "train_essays = pd.read_csv('/kaggle/input/llm-detect-ai-generated-text/train_essays.csv')\n",
    "train_prompts = pd.read_csv('/kaggle/input/llm-detect-ai-generated-text/train_prompts.csv')\n",
    "test_essays = pd.read_csv('/kaggle/input/llm-detect-ai-generated-text/test_essays.csv')"
   ]
  },
  {
   "cell_type": "code",
   "execution_count": 3,
   "id": "9413e7d3",
   "metadata": {
    "execution": {
     "iopub.execute_input": "2023-12-04T04:03:32.812267Z",
     "iopub.status.busy": "2023-12-04T04:03:32.811859Z",
     "iopub.status.idle": "2023-12-04T04:03:32.817566Z",
     "shell.execute_reply": "2023-12-04T04:03:32.816623Z"
    },
    "papermill": {
     "duration": 0.013891,
     "end_time": "2023-12-04T04:03:32.819659",
     "exception": false,
     "start_time": "2023-12-04T04:03:32.805768",
     "status": "completed"
    },
    "tags": []
   },
   "outputs": [],
   "source": [
    "# HYPER PARAMETERS #\n",
    "number = 5\n",
    "computer_words = ['the','for','would','not','will','is','I','because','of','in','we','you','your','love','hate','hi','bye','to','can','should','he','she','him','her','could','like','a','an','over','under','cars','.',',','shall']\n",
    "computer_words = set(computer_words)"
   ]
  },
  {
   "cell_type": "code",
   "execution_count": 4,
   "id": "160e05e9",
   "metadata": {
    "execution": {
     "iopub.execute_input": "2023-12-04T04:03:32.831942Z",
     "iopub.status.busy": "2023-12-04T04:03:32.831389Z",
     "iopub.status.idle": "2023-12-04T04:03:32.837149Z",
     "shell.execute_reply": "2023-12-04T04:03:32.836355Z"
    },
    "papermill": {
     "duration": 0.014965,
     "end_time": "2023-12-04T04:03:32.839375",
     "exception": false,
     "start_time": "2023-12-04T04:03:32.824410",
     "status": "completed"
    },
    "tags": []
   },
   "outputs": [
    {
     "data": {
      "text/plain": [
       "34"
      ]
     },
     "execution_count": 4,
     "metadata": {},
     "output_type": "execute_result"
    }
   ],
   "source": [
    "len(computer_words)"
   ]
  },
  {
   "cell_type": "code",
   "execution_count": 5,
   "id": "3f0aeff3",
   "metadata": {
    "execution": {
     "iopub.execute_input": "2023-12-04T04:03:32.851425Z",
     "iopub.status.busy": "2023-12-04T04:03:32.850813Z",
     "iopub.status.idle": "2023-12-04T04:03:32.870867Z",
     "shell.execute_reply": "2023-12-04T04:03:32.870003Z"
    },
    "papermill": {
     "duration": 0.0294,
     "end_time": "2023-12-04T04:03:32.873828",
     "exception": false,
     "start_time": "2023-12-04T04:03:32.844428",
     "status": "completed"
    },
    "tags": []
   },
   "outputs": [
    {
     "data": {
      "text/html": [
       "<div>\n",
       "<style scoped>\n",
       "    .dataframe tbody tr th:only-of-type {\n",
       "        vertical-align: middle;\n",
       "    }\n",
       "\n",
       "    .dataframe tbody tr th {\n",
       "        vertical-align: top;\n",
       "    }\n",
       "\n",
       "    .dataframe thead th {\n",
       "        text-align: right;\n",
       "    }\n",
       "</style>\n",
       "<table border=\"1\" class=\"dataframe\">\n",
       "  <thead>\n",
       "    <tr style=\"text-align: right;\">\n",
       "      <th></th>\n",
       "      <th>id</th>\n",
       "      <th>prompt_id</th>\n",
       "      <th>text</th>\n",
       "      <th>generated</th>\n",
       "    </tr>\n",
       "  </thead>\n",
       "  <tbody>\n",
       "    <tr>\n",
       "      <th>0</th>\n",
       "      <td>0059830c</td>\n",
       "      <td>0</td>\n",
       "      <td>Cars. Cars have been around since they became ...</td>\n",
       "      <td>0</td>\n",
       "    </tr>\n",
       "    <tr>\n",
       "      <th>1</th>\n",
       "      <td>005db917</td>\n",
       "      <td>0</td>\n",
       "      <td>Transportation is a large necessity in most co...</td>\n",
       "      <td>0</td>\n",
       "    </tr>\n",
       "    <tr>\n",
       "      <th>2</th>\n",
       "      <td>008f63e3</td>\n",
       "      <td>0</td>\n",
       "      <td>\"America's love affair with it's vehicles seem...</td>\n",
       "      <td>0</td>\n",
       "    </tr>\n",
       "    <tr>\n",
       "      <th>3</th>\n",
       "      <td>00940276</td>\n",
       "      <td>0</td>\n",
       "      <td>How often do you ride in a car? Do you drive a...</td>\n",
       "      <td>0</td>\n",
       "    </tr>\n",
       "    <tr>\n",
       "      <th>4</th>\n",
       "      <td>00c39458</td>\n",
       "      <td>0</td>\n",
       "      <td>Cars are a wonderful thing. They are perhaps o...</td>\n",
       "      <td>0</td>\n",
       "    </tr>\n",
       "  </tbody>\n",
       "</table>\n",
       "</div>"
      ],
      "text/plain": [
       "         id  prompt_id                                               text  \\\n",
       "0  0059830c          0  Cars. Cars have been around since they became ...   \n",
       "1  005db917          0  Transportation is a large necessity in most co...   \n",
       "2  008f63e3          0  \"America's love affair with it's vehicles seem...   \n",
       "3  00940276          0  How often do you ride in a car? Do you drive a...   \n",
       "4  00c39458          0  Cars are a wonderful thing. They are perhaps o...   \n",
       "\n",
       "   generated  \n",
       "0          0  \n",
       "1          0  \n",
       "2          0  \n",
       "3          0  \n",
       "4          0  "
      ]
     },
     "execution_count": 5,
     "metadata": {},
     "output_type": "execute_result"
    }
   ],
   "source": [
    "train_essays.head()"
   ]
  },
  {
   "cell_type": "code",
   "execution_count": 6,
   "id": "2a76aeb4",
   "metadata": {
    "execution": {
     "iopub.execute_input": "2023-12-04T04:03:32.887066Z",
     "iopub.status.busy": "2023-12-04T04:03:32.885885Z",
     "iopub.status.idle": "2023-12-04T04:03:32.896256Z",
     "shell.execute_reply": "2023-12-04T04:03:32.895455Z"
    },
    "papermill": {
     "duration": 0.018557,
     "end_time": "2023-12-04T04:03:32.898221",
     "exception": false,
     "start_time": "2023-12-04T04:03:32.879664",
     "status": "completed"
    },
    "tags": []
   },
   "outputs": [
    {
     "data": {
      "text/html": [
       "<div>\n",
       "<style scoped>\n",
       "    .dataframe tbody tr th:only-of-type {\n",
       "        vertical-align: middle;\n",
       "    }\n",
       "\n",
       "    .dataframe tbody tr th {\n",
       "        vertical-align: top;\n",
       "    }\n",
       "\n",
       "    .dataframe thead th {\n",
       "        text-align: right;\n",
       "    }\n",
       "</style>\n",
       "<table border=\"1\" class=\"dataframe\">\n",
       "  <thead>\n",
       "    <tr style=\"text-align: right;\">\n",
       "      <th></th>\n",
       "      <th>prompt_id</th>\n",
       "      <th>prompt_name</th>\n",
       "      <th>instructions</th>\n",
       "      <th>source_text</th>\n",
       "    </tr>\n",
       "  </thead>\n",
       "  <tbody>\n",
       "    <tr>\n",
       "      <th>0</th>\n",
       "      <td>0</td>\n",
       "      <td>Car-free cities</td>\n",
       "      <td>Write an explanatory essay to inform fellow ci...</td>\n",
       "      <td># In German Suburb, Life Goes On Without Cars ...</td>\n",
       "    </tr>\n",
       "    <tr>\n",
       "      <th>1</th>\n",
       "      <td>1</td>\n",
       "      <td>Does the electoral college work?</td>\n",
       "      <td>Write a letter to your state senator in which ...</td>\n",
       "      <td># What Is the Electoral College? by the Office...</td>\n",
       "    </tr>\n",
       "  </tbody>\n",
       "</table>\n",
       "</div>"
      ],
      "text/plain": [
       "   prompt_id                       prompt_name  \\\n",
       "0          0                   Car-free cities   \n",
       "1          1  Does the electoral college work?   \n",
       "\n",
       "                                        instructions  \\\n",
       "0  Write an explanatory essay to inform fellow ci...   \n",
       "1  Write a letter to your state senator in which ...   \n",
       "\n",
       "                                         source_text  \n",
       "0  # In German Suburb, Life Goes On Without Cars ...  \n",
       "1  # What Is the Electoral College? by the Office...  "
      ]
     },
     "execution_count": 6,
     "metadata": {},
     "output_type": "execute_result"
    }
   ],
   "source": [
    "train_prompts.head()"
   ]
  },
  {
   "cell_type": "code",
   "execution_count": 7,
   "id": "fba638e2",
   "metadata": {
    "execution": {
     "iopub.execute_input": "2023-12-04T04:03:32.910290Z",
     "iopub.status.busy": "2023-12-04T04:03:32.909917Z",
     "iopub.status.idle": "2023-12-04T04:03:32.918768Z",
     "shell.execute_reply": "2023-12-04T04:03:32.917851Z"
    },
    "papermill": {
     "duration": 0.017426,
     "end_time": "2023-12-04T04:03:32.920848",
     "exception": false,
     "start_time": "2023-12-04T04:03:32.903422",
     "status": "completed"
    },
    "tags": []
   },
   "outputs": [
    {
     "data": {
      "text/html": [
       "<div>\n",
       "<style scoped>\n",
       "    .dataframe tbody tr th:only-of-type {\n",
       "        vertical-align: middle;\n",
       "    }\n",
       "\n",
       "    .dataframe tbody tr th {\n",
       "        vertical-align: top;\n",
       "    }\n",
       "\n",
       "    .dataframe thead th {\n",
       "        text-align: right;\n",
       "    }\n",
       "</style>\n",
       "<table border=\"1\" class=\"dataframe\">\n",
       "  <thead>\n",
       "    <tr style=\"text-align: right;\">\n",
       "      <th></th>\n",
       "      <th>id</th>\n",
       "      <th>prompt_id</th>\n",
       "      <th>text</th>\n",
       "    </tr>\n",
       "  </thead>\n",
       "  <tbody>\n",
       "    <tr>\n",
       "      <th>0</th>\n",
       "      <td>0000aaaa</td>\n",
       "      <td>2</td>\n",
       "      <td>Aaa bbb ccc.</td>\n",
       "    </tr>\n",
       "    <tr>\n",
       "      <th>1</th>\n",
       "      <td>1111bbbb</td>\n",
       "      <td>3</td>\n",
       "      <td>Bbb ccc ddd.</td>\n",
       "    </tr>\n",
       "    <tr>\n",
       "      <th>2</th>\n",
       "      <td>2222cccc</td>\n",
       "      <td>4</td>\n",
       "      <td>CCC ddd eee.</td>\n",
       "    </tr>\n",
       "  </tbody>\n",
       "</table>\n",
       "</div>"
      ],
      "text/plain": [
       "         id  prompt_id          text\n",
       "0  0000aaaa          2  Aaa bbb ccc.\n",
       "1  1111bbbb          3  Bbb ccc ddd.\n",
       "2  2222cccc          4  CCC ddd eee."
      ]
     },
     "execution_count": 7,
     "metadata": {},
     "output_type": "execute_result"
    }
   ],
   "source": [
    "test_essays.head()"
   ]
  },
  {
   "cell_type": "code",
   "execution_count": 8,
   "id": "f365fd8d",
   "metadata": {
    "execution": {
     "iopub.execute_input": "2023-12-04T04:03:32.933664Z",
     "iopub.status.busy": "2023-12-04T04:03:32.932652Z",
     "iopub.status.idle": "2023-12-04T04:03:45.535898Z",
     "shell.execute_reply": "2023-12-04T04:03:45.534844Z"
    },
    "papermill": {
     "duration": 12.611788,
     "end_time": "2023-12-04T04:03:45.537981",
     "exception": false,
     "start_time": "2023-12-04T04:03:32.926193",
     "status": "completed"
    },
    "tags": []
   },
   "outputs": [
    {
     "data": {
      "text/html": [
       "<div>\n",
       "<style scoped>\n",
       "    .dataframe tbody tr th:only-of-type {\n",
       "        vertical-align: middle;\n",
       "    }\n",
       "\n",
       "    .dataframe tbody tr th {\n",
       "        vertical-align: top;\n",
       "    }\n",
       "\n",
       "    .dataframe thead th {\n",
       "        text-align: right;\n",
       "    }\n",
       "</style>\n",
       "<table border=\"1\" class=\"dataframe\">\n",
       "  <thead>\n",
       "    <tr style=\"text-align: right;\">\n",
       "      <th></th>\n",
       "      <th>would</th>\n",
       "      <th>your</th>\n",
       "      <th>to</th>\n",
       "      <th>because</th>\n",
       "      <th>he</th>\n",
       "      <th>is</th>\n",
       "      <th>should</th>\n",
       "      <th>under</th>\n",
       "      <th>,</th>\n",
       "      <th>can</th>\n",
       "      <th>...</th>\n",
       "      <th>a</th>\n",
       "      <th>will</th>\n",
       "      <th>not</th>\n",
       "      <th>.</th>\n",
       "      <th>hate</th>\n",
       "      <th>in</th>\n",
       "      <th>for</th>\n",
       "      <th>you</th>\n",
       "      <th>generated</th>\n",
       "      <th>id</th>\n",
       "    </tr>\n",
       "  </thead>\n",
       "  <tbody>\n",
       "    <tr>\n",
       "      <th>0</th>\n",
       "      <td>3</td>\n",
       "      <td>0</td>\n",
       "      <td>21</td>\n",
       "      <td>5</td>\n",
       "      <td>0</td>\n",
       "      <td>4</td>\n",
       "      <td>1</td>\n",
       "      <td>0</td>\n",
       "      <td>40</td>\n",
       "      <td>2</td>\n",
       "      <td>...</td>\n",
       "      <td>15</td>\n",
       "      <td>0</td>\n",
       "      <td>0</td>\n",
       "      <td>23</td>\n",
       "      <td>0</td>\n",
       "      <td>8</td>\n",
       "      <td>7</td>\n",
       "      <td>2</td>\n",
       "      <td>0</td>\n",
       "      <td>0059830c</td>\n",
       "    </tr>\n",
       "    <tr>\n",
       "      <th>1</th>\n",
       "      <td>6</td>\n",
       "      <td>1</td>\n",
       "      <td>10</td>\n",
       "      <td>0</td>\n",
       "      <td>0</td>\n",
       "      <td>5</td>\n",
       "      <td>1</td>\n",
       "      <td>0</td>\n",
       "      <td>24</td>\n",
       "      <td>3</td>\n",
       "      <td>...</td>\n",
       "      <td>18</td>\n",
       "      <td>0</td>\n",
       "      <td>3</td>\n",
       "      <td>26</td>\n",
       "      <td>0</td>\n",
       "      <td>16</td>\n",
       "      <td>2</td>\n",
       "      <td>1</td>\n",
       "      <td>0</td>\n",
       "      <td>005db917</td>\n",
       "    </tr>\n",
       "    <tr>\n",
       "      <th>2</th>\n",
       "      <td>3</td>\n",
       "      <td>3</td>\n",
       "      <td>28</td>\n",
       "      <td>0</td>\n",
       "      <td>0</td>\n",
       "      <td>19</td>\n",
       "      <td>0</td>\n",
       "      <td>0</td>\n",
       "      <td>29</td>\n",
       "      <td>1</td>\n",
       "      <td>...</td>\n",
       "      <td>19</td>\n",
       "      <td>2</td>\n",
       "      <td>7</td>\n",
       "      <td>48</td>\n",
       "      <td>0</td>\n",
       "      <td>14</td>\n",
       "      <td>6</td>\n",
       "      <td>3</td>\n",
       "      <td>0</td>\n",
       "      <td>008f63e3</td>\n",
       "    </tr>\n",
       "    <tr>\n",
       "      <th>3</th>\n",
       "      <td>3</td>\n",
       "      <td>8</td>\n",
       "      <td>20</td>\n",
       "      <td>0</td>\n",
       "      <td>2</td>\n",
       "      <td>8</td>\n",
       "      <td>0</td>\n",
       "      <td>0</td>\n",
       "      <td>38</td>\n",
       "      <td>3</td>\n",
       "      <td>...</td>\n",
       "      <td>18</td>\n",
       "      <td>0</td>\n",
       "      <td>4</td>\n",
       "      <td>37</td>\n",
       "      <td>0</td>\n",
       "      <td>14</td>\n",
       "      <td>2</td>\n",
       "      <td>12</td>\n",
       "      <td>0</td>\n",
       "      <td>00940276</td>\n",
       "    </tr>\n",
       "    <tr>\n",
       "      <th>4</th>\n",
       "      <td>6</td>\n",
       "      <td>5</td>\n",
       "      <td>31</td>\n",
       "      <td>0</td>\n",
       "      <td>0</td>\n",
       "      <td>20</td>\n",
       "      <td>0</td>\n",
       "      <td>0</td>\n",
       "      <td>35</td>\n",
       "      <td>1</td>\n",
       "      <td>...</td>\n",
       "      <td>25</td>\n",
       "      <td>1</td>\n",
       "      <td>8</td>\n",
       "      <td>47</td>\n",
       "      <td>0</td>\n",
       "      <td>21</td>\n",
       "      <td>1</td>\n",
       "      <td>3</td>\n",
       "      <td>0</td>\n",
       "      <td>00c39458</td>\n",
       "    </tr>\n",
       "  </tbody>\n",
       "</table>\n",
       "<p>5 rows × 36 columns</p>\n",
       "</div>"
      ],
      "text/plain": [
       "   would  your  to  because  he  is  should  under   ,  can  ...   a  will  \\\n",
       "0      3     0  21        5   0   4       1      0  40    2  ...  15     0   \n",
       "1      6     1  10        0   0   5       1      0  24    3  ...  18     0   \n",
       "2      3     3  28        0   0  19       0      0  29    1  ...  19     2   \n",
       "3      3     8  20        0   2   8       0      0  38    3  ...  18     0   \n",
       "4      6     5  31        0   0  20       0      0  35    1  ...  25     1   \n",
       "\n",
       "   not   .  hate  in  for  you  generated        id  \n",
       "0    0  23     0   8    7    2          0  0059830c  \n",
       "1    3  26     0  16    2    1          0  005db917  \n",
       "2    7  48     0  14    6    3          0  008f63e3  \n",
       "3    4  37     0  14    2   12          0  00940276  \n",
       "4    8  47     0  21    1    3          0  00c39458  \n",
       "\n",
       "[5 rows x 36 columns]"
      ]
     },
     "execution_count": 8,
     "metadata": {},
     "output_type": "execute_result"
    }
   ],
   "source": [
    "# Generate computer words frequency dataset # \n",
    "fcolumns = list(computer_words)\n",
    "fcolumns.append('generated')\n",
    "fcolumns.append('id')\n",
    "frequency_dt = pd.DataFrame([],columns=fcolumns)\n",
    "for index,row in train_essays.iterrows():\n",
    "    words = nltk.word_tokenize(row['text'])\n",
    "    fd= nltk.FreqDist(words)\n",
    "    tmp = {}\n",
    "    for i in computer_words:tmp[i] = fd[i]\n",
    "    tmp['generated'] = row['generated']\n",
    "    tmp['id'] = row['id']\n",
    "    frequency_dt.loc[len(frequency_dt)] = tmp\n",
    "frequency_dt.head()"
   ]
  },
  {
   "cell_type": "code",
   "execution_count": 9,
   "id": "c0bb1ac6",
   "metadata": {
    "execution": {
     "iopub.execute_input": "2023-12-04T04:03:45.551320Z",
     "iopub.status.busy": "2023-12-04T04:03:45.550831Z",
     "iopub.status.idle": "2023-12-04T04:03:45.576142Z",
     "shell.execute_reply": "2023-12-04T04:03:45.574689Z"
    },
    "papermill": {
     "duration": 0.034874,
     "end_time": "2023-12-04T04:03:45.578609",
     "exception": false,
     "start_time": "2023-12-04T04:03:45.543735",
     "status": "completed"
    },
    "tags": []
   },
   "outputs": [
    {
     "data": {
      "text/html": [
       "<div>\n",
       "<style scoped>\n",
       "    .dataframe tbody tr th:only-of-type {\n",
       "        vertical-align: middle;\n",
       "    }\n",
       "\n",
       "    .dataframe tbody tr th {\n",
       "        vertical-align: top;\n",
       "    }\n",
       "\n",
       "    .dataframe thead th {\n",
       "        text-align: right;\n",
       "    }\n",
       "</style>\n",
       "<table border=\"1\" class=\"dataframe\">\n",
       "  <thead>\n",
       "    <tr style=\"text-align: right;\">\n",
       "      <th></th>\n",
       "      <th>would</th>\n",
       "      <th>your</th>\n",
       "      <th>to</th>\n",
       "      <th>because</th>\n",
       "      <th>he</th>\n",
       "      <th>is</th>\n",
       "      <th>should</th>\n",
       "      <th>under</th>\n",
       "      <th>,</th>\n",
       "      <th>can</th>\n",
       "      <th>...</th>\n",
       "      <th>a</th>\n",
       "      <th>will</th>\n",
       "      <th>not</th>\n",
       "      <th>.</th>\n",
       "      <th>hate</th>\n",
       "      <th>in</th>\n",
       "      <th>for</th>\n",
       "      <th>you</th>\n",
       "      <th>generated</th>\n",
       "      <th>id</th>\n",
       "    </tr>\n",
       "  </thead>\n",
       "  <tbody>\n",
       "    <tr>\n",
       "      <th>907</th>\n",
       "      <td>6</td>\n",
       "      <td>1</td>\n",
       "      <td>13</td>\n",
       "      <td>7</td>\n",
       "      <td>2</td>\n",
       "      <td>7</td>\n",
       "      <td>6</td>\n",
       "      <td>0</td>\n",
       "      <td>1</td>\n",
       "      <td>4</td>\n",
       "      <td>...</td>\n",
       "      <td>9</td>\n",
       "      <td>0</td>\n",
       "      <td>5</td>\n",
       "      <td>23</td>\n",
       "      <td>0</td>\n",
       "      <td>4</td>\n",
       "      <td>7</td>\n",
       "      <td>1</td>\n",
       "      <td>0</td>\n",
       "      <td>a2b8855e</td>\n",
       "    </tr>\n",
       "    <tr>\n",
       "      <th>1312</th>\n",
       "      <td>0</td>\n",
       "      <td>0</td>\n",
       "      <td>27</td>\n",
       "      <td>2</td>\n",
       "      <td>0</td>\n",
       "      <td>16</td>\n",
       "      <td>0</td>\n",
       "      <td>0</td>\n",
       "      <td>22</td>\n",
       "      <td>1</td>\n",
       "      <td>...</td>\n",
       "      <td>6</td>\n",
       "      <td>1</td>\n",
       "      <td>4</td>\n",
       "      <td>35</td>\n",
       "      <td>0</td>\n",
       "      <td>20</td>\n",
       "      <td>4</td>\n",
       "      <td>1</td>\n",
       "      <td>0</td>\n",
       "      <td>f3914f7c</td>\n",
       "    </tr>\n",
       "    <tr>\n",
       "      <th>1229</th>\n",
       "      <td>0</td>\n",
       "      <td>0</td>\n",
       "      <td>27</td>\n",
       "      <td>2</td>\n",
       "      <td>0</td>\n",
       "      <td>11</td>\n",
       "      <td>2</td>\n",
       "      <td>0</td>\n",
       "      <td>23</td>\n",
       "      <td>2</td>\n",
       "      <td>...</td>\n",
       "      <td>10</td>\n",
       "      <td>9</td>\n",
       "      <td>3</td>\n",
       "      <td>16</td>\n",
       "      <td>0</td>\n",
       "      <td>12</td>\n",
       "      <td>12</td>\n",
       "      <td>4</td>\n",
       "      <td>0</td>\n",
       "      <td>e579884d</td>\n",
       "    </tr>\n",
       "    <tr>\n",
       "      <th>169</th>\n",
       "      <td>8</td>\n",
       "      <td>0</td>\n",
       "      <td>9</td>\n",
       "      <td>0</td>\n",
       "      <td>0</td>\n",
       "      <td>5</td>\n",
       "      <td>2</td>\n",
       "      <td>0</td>\n",
       "      <td>11</td>\n",
       "      <td>1</td>\n",
       "      <td>...</td>\n",
       "      <td>7</td>\n",
       "      <td>1</td>\n",
       "      <td>6</td>\n",
       "      <td>17</td>\n",
       "      <td>0</td>\n",
       "      <td>1</td>\n",
       "      <td>8</td>\n",
       "      <td>0</td>\n",
       "      <td>0</td>\n",
       "      <td>212ae7f0</td>\n",
       "    </tr>\n",
       "    <tr>\n",
       "      <th>1323</th>\n",
       "      <td>0</td>\n",
       "      <td>3</td>\n",
       "      <td>10</td>\n",
       "      <td>0</td>\n",
       "      <td>1</td>\n",
       "      <td>5</td>\n",
       "      <td>0</td>\n",
       "      <td>0</td>\n",
       "      <td>39</td>\n",
       "      <td>3</td>\n",
       "      <td>...</td>\n",
       "      <td>12</td>\n",
       "      <td>0</td>\n",
       "      <td>3</td>\n",
       "      <td>27</td>\n",
       "      <td>0</td>\n",
       "      <td>7</td>\n",
       "      <td>6</td>\n",
       "      <td>2</td>\n",
       "      <td>0</td>\n",
       "      <td>f4ba4463</td>\n",
       "    </tr>\n",
       "  </tbody>\n",
       "</table>\n",
       "<p>5 rows × 36 columns</p>\n",
       "</div>"
      ],
      "text/plain": [
       "      would  your  to  because  he  is  should  under   ,  can  ...   a  will  \\\n",
       "907       6     1  13        7   2   7       6      0   1    4  ...   9     0   \n",
       "1312      0     0  27        2   0  16       0      0  22    1  ...   6     1   \n",
       "1229      0     0  27        2   0  11       2      0  23    2  ...  10     9   \n",
       "169       8     0   9        0   0   5       2      0  11    1  ...   7     1   \n",
       "1323      0     3  10        0   1   5       0      0  39    3  ...  12     0   \n",
       "\n",
       "      not   .  hate  in  for  you  generated        id  \n",
       "907     5  23     0   4    7    1          0  a2b8855e  \n",
       "1312    4  35     0  20    4    1          0  f3914f7c  \n",
       "1229    3  16     0  12   12    4          0  e579884d  \n",
       "169     6  17     0   1    8    0          0  212ae7f0  \n",
       "1323    3  27     0   7    6    2          0  f4ba4463  \n",
       "\n",
       "[5 rows x 36 columns]"
      ]
     },
     "execution_count": 9,
     "metadata": {},
     "output_type": "execute_result"
    }
   ],
   "source": [
    "# Split data to train and test #\n",
    "freq_train, freq_test = train_test_split(frequency_dt, test_size=0.2)\n",
    "freq_train.head()"
   ]
  },
  {
   "cell_type": "code",
   "execution_count": 10,
   "id": "1580c45b",
   "metadata": {
    "execution": {
     "iopub.execute_input": "2023-12-04T04:03:45.592901Z",
     "iopub.status.busy": "2023-12-04T04:03:45.591874Z",
     "iopub.status.idle": "2023-12-04T04:03:46.783027Z",
     "shell.execute_reply": "2023-12-04T04:03:46.781995Z"
    },
    "papermill": {
     "duration": 1.20084,
     "end_time": "2023-12-04T04:03:46.785353",
     "exception": false,
     "start_time": "2023-12-04T04:03:45.584513",
     "status": "completed"
    },
    "tags": []
   },
   "outputs": [
    {
     "data": {
      "image/png": "[encoded data removed]",
      "text/plain": [
       "<Figure size 640x480 with 1 Axes>"
      ]
     },
     "metadata": {},
     "output_type": "display_data"
    }
   ],
   "source": [
    "# plot to check words distribution #\n",
    "for i in computer_words:\n",
    "    freq_train[i].plot(kind='hist')"
   ]
  },
  {
   "cell_type": "code",
   "execution_count": 11,
   "id": "02361654",
   "metadata": {
    "execution": {
     "iopub.execute_input": "2023-12-04T04:03:46.799658Z",
     "iopub.status.busy": "2023-12-04T04:03:46.799242Z",
     "iopub.status.idle": "2023-12-04T04:03:47.072096Z",
     "shell.execute_reply": "2023-12-04T04:03:47.071128Z"
    },
    "papermill": {
     "duration": 0.282984,
     "end_time": "2023-12-04T04:03:47.074579",
     "exception": false,
     "start_time": "2023-12-04T04:03:46.791595",
     "status": "completed"
    },
    "tags": []
   },
   "outputs": [],
   "source": [
    "# calculate word occurrence in essays and apply softening/smoothing where required #\n",
    "counter_w = {}\n",
    "counter_wC = {}\n",
    "counter_C = 0\n",
    "for index,row in freq_train.iterrows():\n",
    "    if row['generated']:counter_C+=1\n",
    "    for i in computer_words:\n",
    "        if row[i]>=number:\n",
    "            if i in counter_w.keys():counter_w[i]+=1\n",
    "            else:counter_w[i] = 1\n",
    "            if row['generated']:\n",
    "                if i in counter_wC.keys():counter_wC[i]+=1\n",
    "                else:counter_wC[i] = 1\n",
    "            else:counter_wC[i] = 0"
   ]
  },
  {
   "cell_type": "code",
   "execution_count": 12,
   "id": "e127563e",
   "metadata": {
    "execution": {
     "iopub.execute_input": "2023-12-04T04:03:47.089135Z",
     "iopub.status.busy": "2023-12-04T04:03:47.088722Z",
     "iopub.status.idle": "2023-12-04T04:03:47.096024Z",
     "shell.execute_reply": "2023-12-04T04:03:47.094986Z"
    },
    "papermill": {
     "duration": 0.017626,
     "end_time": "2023-12-04T04:03:47.098609",
     "exception": false,
     "start_time": "2023-12-04T04:03:47.080983",
     "status": "completed"
    },
    "tags": []
   },
   "outputs": [
    {
     "name": "stdout",
     "output_type": "stream",
     "text": [
      "0.0021770682148040637\n",
      "{'would': 0.16545718432510886, 'to': 0.785921625544267, 'because': 0.11538461538461539, 'is': 0.6785195936139332, 'should': 0.08925979680696662, 'the': 0.7808417997097242, 'of': 0.7866473149492017, 'a': 0.762699564586357, 'not': 0.2793904208998549, '.': 0.7997097242380261, 'for': 0.49056603773584906, ',': 0.7772133526850508, 'cars': 0.2946298984034833, 'in': 0.714078374455733, 'we': 0.1799709724238026, 'will': 0.12191582002902758, 'you': 0.19230769230769232, 'an': 0.04281567489114659, 'I': 0.08635703918722787, 'like': 0.023222060957910014, 'could': 0.03701015965166909, 'can': 0.1313497822931785, 'your': 0.059506531204644414, 'she': 0.0021770682148040637, 'he': 0.007982583454281567, 'love': 0.000725689404934688, 'over': 0.0021770682148040637}\n",
      "{'would': 0.03333333333333333, 'to': 0.03333333333333333, 'because': 0.03333333333333333, 'is': 0.03333333333333333, 'should': 0.03333333333333333, 'the': 0.03333333333333333, 'of': 0.03333333333333333, 'a': 0.03333333333333333, 'not': 0.03333333333333333, '.': 0.03333333333333333, 'for': 0.03333333333333333, ',': 0.03333333333333333, 'cars': 0.03333333333333333, 'in': 0.03333333333333333, 'we': 0.03333333333333333, 'will': 0.03333333333333333, 'you': 0.03333333333333333, 'an': 0.03333333333333333, 'I': 0.03333333333333333, 'like': 0.03333333333333333, 'could': 0.03333333333333333, 'can': 0.03333333333333333, 'your': 0.03333333333333333, 'she': 0.03333333333333333, 'he': 0.03333333333333333, 'love': 0.03333333333333333, 'over': 0.03333333333333333}\n"
     ]
    }
   ],
   "source": [
    "# calculate word probabilities and store in dictionary #\n",
    "total_docs = len(frequency_dt)\n",
    "prob_C = counter_C / total_docs\n",
    "prob_w= {}\n",
    "prob_wC = {}\n",
    "\n",
    "for key,val in counter_w.items():\n",
    "    if val <=0:\n",
    "        total_docs+=1\n",
    "        counter_w[key]=val+1\n",
    "    if counter_wC[key] <=0:\n",
    "        counter_C+=1\n",
    "        counter_wC[key]+=1\n",
    "for key,val in counter_w.items():\n",
    "    prob_w[key] = val/total_docs\n",
    "    prob_wC[key] = counter_wC[key] / counter_C\n",
    "print(prob_C)\n",
    "print(prob_w)\n",
    "print(prob_wC)"
   ]
  },
  {
   "cell_type": "code",
   "execution_count": 13,
   "id": "4dc7a5a9",
   "metadata": {
    "execution": {
     "iopub.execute_input": "2023-12-04T04:03:47.113264Z",
     "iopub.status.busy": "2023-12-04T04:03:47.112844Z",
     "iopub.status.idle": "2023-12-04T04:03:47.118816Z",
     "shell.execute_reply": "2023-12-04T04:03:47.117474Z"
    },
    "papermill": {
     "duration": 0.015897,
     "end_time": "2023-12-04T04:03:47.120994",
     "exception": false,
     "start_time": "2023-12-04T04:03:47.105097",
     "status": "completed"
    },
    "tags": []
   },
   "outputs": [],
   "source": [
    "# method to calculate probability using Naive Bayes Classifier #\n",
    "def classify():\n",
    "    pw = 1\n",
    "    pwC = 1\n",
    "    for key,val in prob_w.items():\n",
    "        pw*=prob_w[key]\n",
    "        pwC*=prob_wC[key]\n",
    "    \n",
    "    return (pwC*prob_C)/pwC"
   ]
  },
  {
   "cell_type": "code",
   "execution_count": 14,
   "id": "9cc71b34",
   "metadata": {
    "execution": {
     "iopub.execute_input": "2023-12-04T04:03:47.135004Z",
     "iopub.status.busy": "2023-12-04T04:03:47.134580Z",
     "iopub.status.idle": "2023-12-04T04:03:47.560841Z",
     "shell.execute_reply": "2023-12-04T04:03:47.559604Z"
    },
    "papermill": {
     "duration": 0.435899,
     "end_time": "2023-12-04T04:03:47.563116",
     "exception": false,
     "start_time": "2023-12-04T04:03:47.127217",
     "status": "completed"
    },
    "tags": []
   },
   "outputs": [
    {
     "data": {
      "text/html": [
       "<div>\n",
       "<style scoped>\n",
       "    .dataframe tbody tr th:only-of-type {\n",
       "        vertical-align: middle;\n",
       "    }\n",
       "\n",
       "    .dataframe tbody tr th {\n",
       "        vertical-align: top;\n",
       "    }\n",
       "\n",
       "    .dataframe thead th {\n",
       "        text-align: right;\n",
       "    }\n",
       "</style>\n",
       "<table border=\"1\" class=\"dataframe\">\n",
       "  <thead>\n",
       "    <tr style=\"text-align: right;\">\n",
       "      <th></th>\n",
       "      <th>id</th>\n",
       "      <th>predicted</th>\n",
       "      <th>generated</th>\n",
       "    </tr>\n",
       "  </thead>\n",
       "  <tbody>\n",
       "    <tr>\n",
       "      <th>0</th>\n",
       "      <td>8fd9033c</td>\n",
       "      <td>0.002177</td>\n",
       "      <td>0</td>\n",
       "    </tr>\n",
       "    <tr>\n",
       "      <th>1</th>\n",
       "      <td>a1939e1f</td>\n",
       "      <td>0.002177</td>\n",
       "      <td>0</td>\n",
       "    </tr>\n",
       "    <tr>\n",
       "      <th>2</th>\n",
       "      <td>63cdce2d</td>\n",
       "      <td>0.002177</td>\n",
       "      <td>0</td>\n",
       "    </tr>\n",
       "    <tr>\n",
       "      <th>3</th>\n",
       "      <td>f4a87fe8</td>\n",
       "      <td>0.002177</td>\n",
       "      <td>0</td>\n",
       "    </tr>\n",
       "    <tr>\n",
       "      <th>4</th>\n",
       "      <td>fc66a299</td>\n",
       "      <td>0.002177</td>\n",
       "      <td>0</td>\n",
       "    </tr>\n",
       "  </tbody>\n",
       "</table>\n",
       "</div>"
      ],
      "text/plain": [
       "         id  predicted  generated\n",
       "0  8fd9033c   0.002177          0\n",
       "1  a1939e1f   0.002177          0\n",
       "2  63cdce2d   0.002177          0\n",
       "3  f4a87fe8   0.002177          0\n",
       "4  fc66a299   0.002177          0"
      ]
     },
     "execution_count": 14,
     "metadata": {},
     "output_type": "execute_result"
    }
   ],
   "source": [
    "# check test data against prediction #\n",
    "predicted = pd.DataFrame([],columns=['id','predicted','generated'])\n",
    "for index,row in freq_test.iterrows():\n",
    "    predicted.loc[len(predicted)] = {'id':row['id'],'predicted':classify(),'generated':row['generated']}\n",
    "predicted.head()"
   ]
  },
  {
   "cell_type": "code",
   "execution_count": 15,
   "id": "4997ba94",
   "metadata": {
    "execution": {
     "iopub.execute_input": "2023-12-04T04:03:47.578808Z",
     "iopub.status.busy": "2023-12-04T04:03:47.578017Z",
     "iopub.status.idle": "2023-12-04T04:03:47.595130Z",
     "shell.execute_reply": "2023-12-04T04:03:47.594048Z"
    },
    "papermill": {
     "duration": 0.026909,
     "end_time": "2023-12-04T04:03:47.597226",
     "exception": false,
     "start_time": "2023-12-04T04:03:47.570317",
     "status": "completed"
    },
    "tags": []
   },
   "outputs": [
    {
     "data": {
      "text/html": [
       "<div>\n",
       "<style scoped>\n",
       "    .dataframe tbody tr th:only-of-type {\n",
       "        vertical-align: middle;\n",
       "    }\n",
       "\n",
       "    .dataframe tbody tr th {\n",
       "        vertical-align: top;\n",
       "    }\n",
       "\n",
       "    .dataframe thead th {\n",
       "        text-align: right;\n",
       "    }\n",
       "</style>\n",
       "<table border=\"1\" class=\"dataframe\">\n",
       "  <thead>\n",
       "    <tr style=\"text-align: right;\">\n",
       "      <th></th>\n",
       "      <th>id</th>\n",
       "      <th>generated</th>\n",
       "    </tr>\n",
       "  </thead>\n",
       "  <tbody>\n",
       "    <tr>\n",
       "      <th>0</th>\n",
       "      <td>0000aaaa</td>\n",
       "      <td>0.002177</td>\n",
       "    </tr>\n",
       "    <tr>\n",
       "      <th>1</th>\n",
       "      <td>1111bbbb</td>\n",
       "      <td>0.002177</td>\n",
       "    </tr>\n",
       "    <tr>\n",
       "      <th>2</th>\n",
       "      <td>2222cccc</td>\n",
       "      <td>0.002177</td>\n",
       "    </tr>\n",
       "  </tbody>\n",
       "</table>\n",
       "</div>"
      ],
      "text/plain": [
       "         id  generated\n",
       "0  0000aaaa   0.002177\n",
       "1  1111bbbb   0.002177\n",
       "2  2222cccc   0.002177"
      ]
     },
     "execution_count": 15,
     "metadata": {},
     "output_type": "execute_result"
    }
   ],
   "source": [
    "# generate submission dataframe as per requirement on actual test data #\n",
    "test_dt = pd.DataFrame([],columns=['id','generated'])\n",
    "for index,row in test_essays.iterrows():\n",
    "    test_dt.loc[len(test_dt)] = {'id':row['id'],'generated':classify()}\n",
    "test_dt.head()"
   ]
  },
  {
   "cell_type": "code",
   "execution_count": 16,
   "id": "b30338ff",
   "metadata": {
    "execution": {
     "iopub.execute_input": "2023-12-04T04:03:47.612466Z",
     "iopub.status.busy": "2023-12-04T04:03:47.612016Z",
     "iopub.status.idle": "2023-12-04T04:03:47.620234Z",
     "shell.execute_reply": "2023-12-04T04:03:47.619008Z"
    },
    "papermill": {
     "duration": 0.018963,
     "end_time": "2023-12-04T04:03:47.622912",
     "exception": false,
     "start_time": "2023-12-04T04:03:47.603949",
     "status": "completed"
    },
    "tags": []
   },
   "outputs": [],
   "source": [
    "# convert submission dataframe to csv file for submission #\n",
    "test_dt.to_csv('submission.csv',index=False)"
   ]
  },
  {
   "cell_type": "code",
   "execution_count": null,
   "id": "9ba197f2",
   "metadata": {
    "papermill": {
     "duration": 0.00634,
     "end_time": "2023-12-04T04:03:47.636033",
     "exception": false,
     "start_time": "2023-12-04T04:03:47.629693",
     "status": "completed"
    },
    "tags": []
   },
   "outputs": [],
   "source": []
  }
 ],
 "metadata": {
  "kaggle": {
   "accelerator": "none",
   "dataSources": [
    {
     "databundleVersionId": 6888007,
     "sourceId": 61542,
     "sourceType": "competition"
    }
   ],
   "dockerImageVersionId": 30587,
   "isGpuEnabled": false,
   "isInternetEnabled": false,
   "language": "python",
   "sourceType": "notebook"
  },
  "kernelspec": {
   "display_name": "Python 3",
   "language": "python",
   "name": "python3"
  },
  "language_info": {
   "codemirror_mode": {
    "name": "ipython",
    "version": 3
   },
   "file_extension": ".py",
   "mimetype": "text/x-python",
   "name": "python",
   "nbconvert_exporter": "python",
   "pygments_lexer": "ipython3",
   "version": "3.10.12"
  },
  "papermill": {
   "default_parameters": {},
   "duration": 21.236469,
   "end_time": "2023-12-04T04:03:48.267559",
   "environment_variables": {},
   "exception": null,
   "input_path": "__notebook__.ipynb",
   "output_path": "__notebook__.ipynb",
   "parameters": {},
   "start_time": "2023-12-04T04:03:27.031090",
   "version": "2.4.0"
  }
 },
 "nbformat": 4,
 "nbformat_minor": 5
}
